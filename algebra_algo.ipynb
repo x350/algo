{
 "cells": [
  {
   "cell_type": "markdown",
   "metadata": {},
   "source": [
    "# Наибольший общий делитель"
   ]
  },
  {
   "cell_type": "code",
   "execution_count": 4,
   "metadata": {},
   "outputs": [],
   "source": [
    "import time\n",
    "import numpy as np\n",
    "np.set_printoptions(suppress=True)"
   ]
  },
  {
   "cell_type": "markdown",
   "metadata": {},
   "source": [
    "###  НОД через вычитание"
   ]
  },
  {
   "cell_type": "code",
   "execution_count": 5,
   "metadata": {},
   "outputs": [],
   "source": [
    "def timing(function):\n",
    "    import time   \n",
    "    \n",
    "    def wrapper(a, b):\n",
    "        start = time.time()\n",
    "        print(function(a, b))\n",
    "        stop = time.time()\n",
    "        print('{:f} секунд'.format(stop - start))\n",
    "    return wrapper"
   ]
  },
  {
   "cell_type": "code",
   "execution_count": 6,
   "metadata": {},
   "outputs": [],
   "source": [
    "@timing\n",
    "def nod(a, b):\n",
    "    if a == b:\n",
    "        return a\n",
    "    while a != b:\n",
    "        if a > b:\n",
    "            a = a - b\n",
    "        else:\n",
    "            b = b - a\n",
    "    return a"
   ]
  },
  {
   "cell_type": "code",
   "execution_count": 7,
   "metadata": {},
   "outputs": [
    {
     "name": "stdout",
     "output_type": "stream",
     "text": [
      "5\n",
      "0.000139 секунд\n"
     ]
    }
   ],
   "source": [
    "nod(125, 15)"
   ]
  },
  {
   "cell_type": "code",
   "execution_count": 8,
   "metadata": {},
   "outputs": [],
   "source": [
    "def timing_common(function):\n",
    "    start = time.time()\n",
    "    print(function)\n",
    "    stop = time.time()\n",
    "    print('{:f}'.format(stop - start))"
   ]
  },
  {
   "cell_type": "markdown",
   "metadata": {},
   "source": [
    "### НОД через остаток от деления"
   ]
  },
  {
   "cell_type": "code",
   "execution_count": 9,
   "metadata": {},
   "outputs": [],
   "source": [
    "@timing\n",
    "def nod_mod(a, b):\n",
    "    if a == 0:\n",
    "        return b\n",
    "    if b == 0:\n",
    "        return a\n",
    "    while((a != 0) and (b != 0)):\n",
    "        if a > b:\n",
    "            a = a % b\n",
    "        else:\n",
    "            b = b % a\n",
    "    return max([a, b])"
   ]
  },
  {
   "cell_type": "code",
   "execution_count": 10,
   "metadata": {},
   "outputs": [
    {
     "name": "stdout",
     "output_type": "stream",
     "text": [
      "2\n",
      "0.000138 секунд\n"
     ]
    }
   ],
   "source": [
    "nod_mod(2334567890, 12)"
   ]
  },
  {
   "cell_type": "markdown",
   "metadata": {},
   "source": [
    "### НОД рекурсия"
   ]
  },
  {
   "cell_type": "code",
   "execution_count": 11,
   "metadata": {},
   "outputs": [],
   "source": [
    "def gcd(a, b):\n",
    "    if (b == 0): \n",
    "        return a\n",
    "    return gcd(b, a % b)"
   ]
  },
  {
   "cell_type": "code",
   "execution_count": 13,
   "metadata": {},
   "outputs": [
    {
     "name": "stdout",
     "output_type": "stream",
     "text": [
      "5\n",
      "0.000138\n"
     ]
    }
   ],
   "source": [
    "timing_common(gcd(15, 125))"
   ]
  },
  {
   "cell_type": "code",
   "execution_count": 14,
   "metadata": {},
   "outputs": [
    {
     "name": "stdout",
     "output_type": "stream",
     "text": [
      "6\n",
      "0.000435\n"
     ]
    }
   ],
   "source": [
    "timing_common(gcd(12334567890, 12))"
   ]
  },
  {
   "cell_type": "markdown",
   "metadata": {},
   "source": [
    "### сдвиг с рекурсией"
   ]
  },
  {
   "cell_type": "code",
   "execution_count": 16,
   "metadata": {},
   "outputs": [],
   "source": [
    "def bin_gcd(a, b):\n",
    "    if a == b:\n",
    "        return a\n",
    "    if a == 0:\n",
    "        return b\n",
    "    if b == 0:\n",
    "        return a\n",
    "    \n",
    "    if(~a & 1): # a - четн\n",
    "        if(b & 1): # b - нечет\n",
    "            return bin_gcd(a >> 1, b)\n",
    "        else: # a и b  - четн\n",
    "            return bin_gcd(a >> 1, b >> 1) << 1\n",
    "        \n",
    "    if(~b & 1):  # a  - нечет, b  - четн\n",
    "        return bin_gcd(a, b >> 1)\n",
    "\n",
    "    \n",
    "    if(a > b):\n",
    "        return bin_gcd((a - b) >> 1, b)\n",
    "    else:\n",
    "        return bin_gcd((b - a) >> 1, a)"
   ]
  },
  {
   "cell_type": "code",
   "execution_count": 17,
   "metadata": {},
   "outputs": [
    {
     "name": "stdout",
     "output_type": "stream",
     "text": [
      "6\n",
      "0.000055\n"
     ]
    }
   ],
   "source": [
    "timing_common(bin_gcd(12334567890, 12))"
   ]
  },
  {
   "cell_type": "markdown",
   "metadata": {},
   "source": [
    "### сдвиг с циклами"
   ]
  },
  {
   "cell_type": "code",
   "execution_count": 19,
   "metadata": {},
   "outputs": [],
   "source": [
    "@timing\n",
    "def bin_iter_gcd(a, b):\n",
    "    shift = 0\n",
    "    if a == 0:\n",
    "        return b\n",
    "    if b == 0:\n",
    "        return a\n",
    "    \n",
    "    while((( a | b) & 1) == 0):\n",
    "        shift += 1\n",
    "        a >>= 1\n",
    "        b >>= 1\n",
    "    \n",
    "    while((a & 1) == 0):\n",
    "        b >>= 1\n",
    "        \n",
    "    while True:\n",
    "        while((b & 1) == 0):\n",
    "            b >>= 1\n",
    "        if(a > b):\n",
    "            a, b = b, a\n",
    "        b -= a\n",
    "        \n",
    "        if(b == 0):\n",
    "            break\n",
    "    \n",
    "    return a << shift\n",
    "        "
   ]
  },
  {
   "cell_type": "code",
   "execution_count": 21,
   "metadata": {},
   "outputs": [
    {
     "name": "stdout",
     "output_type": "stream",
     "text": [
      "6\n",
      "0.000380 секунд\n"
     ]
    }
   ],
   "source": [
    "bin_iter_gcd(12334567890, 12)"
   ]
  },
  {
   "cell_type": "markdown",
   "metadata": {},
   "source": [
    "### таблица сравнения"
   ]
  },
  {
   "cell_type": "code",
   "execution_count": 23,
   "metadata": {},
   "outputs": [],
   "source": [
    "a = 12334567890\n",
    "b = 12"
   ]
  },
  {
   "cell_type": "code",
   "execution_count": 24,
   "metadata": {},
   "outputs": [
    {
     "name": "stdout",
     "output_type": "stream",
     "text": [
      "НОД вычитание\n",
      "6\n",
      "50.945933 секунд\n",
      "----------\n",
      "НОД остаток от деления\n",
      "6\n",
      "0.000012 секунд\n",
      "----------\n",
      "НОД рекрсия\n",
      "6\n",
      "0.000012\n",
      "----------\n",
      "НОД битовые операции с рекурсией\n",
      "6\n",
      "0.000017\n",
      "----------\n",
      "НОД битовые операции с циклом\n",
      "6\n",
      "0.000019 секунд\n"
     ]
    }
   ],
   "source": [
    "print('НОД вычитание')\n",
    "nod(a,b)\n",
    "print('----------')\n",
    "print('НОД остаток от деления')\n",
    "nod_mod(a, b)\n",
    "print('----------')\n",
    "print('НОД рекрсия')\n",
    "timing_common(gcd(a, b))\n",
    "print('----------')\n",
    "print('НОД битовые операции с рекурсией')\n",
    "timing_common(bin_gcd(a, b))\n",
    "print('----------')\n",
    "print('НОД битовые операции с циклом')\n",
    "bin_iter_gcd(a, b)"
   ]
  },
  {
   "cell_type": "markdown",
   "metadata": {},
   "source": [
    "# Степень"
   ]
  },
  {
   "cell_type": "markdown",
   "metadata": {},
   "source": [
    "### итеративный"
   ]
  },
  {
   "cell_type": "code",
   "execution_count": 25,
   "metadata": {},
   "outputs": [],
   "source": [
    "@timing\n",
    "def power_iter(base, power):\n",
    "    result = 1\n",
    "    for _ in range(0, power):\n",
    "        result *= base\n",
    "    return result"
   ]
  },
  {
   "cell_type": "code",
   "execution_count": 26,
   "metadata": {},
   "outputs": [
    {
     "name": "stdout",
     "output_type": "stream",
     "text": [
      "1\n",
      "0.000583 секунд\n"
     ]
    }
   ],
   "source": [
    "power_iter(2, 0)"
   ]
  },
  {
   "cell_type": "markdown",
   "metadata": {},
   "source": [
    "### быстрое возведение в степень"
   ]
  },
  {
   "cell_type": "code",
   "execution_count": 27,
   "metadata": {},
   "outputs": [],
   "source": [
    "@timing\n",
    "def power_m(base, power):\n",
    "    res = 1\n",
    "    while power > 1:\n",
    "        if power % 2 == 1:\n",
    "            res *= base\n",
    "        base *= base\n",
    "        power //= 2\n",
    "    if power > 0:\n",
    "        res *= base\n",
    "    return res"
   ]
  },
  {
   "cell_type": "code",
   "execution_count": 28,
   "metadata": {},
   "outputs": [
    {
     "name": "stdout",
     "output_type": "stream",
     "text": [
      "1\n",
      "0.000045 секунд\n"
     ]
    }
   ],
   "source": [
    "power_m(2, 0)"
   ]
  },
  {
   "cell_type": "code",
   "execution_count": 29,
   "metadata": {},
   "outputs": [
    {
     "data": {
      "text/plain": [
       "1"
      ]
     },
     "execution_count": 29,
     "metadata": {},
     "output_type": "execute_result"
    }
   ],
   "source": [
    "pow(2,0)"
   ]
  },
  {
   "cell_type": "code",
   "execution_count": 30,
   "metadata": {},
   "outputs": [
    {
     "name": "stdout",
     "output_type": "stream",
     "text": [
      "2.7182804691564275\n",
      "0.000138 секунд\n"
     ]
    }
   ],
   "source": [
    "power_m(1.000001, 1000000)"
   ]
  },
  {
   "cell_type": "markdown",
   "metadata": {},
   "source": [
    "$e = \\lim_{x\\to\\infty}(1+ 1/n)^n$"
   ]
  },
  {
   "cell_type": "markdown",
   "metadata": {},
   "source": [
    "### степень двойки с домножением"
   ]
  },
  {
   "cell_type": "code",
   "execution_count": 31,
   "metadata": {},
   "outputs": [],
   "source": [
    "@timing\n",
    "def pow_2_half(base, power):\n",
    "    a = base\n",
    "    if power == 0:\n",
    "        return 1\n",
    "    temp = 2\n",
    "    while (temp <= power):\n",
    "        a *= a\n",
    "        temp += temp\n",
    "    if temp / 2 == power:\n",
    "        return a\n",
    "    else:\n",
    "        for item in range(power - temp//2):\n",
    "            a *= base\n",
    "    return a\n",
    "    "
   ]
  },
  {
   "cell_type": "code",
   "execution_count": 32,
   "metadata": {},
   "outputs": [
    {
     "name": "stdout",
     "output_type": "stream",
     "text": [
      "2.7182804691276115\n",
      "0.014153 секунд\n"
     ]
    }
   ],
   "source": [
    "pow_2_half(1.000001, 1000000)"
   ]
  },
  {
   "cell_type": "markdown",
   "metadata": {},
   "source": [
    "### таблица сравнения"
   ]
  },
  {
   "cell_type": "code",
   "execution_count": 33,
   "metadata": {},
   "outputs": [
    {
     "name": "stdout",
     "output_type": "stream",
     "text": [
      "Итеративный алгоритм\n",
      "2.7182804690959363\n",
      "0.031829 секунд\n",
      "----------\n",
      "степень двойки с домножением\n",
      "2.7182804691276115\n",
      "0.015445 секунд\n",
      "----------\n",
      "быстрое возведение в степень\n",
      "2.7182804691564275\n",
      "0.000035 секунд\n",
      "----------\n"
     ]
    }
   ],
   "source": [
    "print('Итеративный алгоритм')\n",
    "power_iter(1.000001, 1000000)\n",
    "print('----------')\n",
    "print('степень двойки с домножением')\n",
    "pow_2_half(1.000001, 1000000)\n",
    "print('----------')\n",
    "print('быстрое возведение в степень')\n",
    "power_m(1.000001, 1000000)\n",
    "print('----------')"
   ]
  },
  {
   "cell_type": "markdown",
   "metadata": {},
   "source": [
    "# Алгоритм нахождения всех простых чисел дл N"
   ]
  },
  {
   "cell_type": "markdown",
   "metadata": {},
   "source": [
    "### сначала - определить, является ли число N простое"
   ]
  },
  {
   "cell_type": "markdown",
   "metadata": {},
   "source": [
    "### полный перебор"
   ]
  },
  {
   "cell_type": "code",
   "execution_count": 34,
   "metadata": {},
   "outputs": [],
   "source": [
    "def prime(p):\n",
    "    d = 0\n",
    "    for item in range(1, p + 1):\n",
    "        if ( p % item == 0):\n",
    "            d += 1\n",
    "    return d == 2"
   ]
  },
  {
   "cell_type": "code",
   "execution_count": 35,
   "metadata": {},
   "outputs": [
    {
     "data": {
      "text/plain": [
       "True"
      ]
     },
     "execution_count": 35,
     "metadata": {},
     "output_type": "execute_result"
    }
   ],
   "source": [
    "prime(1997)"
   ]
  },
  {
   "cell_type": "code",
   "execution_count": 36,
   "metadata": {},
   "outputs": [],
   "source": [
    "@timing\n",
    "def count_prime(number, function):\n",
    "    count = 0\n",
    "    for item in range(2, number +1):\n",
    "        if function(item):\n",
    "            count +=1\n",
    "    return count\n",
    "\n",
    "    "
   ]
  },
  {
   "cell_type": "code",
   "execution_count": 37,
   "metadata": {},
   "outputs": [
    {
     "name": "stdout",
     "output_type": "stream",
     "text": [
      "9592\n",
      "228.660486 секунд\n"
     ]
    }
   ],
   "source": [
    "count_prime(100000, prime)"
   ]
  },
  {
   "cell_type": "markdown",
   "metadata": {},
   "source": [
    "### выбросим все четные (можно и не делеить на четные)"
   ]
  },
  {
   "cell_type": "code",
   "execution_count": 43,
   "metadata": {},
   "outputs": [],
   "source": [
    "\n",
    "def prime_1(p):\n",
    "    if (p == 2):\n",
    "        return True\n",
    "    if (~p&1):\n",
    "        return False\n",
    "    for item in range(3, p, 2):\n",
    "#         print(item)\n",
    "        if(p % item == 0):\n",
    "            return False\n",
    "    return True"
   ]
  },
  {
   "cell_type": "code",
   "execution_count": 44,
   "metadata": {},
   "outputs": [
    {
     "name": "stdout",
     "output_type": "stream",
     "text": [
      "9592\n",
      "10.212165 секунд\n"
     ]
    }
   ],
   "source": [
    "count_prime(100000, prime_1)"
   ]
  },
  {
   "cell_type": "markdown",
   "metadata": {},
   "source": [
    "### перебор до корня из p"
   ]
  },
  {
   "cell_type": "code",
   "execution_count": 45,
   "metadata": {},
   "outputs": [],
   "source": [
    "import math\n",
    "def prime_2(p):\n",
    "    if p == 2:\n",
    "        return True\n",
    "    if (~p&1):\n",
    "        return False   \n",
    "    border = round(math.sqrt(p)) + 1\n",
    "    for item in range(3, border, 2):\n",
    "        if ( p % item == 0):\n",
    "            return False\n",
    "    return True"
   ]
  },
  {
   "cell_type": "code",
   "execution_count": 46,
   "metadata": {},
   "outputs": [
    {
     "name": "stdout",
     "output_type": "stream",
     "text": [
      "9592\n",
      "0.077671 секунд\n"
     ]
    }
   ],
   "source": [
    "count_prime(100000, prime_2)"
   ]
  },
  {
   "cell_type": "markdown",
   "metadata": {},
   "source": [
    "### сохранять простые числа и делить на них"
   ]
  },
  {
   "cell_type": "code",
   "execution_count": 47,
   "metadata": {},
   "outputs": [],
   "source": [
    "import math\n",
    "def count_prime_with_storage_prime(p):\n",
    "    primes = []\n",
    "    count = 0\n",
    "    \n",
    "    def prime_3(p):\n",
    "        if p == 2:\n",
    "            return True\n",
    "        if (~p&1):\n",
    "            return False       \n",
    "        border = round(math.sqrt(len(primes)))\n",
    "        for item in range(border):\n",
    "            if ( p % primes[item] == 0):\n",
    "                return False\n",
    "        return True\n",
    "    \n",
    "    \n",
    "    for item in range(2, 100000 +1):\n",
    "        if prime_3(item):\n",
    "            primes.append(item)\n",
    "            count +=1\n",
    "    return count\n",
    "            \n"
   ]
  },
  {
   "cell_type": "code",
   "execution_count": 48,
   "metadata": {},
   "outputs": [
    {
     "name": "stdout",
     "output_type": "stream",
     "text": [
      "9592\n",
      "0.000054\n"
     ]
    }
   ],
   "source": [
    "timing_common(count_prime_with_storage_prime(100000))"
   ]
  },
  {
   "cell_type": "markdown",
   "metadata": {},
   "source": [
    "### решето с for"
   ]
  },
  {
   "cell_type": "code",
   "execution_count": 49,
   "metadata": {},
   "outputs": [],
   "source": [
    "def eratosthenes(n):     \n",
    "    separator = list(range(n + 1))\n",
    "    separator[1] = 0\n",
    "    for i in separator:\n",
    "        if i > 1:\n",
    "            for j in range(i * i, len(separator), i):\n",
    "                separator[j] = 0\n",
    "    answer = set(separator)\n",
    "    answer.remove(0)\n",
    "    return len(list(answer))"
   ]
  },
  {
   "cell_type": "code",
   "execution_count": 50,
   "metadata": {},
   "outputs": [
    {
     "name": "stdout",
     "output_type": "stream",
     "text": [
      "9592\n",
      "0.000159\n"
     ]
    }
   ],
   "source": [
    "timing_common(eratosthenes(100000))"
   ]
  },
  {
   "cell_type": "markdown",
   "metadata": {},
   "source": [
    "### Решето c while  и numpy"
   ]
  },
  {
   "cell_type": "code",
   "execution_count": 51,
   "metadata": {},
   "outputs": [],
   "source": [
    "import numpy as np\n",
    "def eratosphens_separator(n):\n",
    "    arr = np.array(range(0, n+1))\n",
    "    arr[1] = 0\n",
    "    i= 2\n",
    "    while i <= n:\n",
    "        if arr[i] != 0:\n",
    "            temp =  i * i\n",
    "            while temp <= n:\n",
    "                arr[temp] = 0\n",
    "                temp += i\n",
    "        i += 1\n",
    "    \n",
    "    prime_arr = set(arr)\n",
    "    prime_arr.remove(0)\n",
    "    return len(list(prime_arr))\n",
    "    "
   ]
  },
  {
   "cell_type": "code",
   "execution_count": 52,
   "metadata": {},
   "outputs": [
    {
     "name": "stdout",
     "output_type": "stream",
     "text": [
      "9592\n",
      "0.000116\n"
     ]
    }
   ],
   "source": [
    "timing_common(eratosphens_separator(100000))"
   ]
  },
  {
   "cell_type": "markdown",
   "metadata": {},
   "source": [
    "### Решето за O(n)"
   ]
  },
  {
   "cell_type": "code",
   "execution_count": 53,
   "metadata": {},
   "outputs": [],
   "source": [
    "def eratosphen_o_n(n):\n",
    "    lp = [0] * (n + 1)\n",
    "    pr = []\n",
    "    \n",
    "    for i in range(2, n + 1):\n",
    "        if lp[i] == 0:\n",
    "            lp[i] = i\n",
    "            pr.append(i)\n",
    "        p = 0\n",
    "        while ((p < len(pr)) and (pr[p] <= lp[i]) and (i * pr[p] <= n )):\n",
    "            lp[pr[p] * i] = pr[p]\n",
    "#             print('pr[p] =', pr[p], ' * ', 'i= ', i, '->', pr[p])\n",
    "            p += 1\n",
    "#             print(lp)\n",
    "#             print(pr)\n",
    "    return len(pr)    "
   ]
  },
  {
   "cell_type": "code",
   "execution_count": 54,
   "metadata": {},
   "outputs": [
    {
     "name": "stdout",
     "output_type": "stream",
     "text": [
      "9592\n",
      "0.000140\n"
     ]
    }
   ],
   "source": [
    "timing_common(eratosphen_o_n(100000))"
   ]
  },
  {
   "cell_type": "markdown",
   "metadata": {},
   "source": [
    "### таблица"
   ]
  },
  {
   "cell_type": "code",
   "execution_count": 55,
   "metadata": {},
   "outputs": [
    {
     "name": "stdout",
     "output_type": "stream",
     "text": [
      "Полный перебор чисел\n",
      "9592\n",
      "223.962711 секунд\n",
      "----------\n",
      "Выброшены все четные\n",
      "9592\n",
      "10.454550 секунд\n",
      "----------\n",
      "Перебор дл корня из p\n",
      "9592\n",
      "0.074153 секунд\n",
      "----------\n",
      "Cохранять простые числа и делить на них\n",
      "9592\n",
      "0.000056\n",
      "----------\n",
      "Решето Эратосфена, вариант 1\n",
      "9592\n",
      "0.000052\n",
      "----------\n",
      "Решето Эратосфена, на numpy\n",
      "9592\n",
      "0.000039\n",
      "----------\n",
      "Решето Эратосфена, за O(n)\n",
      "9592\n",
      "0.000043\n",
      "----------\n"
     ]
    }
   ],
   "source": [
    "print('Полный перебор чисел')\n",
    "count_prime(100000, prime)\n",
    "print('----------')\n",
    "print('Выброшены все четные')\n",
    "count_prime(100000, prime_1)\n",
    "print('----------')\n",
    "print('Перебор дл корня из p')\n",
    "count_prime(100000, prime_2)\n",
    "print('----------')\n",
    "print('Cохранять простые числа и делить на них')\n",
    "timing_common(count_prime_with_storage_prime(100000))\n",
    "print('----------')\n",
    "print('Решето Эратосфена, вариант 1')\n",
    "timing_common(eratosthenes(100000))\n",
    "print('----------')\n",
    "print('Решето Эратосфена, на numpy')\n",
    "timing_common(eratosphens_separator(100000))\n",
    "print('----------')\n",
    "print('Решето Эратосфена, за O(n)')\n",
    "timing_common(eratosphen_o_n(100000))\n",
    "print('----------')"
   ]
  },
  {
   "cell_type": "markdown",
   "metadata": {},
   "source": [
    "# Число Фибоначчи"
   ]
  },
  {
   "cell_type": "markdown",
   "metadata": {},
   "source": [
    "### через рекурсию"
   ]
  },
  {
   "cell_type": "code",
   "execution_count": 56,
   "metadata": {},
   "outputs": [],
   "source": [
    "def f(n):\n",
    "    if n <= 2:\n",
    "        return 1\n",
    "    else:\n",
    "        return f(n-1) + f(n-2)"
   ]
  },
  {
   "cell_type": "code",
   "execution_count": 57,
   "metadata": {},
   "outputs": [
    {
     "name": "stdout",
     "output_type": "stream",
     "text": [
      "102334155\n",
      "0.000054\n"
     ]
    }
   ],
   "source": [
    "timing_common(f(40))"
   ]
  },
  {
   "cell_type": "code",
   "execution_count": 58,
   "metadata": {},
   "outputs": [
    {
     "name": "stdout",
     "output_type": "stream",
     "text": [
      "102334155\n",
      "16.294320 секунд\n"
     ]
    }
   ],
   "source": [
    "start = time.time()\n",
    "print(f(40))\n",
    "stop = time.time()\n",
    "print('{:f} секунд'.format(stop - start))"
   ]
  },
  {
   "cell_type": "markdown",
   "metadata": {},
   "source": [
    "### Динамическое программирование"
   ]
  },
  {
   "cell_type": "code",
   "execution_count": 59,
   "metadata": {},
   "outputs": [],
   "source": [
    "def fb(n):\n",
    "    if n < 2 and n > 0:\n",
    "        return 1\n",
    "    a = 1\n",
    "    b = 1\n",
    "    for i in range(2, n ):\n",
    "        f = a + b\n",
    "        a, b = b, f\n",
    "    return f"
   ]
  },
  {
   "cell_type": "code",
   "execution_count": 60,
   "metadata": {},
   "outputs": [
    {
     "name": "stdout",
     "output_type": "stream",
     "text": [
      "12586269025\n",
      "0.000139\n"
     ]
    }
   ],
   "source": [
    "timing_common(fb(50))"
   ]
  },
  {
   "cell_type": "code",
   "execution_count": 61,
   "metadata": {},
   "outputs": [
    {
     "name": "stdout",
     "output_type": "stream",
     "text": [
      "12586269025\n",
      "0.000270 секунд\n"
     ]
    }
   ],
   "source": [
    "start = time.time()\n",
    "print(fb(50))\n",
    "stop = time.time()\n",
    "print('{:f} секунд'.format(stop - start))"
   ]
  },
  {
   "cell_type": "markdown",
   "metadata": {},
   "source": [
    "### рекуррентная формула через золотое сечение"
   ]
  },
  {
   "cell_type": "markdown",
   "metadata": {},
   "source": [
    "$a = (1 + sqrt(5))/2$"
   ]
  },
  {
   "cell_type": "markdown",
   "metadata": {},
   "source": [
    "$ Fn = ф^n/sqrt(5) + 1/2$"
   ]
  },
  {
   "cell_type": "code",
   "execution_count": 62,
   "metadata": {},
   "outputs": [],
   "source": [
    "import math\n",
    "def fib_gold(n):\n",
    "    sq = math.sqrt(5)\n",
    "    f = (1 + sq)/2\n",
    "    return int(f**n/sq + 0.5)"
   ]
  },
  {
   "cell_type": "code",
   "execution_count": 63,
   "metadata": {},
   "outputs": [
    {
     "name": "stdout",
     "output_type": "stream",
     "text": [
      "102334155\n",
      "0.000048\n"
     ]
    }
   ],
   "source": [
    "timing_common(fib_gold(40))"
   ]
  },
  {
   "cell_type": "markdown",
   "metadata": {},
   "source": [
    "### через матрицу перехода"
   ]
  },
  {
   "cell_type": "code",
   "execution_count": 64,
   "metadata": {},
   "outputs": [],
   "source": [
    "import numpy as np\n",
    "def fib_matrix(n):\n",
    "    matrix = np.array([[1, 1], [1, 0]])\n",
    "    return np.linalg.matrix_power(matrix, n-1)[0][0]\n",
    "    "
   ]
  },
  {
   "cell_type": "code",
   "execution_count": 65,
   "metadata": {},
   "outputs": [
    {
     "name": "stdout",
     "output_type": "stream",
     "text": [
      "832040\n",
      "0.000482\n"
     ]
    }
   ],
   "source": [
    "timing_common(fib_matrix(30))"
   ]
  },
  {
   "cell_type": "markdown",
   "metadata": {},
   "source": [
    "### Таблица"
   ]
  },
  {
   "cell_type": "code",
   "execution_count": 66,
   "metadata": {},
   "outputs": [
    {
     "name": "stdout",
     "output_type": "stream",
     "text": [
      "Число Фибоначчи с помощью рекурсии\n",
      "102334155\n",
      "15.380250 секунд\n",
      "----------\n",
      "Динамическое программирование\n",
      "102334155\n",
      "0.000011\n",
      "----------\n",
      "Золотое сечение\n",
      "102334155\n",
      "0.000010\n",
      "----------\n",
      "Матричный способ\n",
      "102334155\n",
      "0.000018\n",
      "----------\n"
     ]
    }
   ],
   "source": [
    "print('Число Фибоначчи с помощью рекурсии')\n",
    "start = time.time()\n",
    "print(f(40))\n",
    "stop = time.time()\n",
    "print('{:f} секунд'.format(stop - start))\n",
    "print('----------')\n",
    "\n",
    "print('Динамическое программирование')\n",
    "timing_common(fb(40))\n",
    "print('----------')\n",
    "print('Золотое сечение')\n",
    "timing_common(fib_gold(40))\n",
    "print('----------')\n",
    "print('Матричный способ')\n",
    "timing_common(fib_matrix(40))\n",
    "print('----------')"
   ]
  },
  {
   "cell_type": "code",
   "execution_count": null,
   "metadata": {},
   "outputs": [],
   "source": []
  }
 ],
 "metadata": {
  "kernelspec": {
   "display_name": "Python 3",
   "language": "python",
   "name": "python3"
  },
  "language_info": {
   "codemirror_mode": {
    "name": "ipython",
    "version": 3
   },
   "file_extension": ".py",
   "mimetype": "text/x-python",
   "name": "python",
   "nbconvert_exporter": "python",
   "pygments_lexer": "ipython3",
   "version": "3.7.3"
  }
 },
 "nbformat": 4,
 "nbformat_minor": 2
}
