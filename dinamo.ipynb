{
 "cells": [
  {
   "cell_type": "markdown",
   "metadata": {},
   "source": [
    "## Раз/два горох"
   ]
  },
  {
   "cell_type": "code",
   "execution_count": 1,
   "metadata": {},
   "outputs": [
    {
     "name": "stdout",
     "output_type": "stream",
     "text": [
      "2/64+5/45\n",
      "41/288\n"
     ]
    }
   ],
   "source": [
    "line = input()\n",
    "a, b, c, d =  [int(item) for item in line.replace('+', '/').split('/')]\n",
    "x = a * d + b * c\n",
    "y = b * d\n",
    "def even(number):\n",
    "    return (number & 1) == 0\n",
    "\n",
    "def odd(number):\n",
    "    return (number & 1) == 1\n",
    "\n",
    "def GCD(a, b):\n",
    "    if (a == b):\n",
    "        return a\n",
    "    if (a == 0):\n",
    "        return b\n",
    "    if (b == 0):\n",
    "        return a\n",
    "    \n",
    "    if (even(a) and even(b)):\n",
    "        return GCD(a >> 1, b >> 1) << 1\n",
    "    if (even(a) and odd(b)):\n",
    "        return  GCD(a >> 1, b)\n",
    "    if (odd(a) and even(b)):\n",
    "        return GCD(a, b >> 1)\n",
    "    # odd(a) and odd(b)\n",
    "    if (a > b):\n",
    "        return GCD((a - b) >> 1, b)\n",
    "    else:\n",
    "        return GCD(a, (b - a) >> 1)\n",
    "\n",
    "gcd = GCD(x, y)\n",
    "x //= gcd\n",
    "y //= gcd\n",
    "print(str(x) + '/' + str(y))"
   ]
  },
  {
   "cell_type": "markdown",
   "metadata": {},
   "source": [
    "## Цифровая елочка"
   ]
  },
  {
   "cell_type": "code",
   "execution_count": 3,
   "metadata": {},
   "outputs": [
    {
     "name": "stdout",
     "output_type": "stream",
     "text": [
      "4\n",
      "1\n",
      "2\n",
      "3\n",
      "4\n",
      "5\n",
      "6\n",
      "7\n",
      "8\n",
      "9\n",
      "10\n",
      "----------\n",
      "20\n"
     ]
    }
   ],
   "source": [
    "# последовательный ввод чисел.\n",
    "n = int(input())\n",
    "m = []\n",
    "for row in range(n):\n",
    "    m.append([])\n",
    "    for column in range(row + 1):\n",
    "        line = input()\n",
    "        line = line.strip().split(' ')\n",
    "        for item in line:\n",
    "            m[row].append(int(item))\n",
    "\n",
    "for row in range(n - 2, -1, -1):\n",
    "    for column in range(row + 1):\n",
    "        m[row][column] += max(m[row + 1][column], m[row + 1][column + 1])\n",
    "print('----------')        \n",
    "print(m[0][0])"
   ]
  },
  {
   "cell_type": "code",
   "execution_count": 4,
   "metadata": {},
   "outputs": [
    {
     "name": "stdout",
     "output_type": "stream",
     "text": [
      "4\n",
      "1\n",
      "2 3\n",
      "4 5 6\n",
      "9 8 0 3\n",
      "----------\n",
      "17\n"
     ]
    }
   ],
   "source": [
    "# версия для робота Шарпа\n",
    "n = int(input())\n",
    "m = []\n",
    "for row in range(n):\n",
    "    m.append([])\n",
    "    line = input()\n",
    "    line = line.strip().split(' ')\n",
    "    for item in line:\n",
    "        m[row].append(int(item))\n",
    "\n",
    "for row in range(n - 2, -1, -1):\n",
    "    for column in range(row + 1):\n",
    "        m[row][column] += max(m[row + 1][column], m[row + 1][column + 1])\n",
    "        \n",
    "print('----------')   \n",
    "print(m[0][0])"
   ]
  },
  {
   "cell_type": "markdown",
   "metadata": {},
   "source": [
    "## Пятью восемь"
   ]
  },
  {
   "cell_type": "code",
   "execution_count": 5,
   "metadata": {},
   "outputs": [
    {
     "name": "stdout",
     "output_type": "stream",
     "text": [
      "11\n",
      "288\n"
     ]
    }
   ],
   "source": [
    "n = int(input())\n",
    "a = 1; b = 1; c = 0; d = 0\n",
    "for _ in range(2, n + 1):\n",
    "    a_temp =  a + c #b + d\n",
    "    c_temp = a\n",
    "    a = a_temp\n",
    "    c = c_temp\n",
    "print((a + c) << 1)"
   ]
  },
  {
   "cell_type": "markdown",
   "metadata": {},
   "source": [
    "## Острова"
   ]
  },
  {
   "cell_type": "raw",
   "metadata": {},
   "source": [
    "Пример:\n",
    "4\n",
    "1 1 1 1\n",
    "0 1 0 1\n",
    "0 0 0 0\n",
    "1 0 1 1\n",
    "island = 3"
   ]
  },
  {
   "cell_type": "code",
   "execution_count": 6,
   "metadata": {},
   "outputs": [
    {
     "name": "stdout",
     "output_type": "stream",
     "text": [
      "4\n",
      "1\n",
      "1\n",
      "1\n",
      "1\n",
      "0\n",
      "1\n",
      "0\n",
      "1\n",
      "0\n",
      "0\n",
      "0\n",
      "0\n",
      "1\n",
      "0\n",
      "1\n",
      "1\n",
      "island =  3\n"
     ]
    }
   ],
   "source": [
    "n = int(input())\n",
    "m =  [] \n",
    "def go(x, y):\n",
    "    if (x < 0 or x >= n):\n",
    "        return\n",
    "    if (y < 0 or y >= n):\n",
    "        return\n",
    "    if (m[x][y] == 0):\n",
    "        return\n",
    "    m[x][y] = 0\n",
    "    go(x - 1, y)\n",
    "    go(x + 1, y)\n",
    "    go(x, y - 1)\n",
    "    go(x, y + 1)\n",
    "    \n",
    "\n",
    "for y in range(n):\n",
    "    m.append([])\n",
    "    for x in range(n):\n",
    "        m[y].append(int(input()))\n",
    "# print(m)\n",
    "island = 0        \n",
    "for y in range(n):\n",
    "    for x in range(n):\n",
    "        if (m[x][y] == 1):\n",
    "            island += 1\n",
    "            go(x, y)\n",
    "print('island = ', island)"
   ]
  },
  {
   "cell_type": "markdown",
   "metadata": {},
   "source": [
    "# Сарай"
   ]
  },
  {
   "cell_type": "markdown",
   "metadata": {},
   "source": [
    "### Маленький сарай"
   ]
  },
  {
   "cell_type": "code",
   "execution_count": 7,
   "metadata": {},
   "outputs": [],
   "source": [
    "class Small_barn:\n",
    "    def __init__(self):\n",
    "        self.n = 0\n",
    "        self.m = 0\n",
    "        self.matrix = []\n",
    "        self.main_max_square = 0\n",
    "    \n",
    "    def start(self):\n",
    "        self.read()\n",
    "        self.calc()\n",
    "        self.answer()\n",
    "    \n",
    "    def read(self):\n",
    "        self.n, self.m = [int(item) for item in input().strip().split(' ')]\n",
    "        for row in range(self.m):\n",
    "            self.matrix.append([])\n",
    "            line = input()\n",
    "            line = line.strip().split(' ')\n",
    "            for item in line:\n",
    "                self.matrix[row].append(int(item))\n",
    "                \n",
    "    def calc(self):\n",
    "        for row in range(len(self.matrix)):\n",
    "            for item in range(len(self.matrix[row])):\n",
    "                self.find_max_square(row, item)\n",
    "\n",
    "    def find_way_length(self, row, item):\n",
    "        way_length = 0\n",
    "        while(item < self.n):\n",
    "            if self.matrix[row][item] == 1:\n",
    "                break\n",
    "            way_length += 1\n",
    "            item += 1\n",
    "        return way_length   \n",
    "    \n",
    "    def find_max_square(self, row, item):\n",
    "        length_rows = 1\n",
    "        limit_length = self.find_way_length(row, item)\n",
    "        max_square  = limit_length * length_rows\n",
    "        \n",
    "        for ind in range(row + 1, self.m):\n",
    "            length_rows += 1\n",
    "            length_item = self.find_way_length(ind, item)\n",
    "            if (limit_length > length_item):\n",
    "                limit_length = length_item\n",
    "            if  (length_item > limit_length):\n",
    "                length_item = limit_length\n",
    "            if max_square < (length_rows * length_item):\n",
    "                max_square = length_rows * length_item\n",
    "#             print('item-', item, ', row-', ind,  ': length_item-', length_item, ', length_row-', length_rows)\n",
    "        if (self.main_max_square < max_square):\n",
    "            self.main_max_square = max_square\n",
    "                \n",
    "    def answer(self):\n",
    "        print(self.main_max_square)"
   ]
  },
  {
   "cell_type": "raw",
   "metadata": {},
   "source": [
    "Пример:\n",
    "4 3\n",
    "0 0 0 0\n",
    "0 1 0 0\n",
    "1 0 0 0"
   ]
  },
  {
   "cell_type": "code",
   "execution_count": 8,
   "metadata": {},
   "outputs": [
    {
     "name": "stdout",
     "output_type": "stream",
     "text": [
      "4 3\n",
      "0 0 0 0\n",
      "0 1 0 0\n",
      "1 0 0 0\n",
      "6\n"
     ]
    }
   ],
   "source": [
    "sb = Small_barn()\n",
    "sb.start()"
   ]
  },
  {
   "cell_type": "markdown",
   "metadata": {},
   "source": [
    "### Средний сарай (длина сарая)"
   ]
  },
  {
   "cell_type": "code",
   "execution_count": 9,
   "metadata": {},
   "outputs": [],
   "source": [
    "from random import randint\n",
    "class Medium_barn:\n",
    "    def __init__(self):\n",
    "        self.N = 0\n",
    "        self.M = 0\n",
    "        self.main_max_square = 0\n",
    "        self.tree = set()\n",
    "        self.row = 0\n",
    "    \n",
    "    def start(self):\n",
    "#         self.read()\n",
    "        self.generate(10, 10, 20)\n",
    "        self.calc()\n",
    "#         self.answer()\n",
    "        \n",
    "    def read(self):\n",
    "        self.N, self.M = [int(item) for item in input().strip().split(' ')]\n",
    "        trees = int(input().strip())\n",
    "        for _ in range(trees):\n",
    "            self.tree.add(tuple(int(item) for item in input().strip().split(' ')))\n",
    "#         print(self.tree)    \n",
    "        \n",
    "    def generate(self, N, M, T):\n",
    "        self.N = N\n",
    "        self.M = M\n",
    "        line = str(N) + ' ' + str(M) + '\\n'\n",
    "        line += str(T) + '\\n'\n",
    "        self.tree = set()\n",
    "        for _ in range(T):\n",
    "            while True:\n",
    "                tree = (randint(0,N - 1), randint(0, M - 1))\n",
    "                if tree not in self.tree:\n",
    "                    self.tree.add(tree)\n",
    "                    break\n",
    "            \n",
    "        for item in self.tree:\n",
    "            line += str(item) + '\\n'\n",
    "        with open('sarai.txt', 'w') as f:\n",
    "            f.write(line)\n",
    "            \n",
    "    def print_map(self):\n",
    "        for y in range(self.M):\n",
    "            for x in range(self.N):\n",
    "                if (x, y) in self.tree:\n",
    "                    print('*', end='')\n",
    "                else:\n",
    "                    print('-', end='')\n",
    "            print()\n",
    "            \n",
    "    def calc(self):\n",
    "        self.row = [0] * self.N\n",
    "        for m in range(self.M):\n",
    "            self.calc_row(m)\n",
    "            self.print_row()\n",
    "            \n",
    "    def calc_row(self, m):\n",
    "        for n in range(self.N):\n",
    "            temp = (n, m)\n",
    "            if temp in self.tree:\n",
    "                self.row[n] = 0\n",
    "            else:\n",
    "                self.row[n] += 1\n",
    "                \n",
    "    def print_row(self):\n",
    "        for n in range(self.N - 1):\n",
    "            print(str(self.row[n]) + ' ', end='')\n",
    "        print(self.row[self.N -1])"
   ]
  },
  {
   "cell_type": "code",
   "execution_count": 10,
   "metadata": {},
   "outputs": [
    {
     "name": "stdout",
     "output_type": "stream",
     "text": [
      "-*---**---\n",
      "----------\n",
      "*-------*-\n",
      "-*---*----\n",
      "-**------*\n",
      "*---*-----\n",
      "--*-------\n",
      "---**--*--\n",
      "---**---*-\n",
      "-----*----\n",
      "1 1 1 0 1 0 0 1 1 1\n",
      "2 2 2 1 2 0 1 0 2 2\n",
      "3 0 0 2 3 1 2 1 3 3\n",
      "4 1 1 3 4 2 0 2 4 0\n",
      "5 2 2 4 5 3 1 0 5 1\n",
      "6 3 0 0 0 0 2 1 6 2\n",
      "7 0 1 1 1 1 3 2 7 3\n",
      "8 1 2 2 2 2 4 3 0 0\n",
      "9 2 3 3 3 3 5 4 1 0\n",
      "10 3 0 4 4 4 6 5 2 0\n"
     ]
    }
   ],
   "source": [
    "mb = Medium_barn()\n",
    "mb.generate(10, 10, 20)\n",
    "mb.print_map()\n",
    "mb.start()"
   ]
  },
  {
   "cell_type": "markdown",
   "metadata": {},
   "source": [
    "### Ширина сарая"
   ]
  },
  {
   "cell_type": "code",
   "execution_count": 11,
   "metadata": {},
   "outputs": [],
   "source": [
    "class Node:\n",
    "    def __init__(self, item, nextt=None):\n",
    "        self._item = item\n",
    "        self._nextt = nextt\n",
    "        \n",
    "    def get_item(self):\n",
    "        return self._item\n",
    "    \n",
    "    def get_next(self):\n",
    "        return self._nextt\n",
    "    \n",
    "    def set_next(self, nextt):\n",
    "        self._nextt = nextt\n",
    "        \n",
    "\n",
    "class Stack:    \n",
    "    def __init__(self, head=None):\n",
    "        self._head = head\n",
    "        \n",
    "    \n",
    "    def push(self, item):\n",
    "        self._head = Node(item, self._head)\n",
    "        \n",
    "    def pop(self):\n",
    "        if (self.is_empty()):\n",
    "            return None\n",
    "        item = self._head.get_item()\n",
    "        self._head = self._head.get_next()\n",
    "        return item\n",
    "        \n",
    "    def is_empty(self):\n",
    "        return self._head == None\n",
    "    \n",
    "    def peek(self):\n",
    "        return self._head.get_item()"
   ]
  },
  {
   "cell_type": "code",
   "execution_count": 12,
   "metadata": {},
   "outputs": [],
   "source": [
    "class Width_barn:\n",
    "    def __init__(self):\n",
    "        self.N = 0\n",
    "        self.M = 0\n",
    "        self.A = [] \n",
    "#         self.stack = Stack()\n",
    "        self.L = []\n",
    "        self.R = []\n",
    "        \n",
    "    def start(self):\n",
    "        self.read()\n",
    "        self.calc_right()\n",
    "        self.calc_left()\n",
    "        self.answer()\n",
    "        \n",
    "    def read(self):\n",
    "        self.N = int(input().strip())\n",
    "        self.A = [0] * self.N\n",
    "        for item in range(self.N):\n",
    "            self.A[item] = int(input().strip())\n",
    "        \n",
    "    def calc_right(self):\n",
    "        self.R = [0] * self.N\n",
    "        stack = Stack()\n",
    "        for j in range(self.N):\n",
    "            while(not stack.is_empty()):\n",
    "                if self.A[j] < self.A[stack.peek()]:\n",
    "                    self.R[stack.pop()] = j - 1\n",
    "                else:\n",
    "                    break                \n",
    "            stack.push(j)\n",
    "        while(not stack.is_empty()):\n",
    "            self.R[stack.pop()] = self.N - 1\n",
    "        \n",
    "    def calc_left(self):\n",
    "        self.L = [0] * self.N\n",
    "        stack = Stack()\n",
    "        for j in range(self.N -1, -1, -1):\n",
    "            while(not stack.is_empty()):\n",
    "                if self.A[j] < self.A[stack.peek()]:\n",
    "                    self.L[stack.pop()] = j + 1\n",
    "                else:\n",
    "                    break                \n",
    "            stack.push(j)\n",
    "        while(not stack.is_empty()):\n",
    "            self.L[stack.pop()] = 0\n",
    "    \n",
    "    def answer(self):\n",
    "        for i in range(self.N - 1):\n",
    "            print(self.L[i], end=' ')\n",
    "        print(self.L[self.N - 1])\n",
    "        \n",
    "        for i in range(self.N - 1):\n",
    "            print(self.R[i], end=' ')\n",
    "        print(self.R[self.N - 1])\n",
    "            "
   ]
  },
  {
   "cell_type": "code",
   "execution_count": 13,
   "metadata": {},
   "outputs": [
    {
     "name": "stdout",
     "output_type": "stream",
     "text": [
      "10\n",
      "1\n",
      "1\n",
      "1\n",
      "4\n",
      "4\n",
      "2\n",
      "3\n",
      "3\n",
      "2\n",
      "2\n",
      "0 0 0 3 3 3 6 6 3 3\n",
      "9 9 9 4 4 9 7 7 9 9\n"
     ]
    }
   ],
   "source": [
    "wb = Width_barn()\n",
    "wb.start()"
   ]
  },
  {
   "cell_type": "markdown",
   "metadata": {},
   "source": [
    "### Большой сарай"
   ]
  },
  {
   "cell_type": "code",
   "execution_count": 14,
   "metadata": {},
   "outputs": [],
   "source": [
    "# from random import randint\n",
    "class Full_barn:\n",
    "    def __init__(self):\n",
    "        self.N = 0\n",
    "        self.M = 0\n",
    "        self.main_max_square = 0\n",
    "        self.tree = set()\n",
    "    \n",
    "    def start(self):\n",
    "#         self.read()\n",
    "        self.generate(20, 20, 50)\n",
    "        self.print_map()\n",
    "        answer = self.calc()\n",
    "        print(\"Total max square: {}.\".format(answer))\n",
    "        \n",
    "    def read(self):\n",
    "        self.N, self.M = [int(item) for item in input().strip().split(' ')]\n",
    "        trees = int(input().strip())\n",
    "        for _ in range(trees):\n",
    "            self.tree.add(tuple(int(item) for item in input().strip().split(' ')))\n",
    "\n",
    "    def generate(self, N, M, T):\n",
    "        self.N = N\n",
    "        self.M = M\n",
    "        line = str(N) + ' ' + str(M) + '\\n'\n",
    "        line += str(T) + '\\n'\n",
    "        self.tree = set()\n",
    "        for _ in range(T):\n",
    "            while True:\n",
    "                tree = (randint(0,N - 1), randint(0, M - 1))\n",
    "                if tree not in self.tree:\n",
    "                    self.tree.add(tree)\n",
    "                    break\n",
    "            \n",
    "        for item in self.tree:\n",
    "            line += str(item) + '\\n'\n",
    "        with open('sarai.txt', 'w') as f:\n",
    "            f.write(line)\n",
    "        \n",
    "          \n",
    "    def print_map(self):\n",
    "        for y in range(self.M):\n",
    "            for x in range(self.N):\n",
    "                if (x, y) in self.tree:\n",
    "                    print('*', end='')\n",
    "                else:\n",
    "                    print('-', end='')\n",
    "            print()\n",
    "            \n",
    "    def calc(self):\n",
    "        row = [0] * self.N\n",
    "        total_max_s = -1\n",
    "        for m in range(self.M):\n",
    "            self.calc_row(row, m)\n",
    "#             self.print_row(row)\n",
    "            R = self.calc_right(row)\n",
    "            L = self.calc_left(row)\n",
    "#             self.print_RL(R, L)\n",
    "            S = self.find_max_row_square(row, R, L)\n",
    "#             print(\"Max aquare: \", S)\n",
    "            if S > total_max_s:\n",
    "                total_max_s = S\n",
    "#             print('---------')\n",
    "        return total_max_s\n",
    "            \n",
    "    def calc_row(self, row, m):\n",
    "        for n in range(self.N):\n",
    "            temp = (n, m)\n",
    "            if temp in self.tree:\n",
    "                row[n] = 0\n",
    "            else:\n",
    "                row[n] += 1\n",
    "                \n",
    "    def print_row(self, row):\n",
    "        for n in range(self.N - 1):\n",
    "            print(str(row[n]) + ' ', end='')\n",
    "        print(row[n])\n",
    "        \n",
    "    \n",
    "    def calc_right(self, row):\n",
    "        R = [0] * self.N\n",
    "        stack = Stack()\n",
    "        for j in range(self.N):\n",
    "            while(not stack.is_empty()):\n",
    "                if row[j] < row[stack.peek()]:\n",
    "                    R[stack.pop()] = j - 1\n",
    "                else:\n",
    "                    break                \n",
    "            stack.push(j)\n",
    "        while(not stack.is_empty()):\n",
    "            R[stack.pop()] = self.N - 1\n",
    "        return R\n",
    "        \n",
    "    def calc_left(self, row):\n",
    "        L = [0] * self.N\n",
    "        stack = Stack()\n",
    "        for j in range(self.N -1, -1, -1):\n",
    "            while(not stack.is_empty()):\n",
    "                if row[j] < row[stack.peek()]:\n",
    "                    L[stack.pop()] = j + 1\n",
    "                else:\n",
    "                    break                \n",
    "            stack.push(j)\n",
    "        while(not stack.is_empty()):\n",
    "            L[stack.pop()] = 0\n",
    "        return L\n",
    "    \n",
    "    def print_RL(self, R, L):\n",
    "        for i in range(self.N - 1):\n",
    "            print(L[i], end=' ')\n",
    "        print(L[self.N - 1])\n",
    "        \n",
    "        for i in range(self.N - 1):\n",
    "            print(R[i], end=' ')\n",
    "        print(R[self.N - 1])\n",
    "        \n",
    "    def find_max_row_square(self, row, R, L):\n",
    "        maxS = -1\n",
    "        for n in range(self.N):\n",
    "            s = (R[n] - L[n] + 1) * row[n]\n",
    "            if s > maxS:\n",
    "                maxS = s\n",
    "        return maxS\n",
    "        "
   ]
  },
  {
   "cell_type": "code",
   "execution_count": 15,
   "metadata": {},
   "outputs": [
    {
     "name": "stdout",
     "output_type": "stream",
     "text": [
      "------*--*-----*----\n",
      "-**---------------*-\n",
      "--*----*-*--*-*--**-\n",
      "--*----------*-*--*-\n",
      "--*---*----------*--\n",
      "---*-------------*--\n",
      "------------------**\n",
      "----*-----*---------\n",
      "--------------------\n",
      "-*------------------\n",
      "---*----------------\n",
      "------------------**\n",
      "----*---------------\n",
      "--*-----------------\n",
      "----*---------**-*-*\n",
      "*--------*---*------\n",
      "--------------------\n",
      "-*--------**--------\n",
      "-*-------*------**--\n",
      "-----------*-*-*----\n",
      "Total max square: 78.\n"
     ]
    }
   ],
   "source": [
    "fb = Full_barn()\n",
    "fb.start()"
   ]
  },
  {
   "cell_type": "code",
   "execution_count": null,
   "metadata": {},
   "outputs": [],
   "source": []
  }
 ],
 "metadata": {
  "kernelspec": {
   "display_name": "Python 3",
   "language": "python",
   "name": "python3"
  },
  "language_info": {
   "codemirror_mode": {
    "name": "ipython",
    "version": 3
   },
   "file_extension": ".py",
   "mimetype": "text/x-python",
   "name": "python",
   "nbconvert_exporter": "python",
   "pygments_lexer": "ipython3",
   "version": "3.7.3"
  }
 },
 "nbformat": 4,
 "nbformat_minor": 2
}
