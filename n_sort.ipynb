{
 "cells": [
  {
   "cell_type": "code",
   "execution_count": 1,
   "metadata": {},
   "outputs": [],
   "source": [
    "from random import randint\n",
    "import numpy as np\n",
    "np.set_printoptions(suppress=True)\n",
    "import time\n",
    "import os    "
   ]
  },
  {
   "cell_type": "code",
   "execution_count": 2,
   "metadata": {},
   "outputs": [],
   "source": [
    "def timing(fun, *args):\n",
    "    start = time.time()\n",
    "    result = fun(*args)\n",
    "    stop = time.time()\n",
    "    print('{:f}'.format(stop - start))\n",
    "    return result"
   ]
  },
  {
   "cell_type": "code",
   "execution_count": 3,
   "metadata": {},
   "outputs": [],
   "source": [
    "# проверка сортировки\n",
    "def revision(a):\n",
    "    for i in range(len(a)-1):\n",
    "        if a[i] > a[i + 1]:\n",
    "            print('wrong_sorted')\n",
    "            return\n",
    "    print('Success')\n",
    "    return"
   ]
  },
  {
   "cell_type": "code",
   "execution_count": 4,
   "metadata": {},
   "outputs": [],
   "source": [
    "# quick sort and merge\n",
    "def partition(arr, left, right):\n",
    "    i = left - 1\n",
    "    pivot = arr[right]\n",
    "    for j in range(left, right + 1):\n",
    "        if arr[j] <= pivot:\n",
    "            i += 1\n",
    "            temp = arr[i]\n",
    "            arr[i] = arr[j]\n",
    "            arr[j] = temp\n",
    "    return i   \n",
    "\n",
    "def quick_sort(arr):\n",
    "    left = 0\n",
    "    right = len(arr) -1\n",
    "    if left >= right:\n",
    "        return\n",
    "    \n",
    "    center = partition(arr, left, right)\n",
    "    quick_sort(arr[left:center])\n",
    "    quick_sort(arr[center + 1: right + 1])\n",
    "    \n",
    "def merge(A, B):\n",
    "    a = 0 # указатель на массив А\n",
    "    b = 0 # указатель на массив В\n",
    "    S = np.array([0] * (len(A) + len(B))) # размер - сумма размеров А и В\n",
    "    s = 0 # счетчик для S\n",
    "    while(a < len(A) and b < len(B)):\n",
    "        if A[a] < B[b]:\n",
    "            S[s] = A[a]\n",
    "            a += 1\n",
    "            s += 1\n",
    "        else:\n",
    "            S[s] = B[b]\n",
    "            b += 1\n",
    "            s += 1\n",
    "    while(a < len(A)):\n",
    "        S[s] = A[a]\n",
    "        s += 1\n",
    "        a += 1\n",
    "    while(b < len(B)):\n",
    "        S[s] = B[b]\n",
    "        s += 1\n",
    "        b += 1\n",
    "    return S"
   ]
  },
  {
   "cell_type": "code",
   "execution_count": 8,
   "metadata": {},
   "outputs": [
    {
     "data": {
      "text/plain": [
       "(100000000,)"
      ]
     },
     "execution_count": 8,
     "metadata": {},
     "output_type": "execute_result"
    }
   ],
   "source": [
    "# генерация файла\n",
    "count = int(1e8)\n",
    "np.array(([randint(0,65535) for _ in range(count)]), dtype='uint16').tofile('test.bin')\n",
    "b = np.fromfile('test.bin', dtype='uint16'); b.shape\n"
   ]
  },
  {
   "cell_type": "code",
   "execution_count": 9,
   "metadata": {},
   "outputs": [],
   "source": [
    "# сортировка слиянием для сортировки файла\n",
    "# для сортировки небольших кусков используется quick sort\n",
    "def part_sort(b, count_step, len_step):\n",
    "    num_blok = 0\n",
    "    files_list = []\n",
    "    for i in range(1, count_step, 2):\n",
    "        quick_sort(b[num_blok * len_step: i * len_step]),\n",
    "        quick_sort(b[(num_blok + 1) * len_step: (i+1) * len_step])\n",
    "        a = merge(b[num_blok * len_step: i * len_step], b[(num_blok + 1) * len_step: (i+1) * len_step])\n",
    "        num_blok +=2  \n",
    "\n",
    "        if (count_step - i) <= 2:\n",
    "            quick_sort(b[num_blok*len_step:])\n",
    "            a = merge(a, b[num_blok*len_step:])\n",
    "            np.array(a, dtype='uint16').tofile(f'test_{i}.bin')\n",
    "            files_list.append(f'test_{i}.bin')\n",
    "        else:\n",
    "            np.array(a, dtype='uint16').tofile(f'test_{i}.bin')\n",
    "            files_list.append(f'test_{i}.bin')\n",
    "    return(files_list)\n",
    "\n",
    "def part_merge(files):\n",
    "    len_list = len(files)\n",
    "    files_list = []\n",
    "    \n",
    "    for i in range(0, len_list, 2):\n",
    "        if (len_list - 3) == i:\n",
    "            file_1 = np.fromfile(files[i], dtype='uint16')\n",
    "            os.remove(files[i])\n",
    "            file_2 = np.fromfile(files[i + 1], dtype='uint16')\n",
    "            os.remove(files[i + 1])\n",
    "            a = merge(file_1, file_2)\n",
    "            file_3 = np.fromfile(files[i + 2], dtype='uint16')\n",
    "            a = merge(a, file_3)\n",
    "            os.remove(files[i + 2])\n",
    "            np.array(a, dtype='uint16').tofile(f'test_{i}.bin')\n",
    "            files_list.append(f'test_{i}.bin')\n",
    "            break\n",
    "        else:\n",
    "            file_1 = np.fromfile(files[i], dtype='uint16')\n",
    "            os.remove(files[i])\n",
    "            file_2 = np.fromfile(files[i + 1], dtype='uint16')\n",
    "            os.remove(files[i + 1])\n",
    "            a = merge(file_1, file_2)\n",
    "            \n",
    "            np.array(a, dtype='uint16').tofile(f'test_{i}.bin')\n",
    "            files_list.append(f'test_{i}.bin')  \n",
    "    return files_list\n",
    "\n",
    "def file_sort(file, len_step):\n",
    "    b = np.fromfile(file, dtype='uint16')\n",
    "    len_step = len_step\n",
    "    common_len = b.shape[0]\n",
    "    count_step = common_len // len_step\n",
    "    \n",
    "    files_list = part_sort(b, count_step, len_step)\n",
    "    \n",
    "    while len(files_list) > 1:\n",
    "        files_list = part_merge(files_list)\n",
    "    return files_list[0]\n",
    "    \n",
    "\n",
    "    "
   ]
  },
  {
   "cell_type": "code",
   "execution_count": 10,
   "metadata": {},
   "outputs": [
    {
     "name": "stdout",
     "output_type": "stream",
     "text": [
      "1755.868806\n",
      "Success\n"
     ]
    }
   ],
   "source": [
    "# Комбинированная сортировка, замер времени выполнения, проверка отсортированного массива\n",
    "result = timing(file_sort, 'test.bin', 1024)\n",
    "revision(np.fromfile(result, dtype='uint16'))"
   ]
  },
  {
   "cell_type": "code",
   "execution_count": 11,
   "metadata": {},
   "outputs": [],
   "source": [
    "# Сортировка подсчетом, только для чисел\n",
    "# верхняя граница не включается\n",
    "def count_sort_num(arr, min_border, max_border):\n",
    "    count_arr = np.array([0] * (max_border - min_border))\n",
    "    for item in arr:\n",
    "        count_arr[item - min_border] += 1\n",
    "    result = []\n",
    "    for ind, count in enumerate(count_arr):\n",
    "        for i in range(count):\n",
    "            result.append(ind + min_border)\n",
    "    return result\n",
    "        "
   ]
  },
  {
   "cell_type": "code",
   "execution_count": 12,
   "metadata": {},
   "outputs": [],
   "source": [
    "# Сортировка подсчетом, вариант  для объектов\n",
    "def count_sort_obj(arr, min_border, max_border):\n",
    "    count_arr = np.array([0] * (max_border - min_border))\n",
    "    for item in arr:\n",
    "        count_arr[item - min_border] += 1\n",
    "        \n",
    "    temp = 0\n",
    "    for ind, item in enumerate(count_arr):\n",
    "        temp += item\n",
    "        count_arr[ind] = temp\n",
    "        \n",
    "    result = np.array([0] * len(arr), dtype='object' )\n",
    "    for item in reversed(arr):\n",
    "        temp = count_arr[item - min_border]\n",
    "        count_arr[item - min_border] -= 1\n",
    "        result[temp -1]  = item\n",
    "    return result"
   ]
  },
  {
   "cell_type": "code",
   "execution_count": 14,
   "metadata": {},
   "outputs": [
    {
     "name": "stdout",
     "output_type": "stream",
     "text": [
      "40.347905\n",
      "Success\n"
     ]
    }
   ],
   "source": [
    "# сортировка, замер времени, прверка для упрощенного варианта сортировки подсчетом\n",
    "min_border = 0\n",
    "max_border = 65536\n",
    "count = int(1e8)\n",
    "arr = [randint(min_border, max_border - 1) for _ in range(count)]\n",
    "\n",
    "result = timing(count_sort_num, arr, min_border, max_border)\n",
    "revision(result)"
   ]
  },
  {
   "cell_type": "code",
   "execution_count": 16,
   "metadata": {},
   "outputs": [
    {
     "name": "stdout",
     "output_type": "stream",
     "text": [
      "113.984351\n",
      "Success\n"
     ]
    }
   ],
   "source": [
    "# сортировка, замер времени, прверка для варианта с объектами сортировки подсчетом\n",
    "result = timing(count_sort_obj, arr, min_border, max_border)\n",
    "revision(result)"
   ]
  },
  {
   "cell_type": "code",
   "execution_count": 17,
   "metadata": {},
   "outputs": [],
   "source": [
    "# поразрядная сортировка\n",
    "def radix_sort(arr, rang):\n",
    "    \n",
    "    result = np.array(arr, dtype='object' )\n",
    "    for i in range(rang):\n",
    "        count_arr = np.array([0] * 10, dtype='object')    \n",
    "        ran = 10 ** i\n",
    "        \n",
    "        for item in result:\n",
    "            number = item // ran % 10\n",
    "            count_arr[number] += 1\n",
    "            \n",
    "        temp = 0\n",
    "        for ind, item in enumerate(count_arr):\n",
    "            temp += item\n",
    "            count_arr[ind] = temp\n",
    "            \n",
    "        temp_arr = result.copy()\n",
    "        for item in reversed(temp_arr):\n",
    "            number = item // ran % 10\n",
    "            temp = count_arr[number]\n",
    "            count_arr[number] -= 1\n",
    "            result[temp -1]  = item\n",
    "            \n",
    "    return result"
   ]
  },
  {
   "cell_type": "code",
   "execution_count": 19,
   "metadata": {},
   "outputs": [],
   "source": [
    "min_border = 0\n",
    "max_border = 65535\n",
    "count = int(1e8)\n",
    "arr = [randint(min_border, max_border) for _ in range(count)]"
   ]
  },
  {
   "cell_type": "code",
   "execution_count": 20,
   "metadata": {},
   "outputs": [
    {
     "name": "stdout",
     "output_type": "stream",
     "text": [
      "269.747134\n",
      "Success\n"
     ]
    }
   ],
   "source": [
    "# сортировка, замер времени, прверка для поразрядной сортировки\n",
    "result = timing(radix_sort, arr, 5)\n",
    "revision(result)"
   ]
  },
  {
   "cell_type": "raw",
   "metadata": {},
   "source": [
    "использовался массив - 100 млн. значений.\n",
    "комбинированная сортировка - merge and quick sort - 1755 сек.,\n",
    "упрощенная сортировка подсчетом - 40 сек.,\n",
    "сортировка подсчетом с объектами - 114 сек.,\n",
    "поразрядная сортировка - 270 сек..\n",
    "\n",
    "Выводы: алгоритмы сортировки, выполняемые за линейное время, выполняются быстрее, дукгих алгоритмов, но требуют дополнительной информации о сортируемых значениях.\n",
    "\n",
    "Из алгоритмов сортировки, выполняемых за линейное время, наиболее быстрый - упрощенная сортировка подсчетом, но она работает только с числами.\n",
    "\n",
    "    "
   ]
  },
  {
   "cell_type": "code",
   "execution_count": null,
   "metadata": {},
   "outputs": [],
   "source": []
  },
  {
   "cell_type": "code",
   "execution_count": null,
   "metadata": {},
   "outputs": [],
   "source": []
  },
  {
   "cell_type": "code",
   "execution_count": null,
   "metadata": {},
   "outputs": [],
   "source": []
  }
 ],
 "metadata": {
  "kernelspec": {
   "display_name": "Python 3",
   "language": "python",
   "name": "python3"
  },
  "language_info": {
   "codemirror_mode": {
    "name": "ipython",
    "version": 3
   },
   "file_extension": ".py",
   "mimetype": "text/x-python",
   "name": "python",
   "nbconvert_exporter": "python",
   "pygments_lexer": "ipython3",
   "version": "3.7.3"
  }
 },
 "nbformat": 4,
 "nbformat_minor": 2
}
