{
 "cells": [
  {
   "cell_type": "code",
   "execution_count": 1,
   "metadata": {},
   "outputs": [],
   "source": [
    "import numpy as np\n",
    "import math\n",
    "import csv"
   ]
  },
  {
   "cell_type": "code",
   "execution_count": 2,
   "metadata": {},
   "outputs": [],
   "source": [
    "#  Очередь с приоритетом\n",
    "class QNode:\n",
    "    def __init__(self, item, nextt=None):\n",
    "        self._item = item\n",
    "        self._nextt = nextt\n",
    "        \n",
    "    def get_item(self):\n",
    "        return self._item\n",
    "    \n",
    "    def get_next(self):\n",
    "        return self._nextt\n",
    "    \n",
    "    def set_next(self, nextt):\n",
    "        self._nextt = nextt\n",
    "        \n",
    "class Queue:\n",
    "    def __init__(self, head=None, tail=None):\n",
    "        self._head = head\n",
    "        self._tail = tail\n",
    "        \n",
    "    def is_empty(self):\n",
    "        return self._head  == None\n",
    "    \n",
    "    def get_head(self):\n",
    "        return self._head\n",
    "    \n",
    "    def enqueue(self, item):\n",
    "        node = QNode(item)\n",
    "        if self.is_empty():\n",
    "            self._head = self._tail = node\n",
    "        else:\n",
    "            self._tail.set_next(node)\n",
    "            self._tail = node\n",
    "            \n",
    "    def dequeue(self):\n",
    "        if self.is_empty():\n",
    "            return None\n",
    "        item = self._head.get_item()\n",
    "        self._head = self._head.get_next()\n",
    "        return item\n",
    "    \n",
    "class Queue_priority():\n",
    "    def __init__(self, len_priority=5):\n",
    "        self._array = [Queue() for item in range(len_priority)]\n",
    "        self._len_priority = len_priority\n",
    "        \n",
    "    def is_empty(self):\n",
    "        return [item.is_empty() for item in self._array if item.is_empty() == False ] == []\n",
    "    \n",
    "    def get_head(self):\n",
    "        return self._head\n",
    "    \n",
    "    def enqueue(self, item, priority=1):\n",
    "        if (priority > self._len_priority -1) or (priority < 1):\n",
    "            print(priority)\n",
    "            print(\"Неправильный номер очереди\")\n",
    "            return\n",
    "        node = QNode(item)        \n",
    "        self._array[priority - 1].enqueue(node)\n",
    "            \n",
    "    def dequeue(self):\n",
    "        for item in range(self._len_priority):\n",
    "            temp = self._array[item].dequeue()\n",
    "            if temp:\n",
    "                return temp.get_item()\n",
    "               \n"
   ]
  },
  {
   "cell_type": "code",
   "execution_count": 3,
   "metadata": {},
   "outputs": [],
   "source": [
    "# дерево базовое\n",
    "class Node:\n",
    "    \n",
    "    def __init__(self, key, value=None, left=None, right=None):\n",
    "        self.key = key\n",
    "        self.value = value\n",
    "        self.L = left\n",
    "        self.R = right\n",
    "        \n",
    "    def __repr__(self):\n",
    "        return f'Node {str(self.key)}'\n",
    "\n",
    "    \n",
    "class Tree():\n",
    "    \n",
    "    def __init__(self, root=None):\n",
    "        self.root = root\n",
    "        self.row = []\n",
    "        \n",
    "    def insert(self, key, value):\n",
    "        if not self.root:\n",
    "            self.root = Node(key, value)\n",
    "        else:\n",
    "            self.insert_to_node(key, value, self.root)\n",
    "        \n",
    "    def insert_to_node(self, key, value, node):\n",
    "            if node.key == key:\n",
    "                node.value.append(value)\n",
    "                return\n",
    "            if node.key > key:\n",
    "                if node.L:\n",
    "                    self.insert_to_node(key, value, node.L)\n",
    "                else:\n",
    "                    node.L = Node(key, value)\n",
    "            else:\n",
    "                if node.R:\n",
    "                    self.insert_to_node(key, value, node.R)\n",
    "                else:\n",
    "                    node.R = Node(key, value)\n",
    "\n",
    "    def insert_branch(self, node, branch, side):\n",
    "        if side == 'R':\n",
    "            while node.R:\n",
    "                node = node.R\n",
    "            node.R = branch\n",
    "        if side == 'L':\n",
    "            while node.L:\n",
    "                node = node.L\n",
    "            node.L = branch\n",
    "\n",
    "    def search(self, key):\n",
    "        if self.root:\n",
    "            result = self.search_to_node(key, self.root)\n",
    "            if isinstance(result, Node):\n",
    "                return result\n",
    "            else:\n",
    "                return result[0]\n",
    "        else:\n",
    "            return None\n",
    "        \n",
    "    def search_with_parent(self, key):\n",
    "        if self.root:\n",
    "            result = self.search_to_node(key, self.root)\n",
    "            if isinstance(result, Node):\n",
    "                return (result, None)\n",
    "            else:\n",
    "                return result\n",
    "        else:\n",
    "            return None\n",
    "                \n",
    "    def search_to_node(self, key, node):\n",
    "        if node.key == key:\n",
    "            return node\n",
    "        if node.key > key:\n",
    "            if node.L:                \n",
    "                result = self.search_to_node(key, node.L)\n",
    "                if result:\n",
    "                    if isinstance(result, Node):\n",
    "                        return(result, node)\n",
    "                    else:\n",
    "                        return result\n",
    "        else:\n",
    "            if node.R:\n",
    "                result = self.search_to_node(key, node.R)\n",
    "                if result:\n",
    "                    if isinstance(result, Node):\n",
    "                        return(result, node)\n",
    "                    else:\n",
    "                        return result\n",
    "    \n",
    "    def remove(self, key):\n",
    "            node, parent = self.search_with_parent(key)\n",
    "            if (parent and not node.L and not node.R):\n",
    "                if node == parent.L:\n",
    "                    parent.L = None\n",
    "                return\n",
    "\n",
    "            if (parent and node.L and not node.R):\n",
    "                if node == parent.L:\n",
    "                    parent.L = node.L\n",
    "                return\n",
    "\n",
    "            if (parent and not node.L and node.R):\n",
    "                if node == parent.L:\n",
    "                    parent.L = node.R\n",
    "                return\n",
    "\n",
    "            if parent:\n",
    "                if node == parent.L:\n",
    "                    if node.L:\n",
    "                        parent.L = node.L\n",
    "                        self.insert_branch(node.L, node.R, side='R')\n",
    "                if node == parent.R:\n",
    "                    if node.R:\n",
    "                        parent.R = node.R\n",
    "                        self.insert_branch(node.R, node.L, 'L')\n",
    "            else:\n",
    "                if (not node.L and not node.R):\n",
    "                    self.root = None\n",
    "                    return\n",
    "                if node.L and not node.R:\n",
    "                    self.root = node.L\n",
    "                    return\n",
    "                if not node.L and node.R:\n",
    "                    self.root = node.R\n",
    "                    return\n",
    "\n",
    "                self.root = node.L\n",
    "                self.insert_branch(node.L, node.R, side='R')\n",
    "                \n",
    "    def ride(self, order='incr'):   \n",
    "        node = self.root\n",
    "        result = []\n",
    "        def ride_incr(node):\n",
    "            if node == None:\n",
    "                return\n",
    "            ride_incr(node.L)\n",
    "            result.append(node.key)\n",
    "            ride_incr(node.R)\n",
    "        def ride_decr(node):\n",
    "            if node == None:\n",
    "                return\n",
    "            ride_decr(node.R)\n",
    "            result.append(node.key)\n",
    "            ride_decr(node.L)\n",
    "        \n",
    "        if order == 'incr':    \n",
    "            ride_incr(node)\n",
    "        if order == 'decr':\n",
    "            ride_decr(node)\n",
    "        return result\n"
   ]
  },
  {
   "cell_type": "code",
   "execution_count": 4,
   "metadata": {},
   "outputs": [],
   "source": [
    "# делаем таблицу символов\n",
    "def make_dict_symbol(text):\n",
    "    dict_symb = {}\n",
    "    for i in text:\n",
    "        if i in dict_symb:\n",
    "            dict_symb[i] += 1\n",
    "        else:\n",
    "            dict_symb[i] = 1\n",
    "            \n",
    "    max_freq = max(dict_symb.values())\n",
    "    if max_freq > 255:\n",
    "        znam = round(max_freq / 255)\n",
    "        for key, item in dict_symb.items():\n",
    "            dict_symb[key] = math.ceil(item / znam)\n",
    "            \n",
    "    return dict_symb"
   ]
  },
  {
   "cell_type": "code",
   "execution_count": 5,
   "metadata": {},
   "outputs": [],
   "source": [
    "# делаем и заполняем очередь\n",
    "def make_queue_priority(dict_symb):\n",
    "    qup = Queue_priority( sum(dict_symb.values()) + 100)\n",
    "    for key, item in dict_symb.items():\n",
    "        qup.enqueue(Node(key, item), priority=item)\n",
    "    return qup"
   ]
  },
  {
   "cell_type": "code",
   "execution_count": 6,
   "metadata": {},
   "outputs": [],
   "source": [
    "# делаем дерево\n",
    "def make_tree(qup):\n",
    "#     while not qup.is_empty():\n",
    "    while True:\n",
    "        node_1 = qup.dequeue()\n",
    "        node_2 = qup.dequeue()\n",
    "        if not node_2:\n",
    "            tree = Tree()\n",
    "            tree.root = node_1\n",
    "            return tree\n",
    "\n",
    "        node_3 = Node(key=None, value=node_1.value + node_2.value)\n",
    "        node_3.L = node_1\n",
    "        node_3.R = node_2\n",
    "        qup.enqueue(node_3, priority=node_3.value)\n",
    "        \n",
    "# def make_tree_2(qup, n):\n",
    "#     tree = Tree()\n",
    "#     for i in range(1, n):\n",
    "#         x = qup.dequeue()\n",
    "#         y = qup.dequeue()\n",
    "#         z = Node(key=None, value=x.value + y.value)\n",
    "#         z.L = x\n",
    "#         z.R = y\n",
    "#         qup.enqueue(z, priority=z.value)\n",
    "#     tree.root = qup.dequeue()\n",
    "#     return tree"
   ]
  },
  {
   "cell_type": "code",
   "execution_count": 7,
   "metadata": {},
   "outputs": [],
   "source": [
    "def make_code_table(node):\n",
    "    dict_code = {}\n",
    "    code = str()\n",
    "    def ride_tree(node, code):\n",
    "        if node.key != None:\n",
    "            dict_code[node.key] = '' + code\n",
    "            return\n",
    "        ride_tree(node.L, code + '0')\n",
    "        ride_tree(node.R, code + '1')\n",
    "    ride_tree(node, '')    \n",
    "    return dict_code"
   ]
  },
  {
   "cell_type": "code",
   "execution_count": 8,
   "metadata": {},
   "outputs": [],
   "source": [
    "def compress_text(code_table, text):\n",
    "    temp = ''\n",
    "    for symb in text:\n",
    "        temp += code_table[symb]\n",
    "    return temp"
   ]
  },
  {
   "cell_type": "code",
   "execution_count": 9,
   "metadata": {},
   "outputs": [],
   "source": [
    "def write_to_file(text_compr, file_name):\n",
    "    np.packbits(np.array([i for i in text_compr], dtype='int8')).tofile(file_name)"
   ]
  },
  {
   "cell_type": "code",
   "execution_count": 10,
   "metadata": {},
   "outputs": [],
   "source": [
    " def write_code_table(code_table, table_name):\n",
    "    with open(table_name, 'w') as csv_file: \n",
    "        writer = csv.writer(csv_file) \n",
    "        for key, value in code_table.items(): \n",
    "            writer.writerow([key, value]) "
   ]
  },
  {
   "cell_type": "code",
   "execution_count": 11,
   "metadata": {},
   "outputs": [],
   "source": [
    "def compress(text, file_name, table_name):\n",
    "    dict_symb = make_dict_symbol(text)\n",
    "    qup = make_queue_priority(dict_symb)\n",
    "    tree = make_tree(qup)\n",
    "    code_table = make_code_table(tree.root)\n",
    "    text_compr = compress_text(code_table, text)\n",
    "    write_to_file(text_compr, file_name)    \n",
    "    write_code_table(code_table, table_name)"
   ]
  },
  {
   "cell_type": "code",
   "execution_count": 12,
   "metadata": {},
   "outputs": [],
   "source": [
    "# decompress"
   ]
  },
  {
   "cell_type": "code",
   "execution_count": 25,
   "metadata": {},
   "outputs": [],
   "source": [
    "# проблемное мето, медленное, но так не теряются нули в начале сжатого текста.\n",
    "def read_from_file(file_name):\n",
    "    st = np.unpackbits(np.fromfile(file_name, dtype='uint8'))\n",
    "    return np.array2string(st, separator='', max_line_width=np.inf, threshold=np.inf).strip('[]')[:-2]"
   ]
  },
  {
   "cell_type": "code",
   "execution_count": 26,
   "metadata": {},
   "outputs": [],
   "source": [
    "def read_code_table(file_name):\n",
    "    dict_code = {}\n",
    "    with open(file_name, 'r') as csv_file: \n",
    "            writer = csv.reader(csv_file) \n",
    "            for key, value in writer:\n",
    "                dict_code[key] = value\n",
    "    return dict_code"
   ]
  },
  {
   "cell_type": "code",
   "execution_count": 27,
   "metadata": {},
   "outputs": [],
   "source": [
    "def make_decode_table(dict_code):\n",
    "    table = {}\n",
    "    for key, value in dict_code.items():\n",
    "        table[value] = key\n",
    "    return table\n",
    "\n",
    "def decompress_file(code_table, compress_text):\n",
    "    table = make_decode_table(code_table)\n",
    "    codes = ''\n",
    "    string = ''\n",
    "    for item in compress_text:\n",
    "        codes += item\n",
    "        symb = table.get(codes)\n",
    "        if symb:\n",
    "            string += symb\n",
    "            codes = ''\n",
    "    return string"
   ]
  },
  {
   "cell_type": "code",
   "execution_count": 28,
   "metadata": {},
   "outputs": [],
   "source": [
    "def decompress(file_name, table_name):\n",
    "    dict_code = read_code_table(table_name)\n",
    "    compress_text = read_from_file(file_name)\n",
    "    return decompress_file(dict_code, compress_text)"
   ]
  },
  {
   "cell_type": "code",
   "execution_count": null,
   "metadata": {},
   "outputs": [],
   "source": []
  },
  {
   "cell_type": "code",
   "execution_count": 17,
   "metadata": {},
   "outputs": [],
   "source": [
    "text = 'Однажды галок, поп, пугая, в кустах увидел попугая, и говорит тот попугай - ты галок, поп, пугать, пугай, но галок, поп, пугать, пугая, пугать не смей, ты, попугая.'\n",
    "# text = 'АБРАКАДАБРА'"
   ]
  },
  {
   "cell_type": "code",
   "execution_count": null,
   "metadata": {},
   "outputs": [],
   "source": []
  },
  {
   "cell_type": "code",
   "execution_count": 18,
   "metadata": {},
   "outputs": [],
   "source": [
    "compress(text, 'text.bin', 'table.csv')"
   ]
  },
  {
   "cell_type": "code",
   "execution_count": 19,
   "metadata": {},
   "outputs": [
    {
     "data": {
      "text/plain": [
       "'Однажды галок, поп, пугая, в кустах увидел попугая, и говорит тот попугай - ты галок, поп, пугать, пугай, но галок, поп, пугать, пугая, пугать не смей, ты, попугая.'"
      ]
     },
     "execution_count": 19,
     "metadata": {},
     "output_type": "execute_result"
    }
   ],
   "source": [
    "t = decompress('text.bin', 'table.csv'); t"
   ]
  },
  {
   "cell_type": "code",
   "execution_count": 20,
   "metadata": {},
   "outputs": [
    {
     "data": {
      "text/plain": [
       "'Однажды галок, поп, пугая, в кустах увидел попугая, и говорит тот попугай - ты галок, поп, пугать, пугай, но галок, поп, пугать, пугая, пугать не смей, ты, попугая.'"
      ]
     },
     "execution_count": 20,
     "metadata": {},
     "output_type": "execute_result"
    }
   ],
   "source": [
    "text"
   ]
  },
  {
   "cell_type": "code",
   "execution_count": 21,
   "metadata": {},
   "outputs": [
    {
     "data": {
      "text/plain": [
       "True"
      ]
     },
     "execution_count": 21,
     "metadata": {},
     "output_type": "execute_result"
    }
   ],
   "source": [
    "len(t) == len(text)"
   ]
  },
  {
   "cell_type": "code",
   "execution_count": 22,
   "metadata": {},
   "outputs": [
    {
     "data": {
      "text/plain": [
       "'\\n\\n\\nТом первый\\n\\n\\n\\n\\nЧасть первая\\n\\n\\n\\n\\nI\\n\\n\\n[1] Ну, здравствуйте, здравствуйте. Je vois que je vous fais peur,[2] садитесь и рассказывайте.\\n\\nТак говорила в июле 1805 года известная Анна Павловна Шерер, фрейлина и приближенная императрицы Марии Феодоровны, встречая важного и чиновного князя Василия, первого приехавшего на ее вечер. Анна Павловна кашляла несколько дней, у нее был грипп, как она говорила (грипп был тогда новое слово, употреблявшееся только редкими). В записочках, разосланных утром с красным лакеем, было написано без различия во всех:\\n\\n[3]\\n\\n–\\xa0Dieu, quelle virulente sortie![4] – отвечал, нисколько не смутясь такою встречей, вошедший князь, в придворном, шитом мундире, в чулках, башмаках и звездах, с светлым выражением плоского лица.\\n\\nОн говорил на том изысканном французском языке, на котором не только говорили, но и думали наши деды, и с теми тихими, покровительственными интонациями, которые свойственны состаревшемуся в свете и при дворе значительному человеку. Он подошел к Анне'"
      ]
     },
     "execution_count": 22,
     "metadata": {},
     "output_type": "execute_result"
    }
   ],
   "source": [
    "with open('Voyna-i-mir.txt', encoding='utf8') as f:\n",
    "    text = f.read()\n",
    "text[:1000]"
   ]
  },
  {
   "cell_type": "code",
   "execution_count": 23,
   "metadata": {},
   "outputs": [],
   "source": [
    "compress(text, 'text.bin', 'table.csv')"
   ]
  },
  {
   "cell_type": "code",
   "execution_count": 29,
   "metadata": {},
   "outputs": [],
   "source": [
    "t = decompress('text.bin', 'table.csv')"
   ]
  },
  {
   "cell_type": "code",
   "execution_count": 30,
   "metadata": {},
   "outputs": [
    {
     "data": {
      "text/plain": [
       "'\\n\\n\\nТом первый\\n\\n\\n\\n\\nЧасть первая\\n\\n\\n\\n\\nI\\n\\n\\n[1] Ну, здравствуйте, здравствуйте. Je vois que je vous fais peur,[2] садитесь и рассказывайте.\\n\\nТак говорила в июле 1805 года известная Анна Павловна Шерер, фрейлина и приближенная императрицы Марии Феодоровны, встречая важного и чиновного князя Василия, первого приехавшего на ее вечер. Анна Павловна кашляла несколько дней, у нее был грипп, как она говорила (грипп был тогда новое слово, употреблявшееся только редкими). В записочках, разосланных утром с красным лакеем, было написано без различия во всех:\\n\\n[3]\\n\\n–\\xa0Dieu, quelle virulente sortie![4] – отвечал, нисколько не смутясь такою встречей, вошедший князь, в придворном, шитом мундире, в чулках, башмаках и звездах, с светлым выражением плоского лица.\\n\\nОн говорил на том изысканном французском языке, на котором не только говорили, но и думали наши деды, и с теми тихими, покровительственными интонациями, которые свойственны состаревшемуся в свете и при дворе значительному человеку. Он подошел к Анне'"
      ]
     },
     "execution_count": 30,
     "metadata": {},
     "output_type": "execute_result"
    }
   ],
   "source": [
    "t[:1000]"
   ]
  },
  {
   "cell_type": "code",
   "execution_count": 31,
   "metadata": {},
   "outputs": [
    {
     "data": {
      "text/plain": [
       "True"
      ]
     },
     "execution_count": 31,
     "metadata": {},
     "output_type": "execute_result"
    }
   ],
   "source": [
    "len(t) == len(text)"
   ]
  },
  {
   "cell_type": "code",
   "execution_count": 43,
   "metadata": {},
   "outputs": [],
   "source": [
    "import os\n",
    "size_1 = os.path.getsize('table.csv')"
   ]
  },
  {
   "cell_type": "code",
   "execution_count": 42,
   "metadata": {},
   "outputs": [
    {
     "ename": "NameError",
     "evalue": "name 'os' is not defined",
     "output_type": "error",
     "traceback": [
      "\u001b[0;31m---------------------------------------------------------------------------\u001b[0m",
      "\u001b[0;31mNameError\u001b[0m                                 Traceback (most recent call last)",
      "\u001b[0;32m<ipython-input-42-faa1d5e759e7>\u001b[0m in \u001b[0;36m<module>\u001b[0;34m\u001b[0m\n\u001b[0;32m----> 1\u001b[0;31m \u001b[0msize_2\u001b[0m \u001b[0;34m=\u001b[0m \u001b[0mos\u001b[0m\u001b[0;34m.\u001b[0m\u001b[0mpath\u001b[0m\u001b[0;34m.\u001b[0m\u001b[0mgetsize\u001b[0m\u001b[0;34m(\u001b[0m\u001b[0;34m'text.bin'\u001b[0m\u001b[0;34m)\u001b[0m\u001b[0;34m;\u001b[0m \u001b[0msize_2\u001b[0m\u001b[0;34m\u001b[0m\u001b[0;34m\u001b[0m\u001b[0m\n\u001b[0m",
      "\u001b[0;31mNameError\u001b[0m: name 'os' is not defined"
     ]
    }
   ],
   "source": [
    "size_2 = os.path.getsize('text.bin'); size_2"
   ]
  },
  {
   "cell_type": "code",
   "execution_count": 35,
   "metadata": {},
   "outputs": [
    {
     "data": {
      "text/plain": [
       "871028"
      ]
     },
     "execution_count": 35,
     "metadata": {},
     "output_type": "execute_result"
    }
   ],
   "source": [
    "size_2 = int(size_2[0].split()[0]); size_2"
   ]
  },
  {
   "cell_type": "code",
   "execution_count": 39,
   "metadata": {},
   "outputs": [],
   "source": [
    "size_3 = !wc -c Voyna-i-mir.txt"
   ]
  },
  {
   "cell_type": "code",
   "execution_count": 40,
   "metadata": {},
   "outputs": [
    {
     "data": {
      "text/plain": [
       "2580559"
      ]
     },
     "execution_count": 40,
     "metadata": {},
     "output_type": "execute_result"
    }
   ],
   "source": [
    "size_3 = int(size_3[0].split()[0]); size_3"
   ]
  },
  {
   "cell_type": "code",
   "execution_count": 41,
   "metadata": {},
   "outputs": [
    {
     "data": {
      "text/plain": [
       "2.9555097436249835"
      ]
     },
     "execution_count": 41,
     "metadata": {},
     "output_type": "execute_result"
    }
   ],
   "source": [
    "coef = size_3/ (size_1 + size_2); coef"
   ]
  },
  {
   "cell_type": "code",
   "execution_count": null,
   "metadata": {},
   "outputs": [],
   "source": []
  }
 ],
 "metadata": {
  "kernelspec": {
   "display_name": "Python 3",
   "language": "python",
   "name": "python3"
  },
  "language_info": {
   "codemirror_mode": {
    "name": "ipython",
    "version": 3
   },
   "file_extension": ".py",
   "mimetype": "text/x-python",
   "name": "python",
   "nbconvert_exporter": "python",
   "pygments_lexer": "ipython3",
   "version": "3.7.3"
  }
 },
 "nbformat": 4,
 "nbformat_minor": 2
}
