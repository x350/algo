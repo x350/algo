{
 "cells": [
  {
   "cell_type": "code",
   "execution_count": 1,
   "metadata": {},
   "outputs": [],
   "source": [
    "import numpy as np"
   ]
  },
  {
   "cell_type": "code",
   "execution_count": 2,
   "metadata": {},
   "outputs": [],
   "source": [
    "class Node:\n",
    "    def __init__(self, key):\n",
    "        self.key = key\n",
    "        self.edges = None\n",
    "        self.next = None\n",
    "        self.color = 'white' \n",
    "        \n",
    "    def __repr__(self):\n",
    "        return f'Node \"{self.key}\"'\n",
    "    \n",
    "    def __iter__(self):\n",
    "        item = self.edges\n",
    "        while item is not None:\n",
    "            yield item\n",
    "            item = item.next\n",
    "            \n",
    "    def get_edges(self):\n",
    "        return [item for item in self]\n",
    "    \n",
    "        \n",
    "class Edge:\n",
    "    def __init__(self, node_in, weight=None, key=None):\n",
    "        self.next = None\n",
    "        self.node_in = node_in\n",
    "        self.weight = weight\n",
    "        self.key = key\n",
    "        \n",
    "    def __repr__(self):\n",
    "        return f'Edge \"key-{self.key}, weight-{self.weight}, to-{self.node_in}\"'\n",
    "        \n",
    "class Graph:\n",
    "    def __init__(self, node=None, adges=Node):\n",
    "        self.head_node = node\n",
    "        \n",
    "    def __iter__(self):\n",
    "        item = self.head_node\n",
    "        while item is not None:\n",
    "            yield item\n",
    "            item = item.next\n",
    "            \n",
    "    def add_node(self, node):\n",
    "        if self.head_node is None:\n",
    "            self.head_node = node\n",
    "            return\n",
    "        last_node = self.head_node\n",
    "        while last_node.next:\n",
    "            last_node = last_node.next\n",
    "        last_node.next = node\n",
    "    \n",
    "    \n",
    "    def search_node(self, key):\n",
    "        if self.head_node is None:\n",
    "            return\n",
    "        next_node = self.head_node\n",
    "        if next_node.key == key:\n",
    "            return next_node\n",
    "        while next_node.next:\n",
    "            next_node = next_node.next\n",
    "            if next_node.key == key:\n",
    "                return next_node\n",
    "    \n",
    "    \n",
    "    def add_edge(self, node_key_out, node_key_in,  weight=None, key=None):\n",
    "        node_out = self.search_node(node_key_out)\n",
    "        node_in = self.search_node(node_key_in)\n",
    "        edge = Edge(node_in, weight, key)\n",
    "        if not node_out or not node_in:\n",
    "            print('Не найдена вершина')\n",
    "            return\n",
    "        if node_out.edges is None:\n",
    "            node_out.edges = edge\n",
    "            return\n",
    "        next_edge = node_out.edges\n",
    "        while next_edge.next:\n",
    "            next_edge = next_edge.next\n",
    "        next_edge.next = edge\n",
    "        \n",
    "    def remove_edge_out(self, node_key_out, node_key_in):\n",
    "        node_out = self.search_node(node_key_out)\n",
    "#         node_in = self.search_node(node_key_in)\n",
    "        if not node_out.edges:\n",
    "            return\n",
    "        next_edge = node_out.edges\n",
    "        if next_edge.node_in.key == node_key_in:\n",
    "            node_out.edges = next_edge.next\n",
    "            return\n",
    "        while next_edge.next:\n",
    "            if next_edge.next.node_in.key == node_key_in:\n",
    "                next_edge.next = next_edge.next.next\n",
    "                return\n",
    "            next_edge = next_edge.next\n",
    "            \n",
    "    def remove_node(self, node_key):\n",
    "        self.remove_edges_in(node_key)\n",
    "        \n",
    "        next_node = self.head_node\n",
    "        if next_node.key == node_key:\n",
    "            self.head_node = next_node.next\n",
    "            return\n",
    "        while next_node:\n",
    "            if next_node.next.key == node_key:\n",
    "                next_node.next = next_node.next.next\n",
    "            next_node = next_node.next\n",
    "        \n",
    "        \n",
    "    def del_edges(self, node, node_key_in):\n",
    "        if not node.edges:\n",
    "            return\n",
    "        edge = node.edges\n",
    "        if edge.node_in.key == node_key_in:\n",
    "            node.edges = edge.next\n",
    "        while edge.next:\n",
    "            if edge.next.node_in.key == node_key_in:\n",
    "                edge.next = edge.next.next\n",
    "                continue\n",
    "            edge = edge.next\n",
    "    \n",
    "    def remove_edges_in(self, node_key_in):\n",
    "        if not self.head_node:\n",
    "            return       \n",
    "        node = self.head_node\n",
    "        while node:\n",
    "            self.del_edges(node, node_key_in)            \n",
    "            node = node.next\n",
    "            \n",
    "    def get_adjacent_nodes(self, node):\n",
    "        return [item.node_in for item in node]\n",
    "    \n",
    "    def refresh_color(self):\n",
    "        for item in self:\n",
    "            item.color = 'white'\n",
    "            \n",
    "    def nodes_key_list(self):\n",
    "        return [item.key for item in self]\n",
    "    \n",
    "    def nodes_list(self):\n",
    "        return [item for item in self]\n",
    "    \n"
   ]
  },
  {
   "cell_type": "code",
   "execution_count": 3,
   "metadata": {},
   "outputs": [],
   "source": [
    "g = Graph()\n",
    "\n",
    "g.add_node(Node('1'))\n",
    "g.add_node(Node('2'))\n",
    "g.add_node(Node('3'))\n",
    "g.add_node(Node('4'))\n",
    "g.add_node(Node('5'))\n",
    "g.add_node(Node('6'))\n",
    "\n",
    "\n",
    "g.add_edge('1','6', 14)\n",
    "g.add_edge('1','3', 9)\n",
    "g.add_edge('1','2', 7)\n",
    "g.add_edge('2','1', 7)\n",
    "g.add_edge('2','3', 10)\n",
    "g.add_edge('2','4', 15)\n",
    "g.add_edge('6','1', 14)\n",
    "g.add_edge('6','2', 2)\n",
    "g.add_edge('6','5', 9)\n",
    "g.add_edge('3','1', 9)\n",
    "g.add_edge('3','2', 10)\n",
    "g.add_edge('3','6', 2)\n",
    "g.add_edge('3','4', 11)\n",
    "g.add_edge('4','2', 15)\n",
    "g.add_edge('4','3', 11)\n",
    "g.add_edge('4','5', 6)\n",
    "g.add_edge('5','6', 9)\n",
    "g.add_edge('5','4', 6)"
   ]
  },
  {
   "cell_type": "markdown",
   "metadata": {},
   "source": [
    "## Алгоритм Дейкстры"
   ]
  },
  {
   "cell_type": "code",
   "execution_count": 4,
   "metadata": {},
   "outputs": [],
   "source": [
    "class Deijkstra_result_dict:\n",
    "    def __init__(self, nodes_dict):\n",
    "        self.nodes_dict = nodes_dict\n",
    "        \n",
    "    def get_cost(self, node):\n",
    "        if self.nodes_dict:\n",
    "            return self.nodes_dict[node][0]\n",
    "        \n",
    "    def get_path(self, node):\n",
    "        if self.nodes_dict:\n",
    "            path = []\n",
    "            path.append(node)\n",
    "            item = self.nodes_dict[node][1]\n",
    "            while item:\n",
    "                path.append(item)\n",
    "                item = self.nodes_dict[item][1]\n",
    "            path.reverse()    \n",
    "            return path\n",
    "        \n",
    "    def __repr__(self):\n",
    "        result = ''\n",
    "        for key, item in self.nodes_dict.items():\n",
    "            result = '\\n'.join([result, ' : '.join([key, str(item)])])\n",
    "        return result\n",
    "        \n",
    "def get_min_node(nodes_dict):\n",
    "    minim = np.inf\n",
    "    result = None\n",
    "    for key, item in nodes_dict.items():\n",
    "        if item[2] == 'v':\n",
    "            continue\n",
    "        if item[0] < minim:\n",
    "            minim = item[0]\n",
    "            result = key\n",
    "    return result\n",
    "\n",
    "def compare_edges(graph, start, nodes_dict):\n",
    "    node = graph.search_node(start)\n",
    "    edges = node.get_edges()\n",
    "    start_temp = nodes_dict[node.key]\n",
    "    for edge in edges:\n",
    "        temp = nodes_dict[edge.node_in.key]\n",
    "        if (start_temp[0] + edge.weight) < temp[0]:\n",
    "            nodes_dict[edge.node_in.key] = [start_temp[0] + edge.weight, start, 'n_v']\n",
    "    nodes_dict[node.key][2] = 'v'\n",
    "\n",
    "def deijkctra(graph, node_key):\n",
    "    nodes_list = graph.nodes_key_list()\n",
    "    nodes_dict = {}\n",
    "    for item in nodes_list:\n",
    "        nodes_dict[item] = [np.inf, None, 'n_v']\n",
    "    nodes_dict[node_key][0] = 0\n",
    "    nodes_dict[node_key][1] = 0\n",
    "    while node_key:      \n",
    "        compare_edges(graph, node_key, nodes_dict)\n",
    "        node_key = get_min_node(nodes_dict)\n",
    "        # метка выхода, если ищем путь только до вершины node_key\n",
    "    return Deijkstra_result_dict(nodes_dict)    \n"
   ]
  },
  {
   "cell_type": "code",
   "execution_count": 5,
   "metadata": {},
   "outputs": [],
   "source": [
    "result = deijkctra(g, '1')"
   ]
  },
  {
   "cell_type": "code",
   "execution_count": 6,
   "metadata": {},
   "outputs": [
    {
     "data": {
      "text/plain": [
       "20"
      ]
     },
     "execution_count": 6,
     "metadata": {},
     "output_type": "execute_result"
    }
   ],
   "source": [
    "result.get_cost('5')"
   ]
  },
  {
   "cell_type": "code",
   "execution_count": 7,
   "metadata": {},
   "outputs": [
    {
     "data": {
      "text/plain": [
       "['1', '3', '6', '5']"
      ]
     },
     "execution_count": 7,
     "metadata": {},
     "output_type": "execute_result"
    }
   ],
   "source": [
    "result.get_path('5')"
   ]
  },
  {
   "cell_type": "code",
   "execution_count": 8,
   "metadata": {},
   "outputs": [],
   "source": [
    "g2 = Graph()\n",
    "\n",
    "g2.add_node(Node('A'))\n",
    "g2.add_node(Node('B'))\n",
    "g2.add_node(Node('C'))\n",
    "g2.add_node(Node('D'))\n",
    "g2.add_node(Node('E'))\n",
    "g2.add_node(Node('F'))\n",
    "g2.add_node(Node('G'))\n",
    "\n",
    "\n",
    "g2.add_edge('A','B', 2)\n",
    "g2.add_edge('A','C', 3)\n",
    "g2.add_edge('A','D', 6)\n",
    "g2.add_edge('B','A', 2)\n",
    "g2.add_edge('B','C', 4)\n",
    "g2.add_edge('B','E', 9)\n",
    "g2.add_edge('C','A', 3)\n",
    "g2.add_edge('C','B', 4)\n",
    "g2.add_edge('C','D', 1)\n",
    "g2.add_edge('C','E', 7)\n",
    "g2.add_edge('C','F', 6)\n",
    "g2.add_edge('D','A', 6)\n",
    "g2.add_edge('D','C', 1)\n",
    "g2.add_edge('D','F', 4)\n",
    "g2.add_edge('E','B', 9)\n",
    "g2.add_edge('E','C', 7)\n",
    "g2.add_edge('E','F', 1)\n",
    "g2.add_edge('E','G', 5)\n",
    "g2.add_edge('F','D', 4)\n",
    "g2.add_edge('F','C', 6)\n",
    "g2.add_edge('F','E', 1)\n",
    "g2.add_edge('F','G', 8)\n",
    "g2.add_edge('G','E', 5)\n",
    "g2.add_edge('G','F', 8)"
   ]
  },
  {
   "cell_type": "code",
   "execution_count": 9,
   "metadata": {},
   "outputs": [],
   "source": [
    "result_2 = deijkctra(g2, 'A')"
   ]
  },
  {
   "cell_type": "code",
   "execution_count": 10,
   "metadata": {},
   "outputs": [
    {
     "data": {
      "text/plain": [
       "14"
      ]
     },
     "execution_count": 10,
     "metadata": {},
     "output_type": "execute_result"
    }
   ],
   "source": [
    "result_2.get_cost('G')"
   ]
  },
  {
   "cell_type": "code",
   "execution_count": 11,
   "metadata": {},
   "outputs": [
    {
     "data": {
      "text/plain": [
       "['A', 'C', 'D', 'F', 'E', 'G']"
      ]
     },
     "execution_count": 11,
     "metadata": {},
     "output_type": "execute_result"
    }
   ],
   "source": [
    "result_2.get_path('G')"
   ]
  },
  {
   "cell_type": "code",
   "execution_count": 12,
   "metadata": {},
   "outputs": [
    {
     "data": {
      "text/plain": [
       "\n",
       "A : [0, 0, 'v']\n",
       "B : [2, 'A', 'v']\n",
       "C : [3, 'A', 'v']\n",
       "D : [4, 'C', 'v']\n",
       "E : [9, 'F', 'v']\n",
       "F : [8, 'D', 'v']\n",
       "G : [14, 'E', 'v']"
      ]
     },
     "execution_count": 12,
     "metadata": {},
     "output_type": "execute_result"
    }
   ],
   "source": [
    "result_2"
   ]
  },
  {
   "cell_type": "markdown",
   "metadata": {},
   "source": [
    "## Алгоритм Беллмана-Форда"
   ]
  },
  {
   "cell_type": "code",
   "execution_count": 13,
   "metadata": {},
   "outputs": [],
   "source": [
    "class Result_dict:\n",
    "    def __init__(self, nodes_dict):\n",
    "        self.nodes_dict = nodes_dict\n",
    "        \n",
    "    def get_cost(self, node):\n",
    "        if self.nodes_dict:\n",
    "            return self.nodes_dict[node][0]\n",
    "        \n",
    "    def get_path(self, node):\n",
    "        if self.nodes_dict:\n",
    "            path = []\n",
    "            path.append(node)\n",
    "            item = self.nodes_dict[node][1]\n",
    "            while item:\n",
    "                path.append(item)\n",
    "                item = self.nodes_dict[item][1]\n",
    "            path.reverse()    \n",
    "            return path\n",
    "        \n",
    "    def __repr__(self):\n",
    "        result = ''\n",
    "        for key, item in self.nodes_dict.items():\n",
    "            result = '\\n'.join([result, ' : '.join([key, str(item)])])\n",
    "        return result\n",
    "\n",
    "def relax(u, v, w, nodes_dict):\n",
    "    if nodes_dict[v][0] > (nodes_dict[u][0] + w):\n",
    "        nodes_dict[v][0] = nodes_dict[u][0] + w\n",
    "        nodes_dict[v][1] = u\n",
    "        return True\n",
    "        \n",
    "def bellman_ford(graph, start):\n",
    "    nodes_list = graph.nodes_key_list()\n",
    "    nodes_dict = {}\n",
    "    for item in nodes_list:\n",
    "        nodes_dict[item] = [np.inf, None, 'n_v']\n",
    "    nodes_dict[start][0] = 0\n",
    "    nodes_dict[start][1] = 0\n",
    "    \n",
    "    edges = []\n",
    "    for vertex in  graph.nodes_list():\n",
    "        for edge in vertex:\n",
    "            edges.append([vertex.key, edge.node_in.key, edge.weight])\n",
    "\n",
    "## full iteration\n",
    "#     for _ in range(len(nodes_list) -1):\n",
    "#         for edge in edges:\n",
    "#             relax(*edge, nodes_dict) \n",
    "   \n",
    "## iterations, while change\n",
    "    count = 0\n",
    "    border = len(nodes_list) -1\n",
    "    while True:\n",
    "        check_change = False\n",
    "        for edge in edges:            \n",
    "            if relax(*edge, nodes_dict):\n",
    "                check_change = True\n",
    "        if not check_change:\n",
    "            break\n",
    "        count += 1\n",
    "        if count > border:\n",
    "            print('negative cycle')\n",
    "            print(Result_dict(nodes_dict))\n",
    "            return \n",
    "            \n",
    "    return Result_dict(nodes_dict)\n",
    "        "
   ]
  },
  {
   "cell_type": "code",
   "execution_count": 14,
   "metadata": {},
   "outputs": [],
   "source": [
    "result = bellman_ford(g2, 'A')"
   ]
  },
  {
   "cell_type": "code",
   "execution_count": 15,
   "metadata": {},
   "outputs": [
    {
     "data": {
      "text/plain": [
       "['A', 'C', 'D', 'F', 'E', 'G']"
      ]
     },
     "execution_count": 15,
     "metadata": {},
     "output_type": "execute_result"
    }
   ],
   "source": [
    "result.get_path('G')"
   ]
  },
  {
   "cell_type": "code",
   "execution_count": 16,
   "metadata": {},
   "outputs": [
    {
     "data": {
      "text/plain": [
       "14"
      ]
     },
     "execution_count": 16,
     "metadata": {},
     "output_type": "execute_result"
    }
   ],
   "source": [
    "result.get_cost('G')"
   ]
  },
  {
   "cell_type": "code",
   "execution_count": 17,
   "metadata": {},
   "outputs": [
    {
     "data": {
      "text/plain": [
       "['1', '3', '6', '5']"
      ]
     },
     "execution_count": 17,
     "metadata": {},
     "output_type": "execute_result"
    }
   ],
   "source": [
    "result = bellman_ford(g, '1')\n",
    "result.get_path('5')"
   ]
  },
  {
   "cell_type": "code",
   "execution_count": 18,
   "metadata": {},
   "outputs": [
    {
     "data": {
      "text/plain": [
       "20"
      ]
     },
     "execution_count": 18,
     "metadata": {},
     "output_type": "execute_result"
    }
   ],
   "source": [
    "result.get_cost('5')"
   ]
  },
  {
   "cell_type": "code",
   "execution_count": 19,
   "metadata": {},
   "outputs": [],
   "source": [
    "# 'negative cycle'\n",
    "g3 = Graph()\n",
    "\n",
    "g3.add_node(Node('A'))\n",
    "g3.add_node(Node('B'))\n",
    "g3.add_node(Node('C'))\n",
    "g3.add_node(Node('D'))\n",
    "g3.add_node(Node('E'))\n",
    "g3.add_node(Node('F'))\n",
    "g3.add_node(Node('G'))\n",
    "\n",
    "\n",
    "g3.add_edge('A','B', 2)\n",
    "g3.add_edge('A','C', 3)\n",
    "g3.add_edge('A','D', 6)\n",
    "g3.add_edge('B','A', 2)\n",
    "g3.add_edge('B','C', 4)\n",
    "g2.add_edge('B','E', 9)\n",
    "g3.add_edge('C','A', 3)\n",
    "g3.add_edge('C','B', 4)\n",
    "g3.add_edge('C','D', -10)\n",
    "g3.add_edge('C','E', 7)\n",
    "g3.add_edge('C','F', 6)\n",
    "g3.add_edge('D','A', 6)\n",
    "g3.add_edge('D','C', -10)\n",
    "g3.add_edge('D','F', 4)\n",
    "g3.add_edge('E','B', 9)\n",
    "g3.add_edge('E','C', 7)\n",
    "g3.add_edge('E','F', 1)\n",
    "g3.add_edge('E','G', 5)\n",
    "g3.add_edge('F','D', 4)\n",
    "g3.add_edge('F','C', 6)\n",
    "g3.add_edge('F','E', 1)\n",
    "g3.add_edge('F','G', 8)\n",
    "g3.add_edge('G','E', 5)\n",
    "g3.add_edge('G','F', 8)"
   ]
  },
  {
   "cell_type": "code",
   "execution_count": 20,
   "metadata": {},
   "outputs": [
    {
     "name": "stdout",
     "output_type": "stream",
     "text": [
      "negative cycle\n",
      "\n",
      "A : [-121, 'D', 'n_v']\n",
      "B : [-113, 'C', 'n_v']\n",
      "C : [-137, 'D', 'n_v']\n",
      "D : [-127, 'C', 'n_v']\n",
      "E : [-122, 'F', 'n_v']\n",
      "F : [-123, 'D', 'n_v']\n",
      "G : [-115, 'F', 'n_v']\n"
     ]
    }
   ],
   "source": [
    "result = bellman_ford(g3, 'A')"
   ]
  },
  {
   "cell_type": "code",
   "execution_count": 21,
   "metadata": {},
   "outputs": [],
   "source": [
    "# виден цикл - 'C'-'D'-'F'"
   ]
  },
  {
   "cell_type": "code",
   "execution_count": null,
   "metadata": {},
   "outputs": [],
   "source": []
  }
 ],
 "metadata": {
  "kernelspec": {
   "display_name": "Python 3",
   "language": "python",
   "name": "python3"
  },
  "language_info": {
   "codemirror_mode": {
    "name": "ipython",
    "version": 3
   },
   "file_extension": ".py",
   "mimetype": "text/x-python",
   "name": "python",
   "nbconvert_exporter": "python",
   "pygments_lexer": "ipython3",
   "version": "3.7.3"
  }
 },
 "nbformat": 4,
 "nbformat_minor": 2
}
