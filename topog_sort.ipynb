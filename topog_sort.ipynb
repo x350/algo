{
 "cells": [
  {
   "cell_type": "code",
   "execution_count": 1,
   "metadata": {},
   "outputs": [],
   "source": [
    "import numpy as np"
   ]
  },
  {
   "cell_type": "code",
   "execution_count": 2,
   "metadata": {},
   "outputs": [],
   "source": [
    "# граф задан вектором смежности\n",
    "graph = {'A': ['C', 'M'], 'B': ['M'], 'C':[], 'D':['C'], 'E':['C', 'I', 'J'], 'F':['D', 'K', 'L'], \n",
    "    'G': ['K'], 'H':['B', 'D', 'F', 'G'], 'I':['A', 'N'], 'J':['A', 'G', 'L'], 'K':['C'],\n",
    "    'L':[], 'M':['C'], 'N':['F']}"
   ]
  },
  {
   "cell_type": "code",
   "execution_count": 3,
   "metadata": {},
   "outputs": [],
   "source": [
    "# алгоритм Демукрона записан для матрицы смежности.\n",
    "# Конвертируем вектор смежности в матрицу смежности\n",
    "def convert_to_matrix(graph):\n",
    "    map_g = {}\n",
    "    for ind, item in enumerate(graph.keys()):\n",
    "        map_g[item] = ind\n",
    "    arr = np.zeros([len(graph), len(graph)],int)\n",
    "    for ind, item in graph.items():\n",
    "        for element in item:\n",
    "            arr[map_g[ind]][map_g[element]] = 1\n",
    "    return arr"
   ]
  },
  {
   "cell_type": "code",
   "execution_count": 4,
   "metadata": {},
   "outputs": [],
   "source": [
    "graph_ms = convert_to_matrix(graph)"
   ]
  },
  {
   "cell_type": "code",
   "execution_count": 5,
   "metadata": {},
   "outputs": [
    {
     "data": {
      "text/plain": [
       "array([[0, 0, 1, 0, 0, 0, 0, 0, 0, 0, 0, 0, 1, 0],\n",
       "       [0, 0, 0, 0, 0, 0, 0, 0, 0, 0, 0, 0, 1, 0],\n",
       "       [0, 0, 0, 0, 0, 0, 0, 0, 0, 0, 0, 0, 0, 0],\n",
       "       [0, 0, 1, 0, 0, 0, 0, 0, 0, 0, 0, 0, 0, 0],\n",
       "       [0, 0, 1, 0, 0, 0, 0, 0, 1, 1, 0, 0, 0, 0],\n",
       "       [0, 0, 0, 1, 0, 0, 0, 0, 0, 0, 1, 1, 0, 0],\n",
       "       [0, 0, 0, 0, 0, 0, 0, 0, 0, 0, 1, 0, 0, 0],\n",
       "       [0, 1, 0, 1, 0, 1, 1, 0, 0, 0, 0, 0, 0, 0],\n",
       "       [1, 0, 0, 0, 0, 0, 0, 0, 0, 0, 0, 0, 0, 1],\n",
       "       [1, 0, 0, 0, 0, 0, 1, 0, 0, 0, 0, 1, 0, 0],\n",
       "       [0, 0, 1, 0, 0, 0, 0, 0, 0, 0, 0, 0, 0, 0],\n",
       "       [0, 0, 0, 0, 0, 0, 0, 0, 0, 0, 0, 0, 0, 0],\n",
       "       [0, 0, 1, 0, 0, 0, 0, 0, 0, 0, 0, 0, 0, 0],\n",
       "       [0, 0, 0, 0, 0, 1, 0, 0, 0, 0, 0, 0, 0, 0]])"
      ]
     },
     "execution_count": 5,
     "metadata": {},
     "output_type": "execute_result"
    }
   ],
   "source": [
    "graph_ms"
   ]
  },
  {
   "cell_type": "markdown",
   "metadata": {},
   "source": [
    "## Алгоритм Демукрона"
   ]
  },
  {
   "cell_type": "code",
   "execution_count": 6,
   "metadata": {},
   "outputs": [],
   "source": [
    "def demukron(graph):\n",
    "    exit_half_dg =  graph.sum(axis=0)\n",
    "    result = list()\n",
    "    vertex = set()\n",
    "    while exit_half_dg.sum() > 0:\n",
    "        layer, = np.where(exit_half_dg == 0)\n",
    "        temp = list(set(layer) - vertex)\n",
    "        result.append(temp)\n",
    "        vertex.update(layer)\n",
    "        exit_half_dg = exit_half_dg - graph[temp].sum(axis=0)\n",
    "    layer, = np.where(exit_half_dg == 0)\n",
    "    temp = list(set(layer) - vertex)\n",
    "    result.append(temp)\n",
    "    return result "
   ]
  },
  {
   "cell_type": "code",
   "execution_count": 7,
   "metadata": {},
   "outputs": [
    {
     "data": {
      "text/plain": [
       "[[4, 7], [8, 1, 9], [0, 13, 6], [12, 5], [11, 10, 3], [2]]"
      ]
     },
     "execution_count": 7,
     "metadata": {},
     "output_type": "execute_result"
    }
   ],
   "source": [
    "answer = demukron(graph_ms); answer"
   ]
  },
  {
   "cell_type": "code",
   "execution_count": 8,
   "metadata": {},
   "outputs": [],
   "source": [
    "f = {'0':'A', '1':'B', '2':'C', '3':'D', '4':'E', '5':'F', '6':'G', \n",
    "     '7':'H', '8':'I', '9':'J', '10':'K', '11':'L', '12':'M', '13':'N'}"
   ]
  },
  {
   "cell_type": "code",
   "execution_count": 9,
   "metadata": {},
   "outputs": [
    {
     "data": {
      "text/plain": [
       "{'layer_0': ['E', 'H'],\n",
       " 'layer_1': ['I', 'B', 'J'],\n",
       " 'layer_2': ['A', 'N', 'G'],\n",
       " 'layer_3': ['M', 'F'],\n",
       " 'layer_4': ['L', 'K', 'D'],\n",
       " 'layer_5': ['C']}"
      ]
     },
     "execution_count": 9,
     "metadata": {},
     "output_type": "execute_result"
    }
   ],
   "source": [
    "result = {}\n",
    "for ind, row in enumerate(answer):\n",
    "    result[f'layer_{ind}'] = [f[str(item)] for item in row]\n",
    "result"
   ]
  },
  {
   "cell_type": "markdown",
   "metadata": {},
   "source": [
    "## Алгоритм Тарьяна"
   ]
  },
  {
   "cell_type": "raw",
   "metadata": {},
   "source": [
    "Алгоритм Тарьяна реализовал на графе, представленным ввиде \"списка вершин и списка ребр\".\n",
    "Данный способ представления графа для алгоритма Тарьяна не оптимальный. Для поиска вершины с нулевой полустепенью исхода, приходится просматривать все вершины, т.к. с вершинами связаны исходящие ребра.\n",
    "Вариант - усложнить структуру графа, добавив входящие ребра, либо заменив в представлении графа исходящие ребра на входящие. Но это ведет к усложнению структуры графа и кода. Имеет смысл использовать более простые способы представления графов."
   ]
  },
  {
   "cell_type": "code",
   "execution_count": 10,
   "metadata": {},
   "outputs": [],
   "source": [
    "from random import randint"
   ]
  },
  {
   "cell_type": "code",
   "execution_count": 11,
   "metadata": {},
   "outputs": [],
   "source": [
    "class Node:\n",
    "    def __init__(self, key):\n",
    "        self.key = key\n",
    "        self.edges = None\n",
    "        self.next = None\n",
    "        self.color = 'white'\n",
    "        \n",
    "    def __repr__(self):\n",
    "        return f'Node \"{self.key}\"'\n",
    "    \n",
    "    def __iter__(self):\n",
    "        item = self.edges\n",
    "        while item is not None:\n",
    "            yield item\n",
    "            item = item.next\n",
    "    \n",
    "        \n",
    "class Edge:\n",
    "    def __init__(self, node_in, weight=None, key=None):\n",
    "        self.next = None\n",
    "        self.node_in = node_in\n",
    "        self.weight = weight\n",
    "        self.key = key\n",
    "        \n",
    "    def __repr__(self):\n",
    "        return f'Edge \"key-{self.key}, weight-{self.weight}, to-{self.node_in}\"'\n",
    "        \n",
    "class Graph:\n",
    "    def __init__(self, node=None, adges=Node):\n",
    "        self.head_node = node\n",
    "        \n",
    "    def __iter__(self):\n",
    "        item = self.head_node\n",
    "        while item is not None:\n",
    "            yield item\n",
    "            item = item.next\n",
    "            \n",
    "    def add_node(self, node):\n",
    "        if self.head_node is None:\n",
    "            self.head_node = node\n",
    "            return\n",
    "        last_node = self.head_node\n",
    "        while last_node.next:\n",
    "            last_node = last_node.next\n",
    "        last_node.next = node\n",
    "    \n",
    "    \n",
    "    def search_node(self, key):\n",
    "        if self.head_node is None:\n",
    "            return\n",
    "        next_node = self.head_node\n",
    "        if next_node.key == key:\n",
    "            return next_node\n",
    "        while next_node.next:\n",
    "            next_node = next_node.next\n",
    "            if next_node.key == key:\n",
    "                return next_node\n",
    "    \n",
    "    \n",
    "    def add_edge(self, node_key_out, node_key_in,  weight=None, key=None):\n",
    "        node_out = self.search_node(node_key_out)\n",
    "        node_in = self.search_node(node_key_in)\n",
    "        edge = Edge(node_in, weight, key)\n",
    "        if not node_out or not node_in:\n",
    "            print('Не найдена вершина')\n",
    "            return\n",
    "        if node_out.edges is None:\n",
    "            node_out.edges = edge\n",
    "            return\n",
    "        next_edge = node_out.edges\n",
    "        while next_edge.next:\n",
    "            next_edge = next_edge.next\n",
    "        next_edge.next = edge\n",
    "        \n",
    "    def remove_edge_out(self, node_key_out, node_key_in):\n",
    "        node_out = self.search_node(node_key_out)\n",
    "        if not node_out.edges:\n",
    "            return\n",
    "        next_edge = node_out.edges\n",
    "        if next_edge.node_in.key == node_key_in:\n",
    "            node_out.edges = next_edge.next\n",
    "            return\n",
    "        while next_edge.next:\n",
    "            if next_edge.next.node_in.key == node_key_in:\n",
    "                next_edge.next = next_edge.next.next\n",
    "                return\n",
    "            next_edge = next_edge.next\n",
    "            \n",
    "    def remove_node(self, node_key):\n",
    "        self.remove_edges_in(node_key)\n",
    "        \n",
    "        next_node = self.head_node\n",
    "        if next_node.key == node_key:\n",
    "            self.head_node = next_node.next\n",
    "            return\n",
    "        while next_node:\n",
    "            if next_node.next.key == node_key:\n",
    "                next_node.next = next_node.next.next\n",
    "            next_node = next_node.next\n",
    "        \n",
    "        \n",
    "    def del_edges(self, node, node_key_in):\n",
    "        if not node.edges:\n",
    "            return\n",
    "        edge = node.edges\n",
    "        if edge.node_in.key == node_key_in:\n",
    "            node.edges = edge.next\n",
    "        while edge.next:\n",
    "            if edge.next.node_in.key == node_key_in:\n",
    "                edge.next = edge.next.next\n",
    "                continue\n",
    "            edge = edge.next\n",
    "    \n",
    "    def remove_edges_in(self, node_key_in):\n",
    "        if not self.head_node:\n",
    "            return       \n",
    "        node = self.head_node\n",
    "        while node:\n",
    "            self.del_edges(node, node_key_in)            \n",
    "            node = node.next\n",
    "            \n",
    "    def get_adjacent_nodes(self, node):\n",
    "        return [item.node_in for item in node]\n",
    "    \n",
    "    def refresh_color(self):\n",
    "        for item in self:\n",
    "            item.color = 'white'\n",
    "            \n",
    "    def nodes_list(self):\n",
    "        return [item.key for item in self]\n"
   ]
  },
  {
   "cell_type": "code",
   "execution_count": 12,
   "metadata": {},
   "outputs": [],
   "source": [
    "class Nod:\n",
    "    def __init__(self, item, nextt=None):\n",
    "        self._item = item\n",
    "        self._nextt = nextt\n",
    "        \n",
    "    def get_item(self):\n",
    "        return self._item\n",
    "    \n",
    "    def get_next(self):\n",
    "        return self._nextt\n",
    "    \n",
    "    def set_next(self, nextt):\n",
    "        self._nextt = nextt\n",
    "        \n",
    "\n",
    "class Stack:\n",
    "    def __init__(self, head=None):\n",
    "        self._head = head\n",
    "        \n",
    "    \n",
    "    def push(self, item):\n",
    "        self._head = Nod(item, self._head)\n",
    "        \n",
    "    def pop(self):\n",
    "        if (self.is_empty()):\n",
    "            return None\n",
    "        item = self._head.get_item()\n",
    "        self._head = self._head.get_next()\n",
    "        return item\n",
    "        \n",
    "    def is_empty(self):\n",
    "        return self._head == None\n",
    "    \n",
    "\n",
    "class Queue:\n",
    "    def __init__(self, head=None, tail=None):\n",
    "        self._head = head\n",
    "        self._tail = tail\n",
    "        \n",
    "    def is_empty(self):\n",
    "        return self._head  == None\n",
    "    \n",
    "    def get_head(self):\n",
    "        return self._head\n",
    "    \n",
    "    def enqueue(self, item):\n",
    "        node = Nod(item)\n",
    "        if self.is_empty():\n",
    "            self._head = self._tail = node\n",
    "        else:\n",
    "            self._tail.set_next(node)\n",
    "            self._tail = node\n",
    "            \n",
    "    def dequeue(self):\n",
    "        if self.is_empty():\n",
    "            return None\n",
    "        item = self._head.get_item()\n",
    "        self._head = self._head.get_next()\n",
    "        return item\n",
    "    \n",
    "    def contain(self, item):\n",
    "        node = self.get_head()\n",
    "        while node:\n",
    "            if node.get_item() == item:\n",
    "                return True\n",
    "            node = node.get_next()\n",
    "        return False"
   ]
  },
  {
   "cell_type": "code",
   "execution_count": 13,
   "metadata": {},
   "outputs": [],
   "source": [
    "def zero_half_degree(graph):\n",
    "    entry = {}\n",
    "    for item in graph:\n",
    "        entry[item.key] = 0\n",
    "    for item in graph:\n",
    "        for edge in item:\n",
    "            entry[edge.node_in.key] += 1\n",
    "    for key, value in entry.items():\n",
    "        if value == 0:\n",
    "            return key"
   ]
  },
  {
   "cell_type": "code",
   "execution_count": 14,
   "metadata": {},
   "outputs": [],
   "source": [
    "def DFS_s(graph, node, stack, visited):\n",
    "    if node.color != 'white':\n",
    "        return\n",
    "    node.color = 'gray'\n",
    "    adjacent_nodes = graph.get_adjacent_nodes(node)\n",
    "    for item in adjacent_nodes:\n",
    "        if item.color == 'white':\n",
    "            DFS_s(graph, item, stack, visited)\n",
    "    node.color = 'black'\n",
    "    visited.append(node.key)\n",
    "    stack.push(node.key)"
   ]
  },
  {
   "cell_type": "code",
   "execution_count": 15,
   "metadata": {},
   "outputs": [],
   "source": [
    "def check_zero_dg(node_key, node_list, graph):\n",
    "    for item in node_list:\n",
    "        vertex = graph.search_node(item)\n",
    "        for edge in vertex:\n",
    "            if edge.node_in.key == node_key:\n",
    "                return False\n",
    "    return True       "
   ]
  },
  {
   "cell_type": "code",
   "execution_count": 16,
   "metadata": {},
   "outputs": [],
   "source": [
    "def tarian(graph):\n",
    "    zero_entry = zero_half_degree(graph)\n",
    "    if not zero_entry:\n",
    "        print('Graph has no vertex with a zero semi-degrees of entry.')\n",
    "        return\n",
    "    node = graph.search_node(zero_entry)\n",
    "    \n",
    "    visited = []\n",
    "    result = []\n",
    "    stack = Stack()\n",
    "    nodes_key_list = graph.nodes_list()\n",
    "    list_for_search = nodes_key_list.copy()\n",
    "    len_nodes_key_list = len(nodes_key_list)\n",
    "    while len(visited) < len_nodes_key_list:\n",
    "        \n",
    "        DFS_s(graph, node, stack, visited)\n",
    "        list_for_search = list(set(nodes_key_list) - set(visited))\n",
    "        for item_key in list_for_search:\n",
    "            if check_zero_dg(item_key, list_for_search, graph):\n",
    "                node = graph.search_node(item_key)\n",
    "                if node:\n",
    "                    break\n",
    "    while not stack.is_empty():\n",
    "        result.append(stack.pop())        \n",
    "    graph.refresh_color()\n",
    "    return result"
   ]
  },
  {
   "cell_type": "code",
   "execution_count": 17,
   "metadata": {},
   "outputs": [],
   "source": [
    "g = Graph()\n",
    "\n",
    "g.add_node(Node('A'))\n",
    "g.add_node(Node('B'))\n",
    "g.add_node(Node('C'))\n",
    "g.add_node(Node('D'))\n",
    "g.add_node(Node('E'))\n",
    "g.add_node(Node('F'))\n",
    "g.add_node(Node('G'))\n",
    "g.add_node(Node('H'))\n",
    "\n",
    "g.add_edge('E','A')\n",
    "g.add_edge('A','B')\n",
    "g.add_edge('B','C')\n",
    "g.add_edge('D','C')\n",
    "g.add_edge('C','D')\n",
    "g.add_edge('H','D')\n",
    "g.add_edge('B','E')\n",
    "g.add_edge('E','F')\n",
    "g.add_edge('B','F')\n",
    "g.add_edge('G','F')\n",
    "g.add_edge('F','G')\n",
    "g.add_edge('C','G')\n",
    "g.add_edge('H','G')\n",
    "g.add_edge('D','H')"
   ]
  },
  {
   "cell_type": "code",
   "execution_count": 18,
   "metadata": {},
   "outputs": [
    {
     "name": "stdout",
     "output_type": "stream",
     "text": [
      "Graph has no vertex with a zero semi-degrees of entry.\n"
     ]
    }
   ],
   "source": [
    "tarian(g)"
   ]
  },
  {
   "cell_type": "code",
   "execution_count": 19,
   "metadata": {},
   "outputs": [],
   "source": [
    "g2 = Graph()\n",
    "\n",
    "g2.add_node(Node('A'))\n",
    "g2.add_node(Node('B'))\n",
    "g2.add_node(Node('C'))\n",
    "g2.add_node(Node('D'))\n",
    "g2.add_node(Node('E'))\n",
    "g2.add_node(Node('F'))\n",
    "g2.add_node(Node('G'))\n",
    "g2.add_node(Node('H'))\n",
    "\n",
    "g2.add_edge('A','E')\n",
    "g2.add_edge('A','F')\n",
    "g2.add_edge('A','G')\n",
    "g2.add_edge('B','A')\n",
    "g2.add_edge('B','D')\n",
    "g2.add_edge('B','F')\n",
    "g2.add_edge('C','G')\n",
    "g2.add_edge('C','H')\n",
    "g2.add_edge('H','G')\n",
    "g2.add_edge('H','D')\n"
   ]
  },
  {
   "cell_type": "code",
   "execution_count": 20,
   "metadata": {},
   "outputs": [
    {
     "data": {
      "text/plain": [
       "['C', 'H', 'B', 'D', 'A', 'G', 'F', 'E']"
      ]
     },
     "execution_count": 20,
     "metadata": {},
     "output_type": "execute_result"
    }
   ],
   "source": [
    "tarian(g2)"
   ]
  },
  {
   "cell_type": "code",
   "execution_count": 21,
   "metadata": {},
   "outputs": [],
   "source": [
    "g3 = Graph()\n",
    "\n",
    "g3.add_node(Node('A'))\n",
    "g3.add_node(Node('B'))\n",
    "g3.add_node(Node('C'))\n",
    "g3.add_node(Node('D'))\n",
    "g3.add_node(Node('E'))\n",
    "g3.add_node(Node('F'))\n",
    "g3.add_node(Node('G'))\n",
    "g3.add_node(Node('H'))\n",
    "\n",
    "g3.add_edge('A','E')\n",
    "g3.add_edge('A','F')\n",
    "g3.add_edge('A','G')\n",
    "g3.add_edge('B','A')\n",
    "g3.add_edge('B','D')\n",
    "g3.add_edge('B','F')\n",
    "g3.add_edge('C','G')\n",
    "g3.add_edge('C','H')\n",
    "g3.add_edge('C','B')\n",
    "g3.add_edge('F','E')\n",
    "g3.add_edge('F','G')\n",
    "g3.add_edge('H','G')\n",
    "g3.add_edge('H','D')"
   ]
  },
  {
   "cell_type": "code",
   "execution_count": 22,
   "metadata": {},
   "outputs": [
    {
     "data": {
      "text/plain": [
       "['C', 'B', 'A', 'F', 'E', 'H', 'D', 'G']"
      ]
     },
     "execution_count": 22,
     "metadata": {},
     "output_type": "execute_result"
    }
   ],
   "source": [
    "tarian(g3)"
   ]
  },
  {
   "cell_type": "code",
   "execution_count": null,
   "metadata": {},
   "outputs": [],
   "source": []
  }
 ],
 "metadata": {
  "kernelspec": {
   "display_name": "Python 3",
   "language": "python",
   "name": "python3"
  },
  "language_info": {
   "codemirror_mode": {
    "name": "ipython",
    "version": 3
   },
   "file_extension": ".py",
   "mimetype": "text/x-python",
   "name": "python",
   "nbconvert_exporter": "python",
   "pygments_lexer": "ipython3",
   "version": "3.7.3"
  }
 },
 "nbformat": 4,
 "nbformat_minor": 2
}
