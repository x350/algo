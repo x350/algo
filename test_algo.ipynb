{
 "cells": [
  {
   "cell_type": "code",
   "execution_count": 1,
   "metadata": {},
   "outputs": [],
   "source": [
    "import os\n",
    "import time\n",
    "import numpy as np\n",
    "np.set_printoptions(suppress=True)"
   ]
  },
  {
   "cell_type": "code",
   "execution_count": 2,
   "metadata": {},
   "outputs": [],
   "source": [
    "def test(path, function):\n",
    "    if not os.path.exists(path):\n",
    "        print(\"папка не существует\")\n",
    "        return\n",
    "    \n",
    "    list_file = os.listdir(path)\n",
    "    if list_file:\n",
    "        in_f = [file.replace('.in', '') for file in list_file if file.endswith('.in')]\n",
    "    else:\n",
    "        print(\"Папка пустая\")\n",
    "    \n",
    "    for item in in_f:        \n",
    "        with open(os.path.join(path, item + '.in')) as file_in:\n",
    "            start = time.time()\n",
    "            result = function(file_in.read().strip())\n",
    "            stop = time.time()\n",
    "            with open(os.path.join(path, item + '.out')) as file_out:\n",
    "                answer = file_out.read().strip()\n",
    "                if str(result) == answer:\n",
    "                    print(item, '--->  0', ', Время выполнения: {:f}'.format(stop - start) )\n",
    "                else:\n",
    "                    print(item, '--->  1')\n",
    "        \n",
    "    \n",
    "        "
   ]
  },
  {
   "cell_type": "code",
   "execution_count": 5,
   "metadata": {},
   "outputs": [
    {
     "name": "stdout",
     "output_type": "stream",
     "text": [
      "test.3 --->  0 , Время выполнения: 0.001301\n",
      "test.4 --->  1\n",
      "test.1 --->  0 , Время выполнения: 0.000789\n",
      "test.0 --->  0 , Время выполнения: 0.000573\n",
      "test.2 --->  0 , Время выполнения: 0.000218\n"
     ]
    }
   ],
   "source": [
    "test('../1_комбинаторика/0.String',len)"
   ]
  },
  {
   "cell_type": "code",
   "execution_count": null,
   "metadata": {},
   "outputs": [],
   "source": []
  },
  {
   "cell_type": "code",
   "execution_count": null,
   "metadata": {},
   "outputs": [],
   "source": []
  }
 ],
 "metadata": {
  "kernelspec": {
   "display_name": "Python 3",
   "language": "python",
   "name": "python3"
  },
  "language_info": {
   "codemirror_mode": {
    "name": "ipython",
    "version": 3
   },
   "file_extension": ".py",
   "mimetype": "text/x-python",
   "name": "python",
   "nbconvert_exporter": "python",
   "pygments_lexer": "ipython3",
   "version": "3.7.3"
  }
 },
 "nbformat": 4,
 "nbformat_minor": 2
}
