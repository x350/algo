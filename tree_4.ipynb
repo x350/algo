{
 "cells": [
  {
   "cell_type": "code",
   "execution_count": 1,
   "metadata": {},
   "outputs": [],
   "source": [
    "from random import randint, shuffle\n",
    "import time"
   ]
  },
  {
   "cell_type": "markdown",
   "metadata": {},
   "source": [
    "# Двоичное дерево"
   ]
  },
  {
   "cell_type": "code",
   "execution_count": 2,
   "metadata": {},
   "outputs": [],
   "source": [
    "class Node:\n",
    "    \n",
    "    def __init__(self, key, value=None, left=None, right=None):\n",
    "        self.key = key\n",
    "        self.value = [value]\n",
    "#         if key == self.key:\n",
    "#             self.value.append(value)\n",
    "        self.L = left\n",
    "        self.R = right\n",
    "\n",
    "        \n",
    "    def __repr__(self):\n",
    "#         return f'Node-{str(self.key)} L-{self.L}, R-{self.R}'\n",
    "        return f'Node {str(self.key)}'\n",
    "\n",
    "    \n",
    "class Tree():\n",
    "    \n",
    "    def __init__(self, root=None):\n",
    "        self.root = root\n",
    "        self.row = []\n",
    "        \n",
    "  \n",
    "        \n",
    "    def insert(self, key, value):\n",
    "        if not self.root:\n",
    "            self.root = Node(key, value)\n",
    "        else:\n",
    "            self.insert_to_node(key, value, self.root)\n",
    "        \n",
    "    \n",
    "        \n",
    "    def insert_to_node(self, key, value, node):\n",
    "            if node.key == key:\n",
    "                node.value.append(value)\n",
    "                return\n",
    "            if node.key > key:\n",
    "                if node.L:\n",
    "                    self.insert_to_node(key, value, node.L)\n",
    "                else:\n",
    "                    node.L = Node(key, value)\n",
    "            else:\n",
    "                if node.R:\n",
    "                    self.insert_to_node(key, value, node.R)\n",
    "                else:\n",
    "                    node.R = Node(key, value)\n",
    "\n",
    "    def insert_branch(self, node, branch, side):\n",
    "        if side == 'R':\n",
    "            while node.R:\n",
    "                node = node.R\n",
    "            node.R = branch\n",
    "        if side == 'L':\n",
    "            while node.L:\n",
    "                node = node.L\n",
    "            node.L = branch\n",
    "        \n",
    "\n",
    "    def search(self, key):\n",
    "        if self.root:\n",
    "            result = self.search_to_node(key, self.root)\n",
    "            if isinstance(result, Node):\n",
    "                return result\n",
    "            else:\n",
    "                return result[0]\n",
    "        else:\n",
    "            return None\n",
    "        \n",
    "    def search_with_parent(self, key):\n",
    "        if self.root:\n",
    "            result = self.search_to_node(key, self.root)\n",
    "            if isinstance(result, Node):\n",
    "                return (result, None)\n",
    "            else:\n",
    "                return result\n",
    "        else:\n",
    "            return None\n",
    "                \n",
    "    def search_to_node(self, key, node):\n",
    "        if node.key == key:\n",
    "            return node\n",
    "        if node.key > key:\n",
    "            if node.L:                \n",
    "                result = self.search_to_node(key, node.L)\n",
    "                if result:\n",
    "                    if isinstance(result, Node):\n",
    "                        return(result, node)\n",
    "                    else:\n",
    "                        return result\n",
    "        else:\n",
    "            if node.R:\n",
    "                result = self.search_to_node(key, node.R)\n",
    "                if result:\n",
    "                    if isinstance(result, Node):\n",
    "                        return(result, node)\n",
    "                    else:\n",
    "                        return result\n",
    "    \n",
    "    def remove(self, key):\n",
    "            node, parent = self.search_with_parent(key)\n",
    "            if (parent and not node.L and not node.R):\n",
    "                if node == parent.L:\n",
    "                    parent.L = None\n",
    "                else:\n",
    "                    parent.R = None\n",
    "                return\n",
    "\n",
    "            if (parent and node.L and not node.R):\n",
    "                if node == parent.L:\n",
    "                    parent.L = node.L\n",
    "                else:\n",
    "                    parent.R = node.L\n",
    "                return\n",
    "\n",
    "            if (parent and not node.L and node.R):\n",
    "                if node == parent.L:\n",
    "                    parent.L = node.R\n",
    "                else:\n",
    "                    parent.R = node.R\n",
    "                return\n",
    "\n",
    "            if parent:\n",
    "                if node == parent.L:\n",
    "                    if node.L:\n",
    "                        parent.L = node.L\n",
    "                        self.insert_branch(node.L, node.R, side='R')\n",
    "                if node == parent.R:\n",
    "                    if node.R:\n",
    "                        parent.R = node.R\n",
    "                        self.insert_branch(node.R, node.L, 'L')\n",
    "            else:\n",
    "                if (not node.L and not node.R):\n",
    "                    self.root = None\n",
    "                    return\n",
    "                if node.L and not node.R:\n",
    "                    self.root = node.L\n",
    "                    return\n",
    "                if not node.L and node.R:\n",
    "                    self.root = node.R\n",
    "                    return\n",
    "\n",
    "                self.root = node.L\n",
    "                self.insert_branch(node.L, node.R, side='R')\n",
    "                \n",
    "    \n",
    "        \n",
    "        \n",
    "    def ride(self, order='incr'):   \n",
    "        node = self.root\n",
    "        result = []\n",
    "        def ride_incr(node):\n",
    "            if node == None:\n",
    "                return\n",
    "            ride_incr(node.L)\n",
    "            result.append(node.key)\n",
    "            ride_incr(node.R)\n",
    "        def ride_decr(node):\n",
    "            if node == None:\n",
    "                return\n",
    "            ride_decr(node.R)\n",
    "            result.append(node.key)\n",
    "            ride_decr(node.L)\n",
    "        \n",
    "        if order == 'incr':    \n",
    "            ride_incr(node)\n",
    "        if order == 'decr':\n",
    "            ride_decr(node)\n",
    "        return result\n",
    "    \n",
    "#     def __repr__(self):\n",
    "#         return str(self._root.key)"
   ]
  },
  {
   "cell_type": "markdown",
   "metadata": {},
   "source": [
    "### тестирование двоичного дерева"
   ]
  },
  {
   "cell_type": "code",
   "execution_count": 3,
   "metadata": {},
   "outputs": [],
   "source": [
    "N = 1000"
   ]
  },
  {
   "cell_type": "code",
   "execution_count": 4,
   "metadata": {},
   "outputs": [],
   "source": [
    "ordered_arr = [x for x in range(N)]"
   ]
  },
  {
   "cell_type": "code",
   "execution_count": 5,
   "metadata": {},
   "outputs": [],
   "source": [
    "shuffle_arr = [x for x in range(N)]"
   ]
  },
  {
   "cell_type": "code",
   "execution_count": 6,
   "metadata": {},
   "outputs": [],
   "source": [
    "shuffle(shuffle_arr)"
   ]
  },
  {
   "cell_type": "code",
   "execution_count": 7,
   "metadata": {},
   "outputs": [
    {
     "name": "stdout",
     "output_type": "stream",
     "text": [
      "0.117299\n"
     ]
    }
   ],
   "source": [
    "# добавление элементов в возрастающем  порядке\n",
    "start = time.time()\n",
    "oreder_tree = Tree()\n",
    "for item in ordered_arr:\n",
    "    oreder_tree.insert(item, randint(0, 10))\n",
    "stop = time.time()\n",
    "print('{:f}'.format(stop - start))\n"
   ]
  },
  {
   "cell_type": "code",
   "execution_count": 8,
   "metadata": {},
   "outputs": [
    {
     "name": "stdout",
     "output_type": "stream",
     "text": [
      "0.003603\n"
     ]
    }
   ],
   "source": [
    "# добавление элементов в случайном порядке\n",
    "start = time.time()\n",
    "shuffle_tree = Tree()\n",
    "for item in shuffle_arr:\n",
    "    shuffle_tree.insert(item, randint(0, 10))\n",
    "stop = time.time()\n",
    "print('{:f}'.format(stop - start))\n"
   ]
  },
  {
   "cell_type": "code",
   "execution_count": 9,
   "metadata": {},
   "outputs": [
    {
     "name": "stdout",
     "output_type": "stream",
     "text": [
      "0.009100\n"
     ]
    }
   ],
   "source": [
    "# поиск элементов в \"перемешанном\" дереве\n",
    "start = time.time()\n",
    "for item in ordered_arr:\n",
    "    shuffle_tree.search(item)\n",
    "stop = time.time()\n",
    "print('{:f}'.format(stop - start))\n"
   ]
  },
  {
   "cell_type": "code",
   "execution_count": 10,
   "metadata": {},
   "outputs": [
    {
     "name": "stdout",
     "output_type": "stream",
     "text": [
      "0.137668\n"
     ]
    }
   ],
   "source": [
    "# поиск элементов в \"возрастающем\" дереве\n",
    "start = time.time()\n",
    "for item in ordered_arr:\n",
    "    oreder_tree.search(item)\n",
    "stop = time.time()\n",
    "print('{:f}'.format(stop - start))"
   ]
  },
  {
   "cell_type": "code",
   "execution_count": 11,
   "metadata": {},
   "outputs": [
    {
     "name": "stdout",
     "output_type": "stream",
     "text": [
      "0.006979\n"
     ]
    }
   ],
   "source": [
    "# удаление элементов в \"перемешанном\" дереве\n",
    "start = time.time()\n",
    "for item in shuffle_arr:\n",
    "    shuffle_tree.remove(item)\n",
    "stop = time.time()\n",
    "print('{:f}'.format(stop - start))"
   ]
  },
  {
   "cell_type": "code",
   "execution_count": 12,
   "metadata": {},
   "outputs": [
    {
     "name": "stdout",
     "output_type": "stream",
     "text": [
      "0.000738\n"
     ]
    }
   ],
   "source": [
    "# удаление элементов в \"возрастающем\" дереве\n",
    "start = time.time()\n",
    "for item in ordered_arr:\n",
    "    oreder_tree.remove(item)\n",
    "stop = time.time()\n",
    "print('{:f}'.format(stop - start))"
   ]
  },
  {
   "cell_type": "markdown",
   "metadata": {},
   "source": [
    "### Вывод:"
   ]
  },
  {
   "cell_type": "raw",
   "metadata": {},
   "source": [
    "Работа с деревом, которое создано при добавлении элементов в случайном порядке, происходит заметно быстрее, чем работа с деревом, которое создано при добавлении элементов в возрастающем порядке. В первом случае - дерево получается более сбалансированное, во втором - максимально не сбалансированное.\n",
    "Добавление - в 12 раз быстее, поиск в 31 раза быстрее при \"перемешанном добавлении элементов\", но удаление узлов, в 6-7 раз быстрее в \"возрастающем\" дереве.\n",
    "    "
   ]
  },
  {
   "cell_type": "markdown",
   "metadata": {},
   "source": [
    "# ABL дерево"
   ]
  },
  {
   "cell_type": "code",
   "execution_count": 13,
   "metadata": {},
   "outputs": [],
   "source": [
    "class ABLNode(Node):\n",
    "    def __init__(self, key, value=None, left=None, right=None):\n",
    "        super().__init__(key, value, left=None, right=None)\n",
    "        \n",
    "    @property\n",
    "    def hight(self):        \n",
    "        if self.L:\n",
    "            left = self.L.hight\n",
    "        else:\n",
    "            left = -1\n",
    "        if self.R:\n",
    "            right = self.R.hight\n",
    "        else:\n",
    "            right = -1\n",
    "        return max(left, right) + 1\n",
    "    \n",
    "        \n",
    "class ABLTree(Tree):\n",
    "    def __init__(self, root=None):\n",
    "        super().__init__(root)\n",
    "        \n",
    "    def insert(self, key, value):\n",
    "        if not self.root:\n",
    "            self.root = ABLNode(key, value)\n",
    "        else:\n",
    "            self.insert_to_node(key, value, self.root)\n",
    "            _, parent = self.search_with_parent(key)\n",
    "            self.rebalance(parent)\n",
    "    \n",
    "        \n",
    "    def insert_to_node(self, key, value, node):\n",
    "\n",
    "            if node.key == key:\n",
    "                node.value.append(value)\n",
    "                return\n",
    "            if node.key > key:\n",
    "                if node.L:\n",
    "                    self.insert_to_node(key, value, node.L)\n",
    "                else:\n",
    "                    node.L = ABLNode(key, value)\n",
    "            else:\n",
    "                if node.R:\n",
    "                    self.insert_to_node(key, value, node.R)\n",
    "                else:\n",
    "                    node.R = ABLNode(key, value)\n",
    "\n",
    "\n",
    "\n",
    "    def search(self, key):\n",
    "        if self.root:\n",
    "            result = self.search_to_node(key, self.root)\n",
    "            if isinstance(result, ABLNode):\n",
    "                return result\n",
    "            else:\n",
    "                return result[0]\n",
    "        else:\n",
    "            return None\n",
    "        \n",
    "    def search_with_parent(self, key):\n",
    "        if self.root:\n",
    "            result = self.search_to_node(key, self.root)\n",
    "            if isinstance(result, ABLNode):\n",
    "                return (result, None)\n",
    "            else:\n",
    "                return result\n",
    "        else:\n",
    "            return None\n",
    "                \n",
    "    def search_to_node(self, key, node):\n",
    "        if node.key == key:\n",
    "            return node\n",
    "        if node.key > key:\n",
    "            if node.L:                \n",
    "                result = self.search_to_node(key, node.L)\n",
    "                if result:\n",
    "                    if isinstance(result, ABLNode):\n",
    "                        return(result, node)\n",
    "                    else:\n",
    "                        return result\n",
    "        else:\n",
    "            if node.R:\n",
    "                result = self.search_to_node(key, node.R)\n",
    "                if result:\n",
    "                    if isinstance(result, ABLNode):\n",
    "                        return(result, node)\n",
    "                    else:\n",
    "                        return result\n",
    "                    \n",
    "    \n",
    "    \n",
    "    def remove(self, key):\n",
    "        node, parent = self.search_with_parent(key)\n",
    "        if (parent and not node.L and not node.R):\n",
    "            if node == parent.L:\n",
    "                parent.L = None\n",
    "            else:\n",
    "                parent.R = None\n",
    "            return\n",
    "                \n",
    "        if (parent and node.L and not node.R):\n",
    "            if node == parent.L:\n",
    "                parent.L = node.L\n",
    "            else:\n",
    "                parent.R = node.L\n",
    "            self.rebalance(parent)\n",
    "            return\n",
    "         \n",
    "        if (parent and not node.L and node.R):\n",
    "            if node == parent.L:\n",
    "                parent.L = node.R\n",
    "            else:\n",
    "                parent.R = node.R\n",
    "            self.rebalance(parent)\n",
    "            return\n",
    "                \n",
    "        if parent:\n",
    "            if node == parent.L:\n",
    "                if node.L:\n",
    "                    parent.L = node.L\n",
    "                    self.insert_branch(node.L, node.R, side='R')\n",
    "            if node == parent.R:\n",
    "                if node.R:\n",
    "                    parent.R = node.R\n",
    "                    self.insert_branch(node.R, node.L, 'L')\n",
    "            self.rebalance(parent)\n",
    "        else:\n",
    "            if (not node.L and not node.R):\n",
    "                self.root = None\n",
    "                return\n",
    "            if node.L and not node.R:\n",
    "                self.root = node.L\n",
    "                self.rebalance(node.L)\n",
    "                return\n",
    "            if not node.L and node.R:\n",
    "                self.root = node.R\n",
    "                self.rebalance(node.R)\n",
    "                return\n",
    "            \n",
    "            self.root = node.L\n",
    "            self.insert_branch(node.L, node.R, side='R')\n",
    "            self.rebalance(self.root)\n",
    "    \n",
    "\n",
    "    \n",
    "    def height(self, node):\n",
    "        if node is None:\n",
    "            return -1\n",
    "        else:\n",
    "            return node.hight\n",
    "    \n",
    "    def MPP(self, node):\n",
    "        _, parent = self.search_with_parent(node.key)\n",
    "\n",
    "        b = node.L\n",
    "        c = b.R\n",
    "        node.L = c\n",
    "        b.R = node\n",
    "        if parent:   \n",
    "            if parent.L:\n",
    "                if parent.L == node:\n",
    "                    parent.L = b\n",
    "            if parent.R:\n",
    "                if parent.R == node:\n",
    "                    parent.R = b\n",
    "        else:\n",
    "            self.root = b\n",
    "    \n",
    "    def MLP(self, node):\n",
    "        _, parent = self.search_with_parent(node.key)\n",
    "        b = node.R\n",
    "        c = b.L\n",
    "        node.R = c\n",
    "        b.L = node\n",
    "        if parent:   \n",
    "            if parent.L:\n",
    "                if parent.L == node:\n",
    "                    parent.L = b\n",
    "            \n",
    "            if parent.R:\n",
    "                if parent.R == node:\n",
    "                    parent.R = b\n",
    "        else:\n",
    "            self.root = b\n",
    "    \n",
    "    def BPP(self, node):\n",
    "        self.MLP(node.L)\n",
    "        _, parent = self.search_with_parent(node.key)\n",
    "            \n",
    "        b = node.L\n",
    "        c = b.R\n",
    "        node.L = c\n",
    "        b.R = node\n",
    "        if parent:   \n",
    "            if parent.L:\n",
    "                if parent.L == node:\n",
    "                    parent.L = b\n",
    "            if parent.R:\n",
    "                if parent.R == node:\n",
    "                    parent.R = b\n",
    "        else:\n",
    "            self.root = b\n",
    "\n",
    "    def BLP(self, node):\n",
    "        self.MPP(node.R)\n",
    "        _, parent = self.search_with_parent(node.key)\n",
    "        \n",
    "        b = node.R\n",
    "        c = b.L\n",
    "        b.L = node\n",
    "        node.R = c\n",
    "        if parent:   \n",
    "            if parent.L:\n",
    "                if parent.L == node:\n",
    "                    parent.L = b\n",
    "            if parent.R:\n",
    "                if parent.R == node:\n",
    "                    parent.R = b\n",
    "        else:\n",
    "            self.root = b\n",
    "\n",
    "    def find_min(self):\n",
    "        node = self.root\n",
    "        if node.L:\n",
    "            return find_min(node.L)\n",
    "\n",
    "    def rebalance(self, node):\n",
    "        while node:\n",
    "            diff = self.height(node.L) - self.height(node.R)\n",
    "            left = -1\n",
    "            right = -1\n",
    "            if node.L:\n",
    "                if node.L.L:\n",
    "                    left = node.L.L.hight\n",
    "                else:\n",
    "                    left = 0\n",
    "                if node.L.R:\n",
    "                    right = node.L.R.hight\n",
    "                else:\n",
    "                    left = 0\n",
    "            if (diff > 1) and (left > right):\n",
    "                self.MPP(node)\n",
    "            if (diff > 1) and (left < right):\n",
    "                self.BPP(node)\n",
    "            \n",
    "            if node.R:\n",
    "                if node.R.L:\n",
    "                    left = node.R.L.hight\n",
    "                else:\n",
    "                    left = 0\n",
    "                if node.R.R:\n",
    "                    right = node.R.R.hight\n",
    "                else:\n",
    "                    left = 0\n",
    "            if (diff < -1) and(left < right):\n",
    "                self.MLP(node)\n",
    "            if (diff < -1) and(left > right):\n",
    "                self.BLP(node)\n",
    "            _, node = self.search_with_parent(node.key)\n",
    "\n"
   ]
  },
  {
   "cell_type": "markdown",
   "metadata": {},
   "source": [
    "### тестирование ABL дерева"
   ]
  },
  {
   "cell_type": "code",
   "execution_count": 14,
   "metadata": {},
   "outputs": [],
   "source": [
    "N = 1000\n",
    "ordered_arr = [x for x in range(N)]\n",
    "shuffle_arr = [x for x in range(N)]\n",
    "shuffle(shuffle_arr)"
   ]
  },
  {
   "cell_type": "code",
   "execution_count": 15,
   "metadata": {},
   "outputs": [
    {
     "name": "stdout",
     "output_type": "stream",
     "text": [
      "0.539669\n"
     ]
    }
   ],
   "source": [
    "# добавление элементов в ABL дерево в возрастающем  порядке\n",
    "start = time.time()\n",
    "oreder_tree = ABLTree()\n",
    "for item in ordered_arr:\n",
    "    oreder_tree.insert(item, randint(0, 10))\n",
    "stop = time.time()\n",
    "print('{:f}'.format(stop - start))"
   ]
  },
  {
   "cell_type": "code",
   "execution_count": 16,
   "metadata": {},
   "outputs": [
    {
     "name": "stdout",
     "output_type": "stream",
     "text": [
      "0.562726\n"
     ]
    }
   ],
   "source": [
    "# добавление элементов в ABL дерево в случайном порядке\n",
    "start = time.time()\n",
    "shuffle_tree = ABLTree()\n",
    "for item in shuffle_arr:\n",
    "    shuffle_tree.insert(item, randint(0, 10))\n",
    "stop = time.time()\n",
    "print('{:f}'.format(stop - start))"
   ]
  },
  {
   "cell_type": "code",
   "execution_count": 19,
   "metadata": {},
   "outputs": [
    {
     "name": "stdout",
     "output_type": "stream",
     "text": [
      "0.002541\n"
     ]
    }
   ],
   "source": [
    "# поиск элементов в \"перемешанном\" ABL дереве\n",
    "start = time.time()\n",
    "for item in shuffle_arr:\n",
    "    shuffle_tree.search(item)\n",
    "stop = time.time()\n",
    "print('{:f}'.format(stop - start))\n"
   ]
  },
  {
   "cell_type": "code",
   "execution_count": 20,
   "metadata": {},
   "outputs": [
    {
     "name": "stdout",
     "output_type": "stream",
     "text": [
      "0.002720\n"
     ]
    }
   ],
   "source": [
    "# поиск элементов в \"возрастающем\" ABL дереве\n",
    "start = time.time()\n",
    "for item in ordered_arr:\n",
    "    oreder_tree.search(item)\n",
    "stop = time.time()\n",
    "print('{:f}'.format(stop - start))"
   ]
  },
  {
   "cell_type": "code",
   "execution_count": 21,
   "metadata": {},
   "outputs": [
    {
     "name": "stdout",
     "output_type": "stream",
     "text": [
      "0.550113\n"
     ]
    }
   ],
   "source": [
    "# удаление элементов в \"перемешанном\" ABL дереве\n",
    "start = time.time()\n",
    "for item in shuffle_arr:\n",
    "    shuffle_tree.remove(item)\n",
    "stop = time.time()\n",
    "print('{:f}'.format(stop - start))"
   ]
  },
  {
   "cell_type": "code",
   "execution_count": 22,
   "metadata": {},
   "outputs": [
    {
     "name": "stdout",
     "output_type": "stream",
     "text": [
      "0.392401\n"
     ]
    }
   ],
   "source": [
    "# удаление элементов в \"возрастающем\" ABL дереве\n",
    "start = time.time()\n",
    "for item in shuffle_arr:\n",
    "    oreder_tree.remove(item)\n",
    "stop = time.time()\n",
    "print('{:f}'.format(stop - start))"
   ]
  },
  {
   "cell_type": "markdown",
   "metadata": {},
   "source": [
    "### Вывод:"
   ]
  },
  {
   "cell_type": "raw",
   "metadata": {},
   "source": [
    "В АБЛ дереве - не имеет значения, как добавляются элементы, в восходящем порядке ключи или в случайном.\n",
    "Т.к. при добавлении элементов вызывается балансировка.\n",
    "Поиск элемента по ключу - также не отличается при разных способах добавления элементов, т.к. и в первом и во втором случае - деревья сбалансированы.\n",
    "Отмечается незначительный прирост скорости, при удалени элементов в случае с \"возрастающим добавлением элементов в дерево\", вероятно, за счет более редкого вызывания функции ребалансировки.\n",
    "    Более существенная разница в скорости выаолнения удаления элементов из дерева, в случае, если ключи удаляются в возрастающем порядке (0.22-shuffle_tree, и 0.13- oreder_tree(ordered tree)),  нежели, если ключи берутся в случайном порядке (0.55-shuffle_tree, и 0.39- oreder_tree(ordered tree)).\n",
    "Данный факт, таже связан с более редким вызыванием функции ребалансировки, при \"возрастающем\" удалении элементов.\n"
   ]
  },
  {
   "cell_type": "code",
   "execution_count": null,
   "metadata": {},
   "outputs": [],
   "source": []
  }
 ],
 "metadata": {
  "kernelspec": {
   "display_name": "Python 3",
   "language": "python",
   "name": "python3"
  },
  "language_info": {
   "codemirror_mode": {
    "name": "ipython",
    "version": 3
   },
   "file_extension": ".py",
   "mimetype": "text/x-python",
   "name": "python",
   "nbconvert_exporter": "python",
   "pygments_lexer": "ipython3",
   "version": "3.7.3"
  }
 },
 "nbformat": 4,
 "nbformat_minor": 2
}
