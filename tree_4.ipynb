{
 "cells": [
  {
   "cell_type": "code",
   "execution_count": 1,
   "metadata": {},
   "outputs": [],
   "source": [
    "from random import randint, shuffle\n",
    "import time\n",
    "import sys\n",
    "limit = 10 ** 6\n",
    "sys.setrecursionlimit(limit)"
   ]
  },
  {
   "cell_type": "markdown",
   "metadata": {},
   "source": [
    "# Двоичное дерево"
   ]
  },
  {
   "cell_type": "code",
   "execution_count": 2,
   "metadata": {},
   "outputs": [],
   "source": [
    "class Node:\n",
    "    \n",
    "    def __init__(self, key, value=None, left=None, right=None):\n",
    "        self.key = key\n",
    "        self.value = [value]\n",
    "        self.L = left\n",
    "        self.R = right\n",
    "        \n",
    "    def __repr__(self):\n",
    "        return f'Node {str(self.key)}'\n",
    "\n",
    "    \n",
    "class Tree():\n",
    "    \n",
    "    def __init__(self, root=None):\n",
    "        self.root = root\n",
    "        self.row = []\n",
    "        \n",
    "    def insert(self, key, value):\n",
    "        if not self.root:\n",
    "            self.root = Node(key, value)\n",
    "        else:\n",
    "            self.insert_to_node(key, value, self.root)\n",
    "        \n",
    "    def insert_to_node(self, key, value, node):\n",
    "            if node.key == key:\n",
    "                node.value.append(value)\n",
    "                return\n",
    "            if node.key > key:\n",
    "                if node.L:\n",
    "                    self.insert_to_node(key, value, node.L)\n",
    "                else:\n",
    "                    node.L = Node(key, value)\n",
    "            else:\n",
    "                if node.R:\n",
    "                    self.insert_to_node(key, value, node.R)\n",
    "                else:\n",
    "                    node.R = Node(key, value)\n",
    "\n",
    "    def insert_branch(self, node, branch, side):\n",
    "        if side == 'R':\n",
    "            while node.R:\n",
    "                node = node.R\n",
    "            node.R = branch\n",
    "        if side == 'L':\n",
    "            while node.L:\n",
    "                node = node.L\n",
    "            node.L = branch\n",
    "\n",
    "    def search(self, key):\n",
    "        if self.root:\n",
    "            result = self.search_to_node(key, self.root)\n",
    "            if isinstance(result, Node):\n",
    "                return result\n",
    "            else:\n",
    "                return result[0]\n",
    "        else:\n",
    "            return None\n",
    "        \n",
    "    def search_with_parent(self, key):\n",
    "        if self.root:\n",
    "            result = self.search_to_node(key, self.root)\n",
    "            if isinstance(result, Node):\n",
    "                return (result, None)\n",
    "            else:\n",
    "                return result\n",
    "        else:\n",
    "            return None\n",
    "                \n",
    "    def search_to_node(self, key, node):\n",
    "        if node.key == key:\n",
    "            return node\n",
    "        if node.key > key:\n",
    "            if node.L:                \n",
    "                result = self.search_to_node(key, node.L)\n",
    "                if result:\n",
    "                    if isinstance(result, Node):\n",
    "                        return(result, node)\n",
    "                    else:\n",
    "                        return result\n",
    "        else:\n",
    "            if node.R:\n",
    "                result = self.search_to_node(key, node.R)\n",
    "                if result:\n",
    "                    if isinstance(result, Node):\n",
    "                        return(result, node)\n",
    "                    else:\n",
    "                        return result\n",
    "    \n",
    "    def remove(self, key):\n",
    "            node, parent = self.search_with_parent(key)\n",
    "            if (parent and not node.L and not node.R):\n",
    "                if node == parent.L:\n",
    "                    parent.L = None\n",
    "                else:\n",
    "                    parent.R = None\n",
    "                return\n",
    "\n",
    "            if (parent and node.L and not node.R):\n",
    "                if node == parent.L:\n",
    "                    parent.L = node.L\n",
    "                else:\n",
    "                    parent.R = node.L\n",
    "                return\n",
    "\n",
    "            if (parent and not node.L and node.R):\n",
    "                if node == parent.L:\n",
    "                    parent.L = node.R\n",
    "                else:\n",
    "                    parent.R = node.R\n",
    "                return\n",
    "\n",
    "            if parent:\n",
    "                if node == parent.L:\n",
    "                    if node.L:\n",
    "                        parent.L = node.L\n",
    "                        self.insert_branch(node.L, node.R, side='R')\n",
    "                if node == parent.R:\n",
    "                    if node.R:\n",
    "                        parent.R = node.R\n",
    "                        self.insert_branch(node.R, node.L, 'L')\n",
    "            else:\n",
    "                if (not node.L and not node.R):\n",
    "                    self.root = None\n",
    "                    return\n",
    "                if node.L and not node.R:\n",
    "                    self.root = node.L\n",
    "                    return\n",
    "                if not node.L and node.R:\n",
    "                    self.root = node.R\n",
    "                    return\n",
    "\n",
    "                self.root = node.L\n",
    "                self.insert_branch(node.L, node.R, side='R')\n",
    "                \n",
    "    def ride(self, order='incr'):   \n",
    "        node = self.root\n",
    "        result = []\n",
    "        def ride_incr(node):\n",
    "            if node == None:\n",
    "                return\n",
    "            ride_incr(node.L)\n",
    "            result.append(node.key)\n",
    "            ride_incr(node.R)\n",
    "        def ride_decr(node):\n",
    "            if node == None:\n",
    "                return\n",
    "            ride_decr(node.R)\n",
    "            result.append(node.key)\n",
    "            ride_decr(node.L)\n",
    "        \n",
    "        if order == 'incr':    \n",
    "            ride_incr(node)\n",
    "        if order == 'decr':\n",
    "            ride_decr(node)\n",
    "        return result\n"
   ]
  },
  {
   "cell_type": "markdown",
   "metadata": {},
   "source": [
    "### тестирование двоичного дерева"
   ]
  },
  {
   "cell_type": "code",
   "execution_count": 13,
   "metadata": {},
   "outputs": [],
   "source": [
    "N = 15000"
   ]
  },
  {
   "cell_type": "code",
   "execution_count": 14,
   "metadata": {},
   "outputs": [],
   "source": [
    "ordered_arr = [x for x in range(N)]"
   ]
  },
  {
   "cell_type": "code",
   "execution_count": 15,
   "metadata": {},
   "outputs": [],
   "source": [
    "shuffle_arr = [x for x in range(N)]"
   ]
  },
  {
   "cell_type": "code",
   "execution_count": 16,
   "metadata": {},
   "outputs": [],
   "source": [
    "shuffle(shuffle_arr)"
   ]
  },
  {
   "cell_type": "code",
   "execution_count": 17,
   "metadata": {},
   "outputs": [
    {
     "name": "stdout",
     "output_type": "stream",
     "text": [
      "26.887304\n"
     ]
    }
   ],
   "source": [
    "# добавление элементов в возрастающем  порядке\n",
    "start = time.time()\n",
    "oreder_tree = Tree()\n",
    "for item in ordered_arr:\n",
    "    oreder_tree.insert(item, randint(0, 10))\n",
    "stop = time.time()\n",
    "print('{:f}'.format(stop - start))\n"
   ]
  },
  {
   "cell_type": "code",
   "execution_count": 18,
   "metadata": {},
   "outputs": [
    {
     "name": "stdout",
     "output_type": "stream",
     "text": [
      "0.105555\n"
     ]
    }
   ],
   "source": [
    "# добавление элементов в случайном порядке\n",
    "start = time.time()\n",
    "shuffle_tree = Tree()\n",
    "for item in shuffle_arr:\n",
    "    shuffle_tree.insert(item, randint(0, 10))\n",
    "stop = time.time()\n",
    "print('{:f}'.format(stop - start))\n"
   ]
  },
  {
   "cell_type": "code",
   "execution_count": 19,
   "metadata": {},
   "outputs": [
    {
     "name": "stdout",
     "output_type": "stream",
     "text": [
      "0.077953\n"
     ]
    }
   ],
   "source": [
    "# поиск элементов в \"перемешанном\" дереве\n",
    "start = time.time()\n",
    "for item in ordered_arr:\n",
    "    shuffle_tree.search(item)\n",
    "stop = time.time()\n",
    "print('{:f}'.format(stop - start))\n"
   ]
  },
  {
   "cell_type": "code",
   "execution_count": 20,
   "metadata": {},
   "outputs": [
    {
     "name": "stdout",
     "output_type": "stream",
     "text": [
      "36.833683\n"
     ]
    }
   ],
   "source": [
    "# поиск элементов в \"возрастающем\" дереве\n",
    "start = time.time()\n",
    "for item in ordered_arr:\n",
    "    oreder_tree.search(item)\n",
    "stop = time.time()\n",
    "print('{:f}'.format(stop - start))"
   ]
  },
  {
   "cell_type": "code",
   "execution_count": 21,
   "metadata": {},
   "outputs": [
    {
     "name": "stdout",
     "output_type": "stream",
     "text": [
      "0.190746\n"
     ]
    }
   ],
   "source": [
    "# удаление элементов в \"перемешанном\" дереве\n",
    "start = time.time()\n",
    "for item in shuffle_arr:\n",
    "    shuffle_tree.remove(item)\n",
    "stop = time.time()\n",
    "print('{:f}'.format(stop - start))"
   ]
  },
  {
   "cell_type": "code",
   "execution_count": 22,
   "metadata": {},
   "outputs": [
    {
     "name": "stdout",
     "output_type": "stream",
     "text": [
      "0.010512\n"
     ]
    }
   ],
   "source": [
    "# удаление элементов в \"возрастающем\" дереве\n",
    "start = time.time()\n",
    "for item in ordered_arr:\n",
    "    oreder_tree.remove(item)\n",
    "stop = time.time()\n",
    "print('{:f}'.format(stop - start))"
   ]
  },
  {
   "cell_type": "markdown",
   "metadata": {},
   "source": [
    "### Вывод:"
   ]
  },
  {
   "cell_type": "raw",
   "metadata": {},
   "source": [
    "Работа с деревом, которое создано при добавлении элементов в случайном порядке, происходит значительно быстрее, чем работа с деревом, которое создано при добавлении элементов в возрастающем порядке. В первом случае - дерево получается более сбалансированное, во втором - максимально не сбалансированное.\n",
    "Добавление - значительно быстее, поиск - значительно быстрее при \"перемешанном добавлении элементов\", но удаление узлов, быстрее в \"возрастающем\" дереве.\n",
    "    "
   ]
  },
  {
   "cell_type": "markdown",
   "metadata": {},
   "source": [
    "# ABL дерево"
   ]
  },
  {
   "cell_type": "code",
   "execution_count": 36,
   "metadata": {},
   "outputs": [],
   "source": [
    "class ABLNode(Node):\n",
    "    def __init__(self, key, value=None, left=None, right=None):\n",
    "        super().__init__(key, value, left=None, right=None)\n",
    "        \n",
    "    @property\n",
    "    def hight(self):        \n",
    "        if self.L:\n",
    "            left = self.L.hight\n",
    "        else:\n",
    "            left = -1\n",
    "        if self.R:\n",
    "            right = self.R.hight\n",
    "        else:\n",
    "            right = -1\n",
    "        return max(left, right) + 1\n",
    "    \n",
    "        \n",
    "class ABLTree(Tree):\n",
    "    def __init__(self, root=None):\n",
    "        super().__init__(root)\n",
    "        \n",
    "    def insert(self, key, value):\n",
    "        if not self.root:\n",
    "            self.root = ABLNode(key, value)\n",
    "        else:\n",
    "            self.insert_to_node(key, value, self.root)\n",
    "            _, parent = self.search_with_parent(key)\n",
    "            self.rebalance(parent)\n",
    "        \n",
    "    def insert_to_node(self, key, value, node):\n",
    "\n",
    "            if node.key == key:\n",
    "                node.value.append(value)\n",
    "                return\n",
    "            if node.key > key:\n",
    "                if node.L:\n",
    "                    self.insert_to_node(key, value, node.L)\n",
    "                else:\n",
    "                    node.L = ABLNode(key, value)\n",
    "            else:\n",
    "                if node.R:\n",
    "                    self.insert_to_node(key, value, node.R)\n",
    "                else:\n",
    "                    node.R = ABLNode(key, value)\n",
    "\n",
    "    def search(self, key):\n",
    "        if self.root:\n",
    "            result = self.search_to_node(key, self.root)\n",
    "            if isinstance(result, ABLNode):\n",
    "                return result\n",
    "            else:\n",
    "                return result[0]\n",
    "        else:\n",
    "            return None\n",
    "        \n",
    "    def search_with_parent(self, key):\n",
    "        if self.root:\n",
    "            result = self.search_to_node(key, self.root)\n",
    "            if isinstance(result, ABLNode):\n",
    "                return (result, None)\n",
    "            else:\n",
    "                return result\n",
    "        else:\n",
    "            return None\n",
    "                \n",
    "    def search_to_node(self, key, node):\n",
    "        if node.key == key:\n",
    "            return node\n",
    "        if node.key > key:\n",
    "            if node.L:                \n",
    "                result = self.search_to_node(key, node.L)\n",
    "                if result:\n",
    "                    if isinstance(result, ABLNode):\n",
    "                        return(result, node)\n",
    "                    else:\n",
    "                        return result\n",
    "        else:\n",
    "            if node.R:\n",
    "                result = self.search_to_node(key, node.R)\n",
    "                if result:\n",
    "                    if isinstance(result, ABLNode):\n",
    "                        return(result, node)\n",
    "                    else:\n",
    "                        return result\n",
    "    \n",
    "    def remove(self, key):\n",
    "        node, parent = self.search_with_parent(key)\n",
    "        if (parent and not node.L and not node.R):\n",
    "            if node == parent.L:\n",
    "                parent.L = None\n",
    "            else:\n",
    "                parent.R = None\n",
    "            return\n",
    "                \n",
    "        if (parent and node.L and not node.R):\n",
    "            if node == parent.L:\n",
    "                parent.L = node.L\n",
    "            else:\n",
    "                parent.R = node.L\n",
    "            self.rebalance(parent)\n",
    "            return\n",
    "         \n",
    "        if (parent and not node.L and node.R):\n",
    "            if node == parent.L:\n",
    "                parent.L = node.R\n",
    "            else:\n",
    "                parent.R = node.R\n",
    "            self.rebalance(parent)\n",
    "            return\n",
    "                \n",
    "        if parent:\n",
    "            if node == parent.L:\n",
    "                if node.L:\n",
    "                    parent.L = node.L\n",
    "                    self.insert_branch(node.L, node.R, side='R')\n",
    "            if node == parent.R:\n",
    "                if node.R:\n",
    "                    parent.R = node.R\n",
    "                    self.insert_branch(node.R, node.L, 'L')\n",
    "            self.rebalance(parent)\n",
    "        else:\n",
    "            if (not node.L and not node.R):\n",
    "                self.root = None\n",
    "                return\n",
    "            if node.L and not node.R:\n",
    "                self.root = node.L\n",
    "                self.rebalance(node.L)\n",
    "                return\n",
    "            if not node.L and node.R:\n",
    "                self.root = node.R\n",
    "                self.rebalance(node.R)\n",
    "                return\n",
    "            \n",
    "            self.root = node.L\n",
    "            self.insert_branch(node.L, node.R, side='R')\n",
    "            self.rebalance(self.root)\n",
    "    \n",
    "    def height(self, node):\n",
    "        if node is None:\n",
    "            return -1\n",
    "        else:\n",
    "            return node.hight\n",
    "    \n",
    "    def MPP(self, node):\n",
    "        _, parent = self.search_with_parent(node.key)\n",
    "        b = node.L\n",
    "        c = b.R\n",
    "        node.L = c\n",
    "        b.R = node\n",
    "        if parent:   \n",
    "            if parent.L:\n",
    "                if parent.L == node:\n",
    "                    parent.L = b\n",
    "            if parent.R:\n",
    "                if parent.R == node:\n",
    "                    parent.R = b\n",
    "        else:\n",
    "            self.root = b\n",
    "    \n",
    "    def MLP(self, node):\n",
    "        _, parent = self.search_with_parent(node.key)\n",
    "        b = node.R\n",
    "        c = b.L\n",
    "        node.R = c\n",
    "        b.L = node\n",
    "        if parent:   \n",
    "            if parent.L:\n",
    "                if parent.L == node:\n",
    "                    parent.L = b\n",
    "            \n",
    "            if parent.R:\n",
    "                if parent.R == node:\n",
    "                    parent.R = b\n",
    "        else:\n",
    "            self.root = b\n",
    "    \n",
    "    def BPP(self, node):\n",
    "        self.MLP(node.L)\n",
    "        _, parent = self.search_with_parent(node.key)\n",
    "        self.MPP(node)     \n",
    "\n",
    "    def BLP(self, node):\n",
    "        self.MPP(node.R)\n",
    "        _, parent = self.search_with_parent(node.key)\n",
    "        self.MLP(node)\n",
    "\n",
    "    def find_min(self):\n",
    "        node = self.root\n",
    "        if node.L:\n",
    "            return find_min(node.L)\n",
    "\n",
    "    def rebalance(self, node):\n",
    "        while node:\n",
    "            diff = self.height(node.L) - self.height(node.R)\n",
    "            left = -1\n",
    "            right = -1\n",
    "            if node.L:\n",
    "                if node.L.L:\n",
    "                    left = node.L.L.hight\n",
    "                else:\n",
    "                    left = 0\n",
    "                if node.L.R:\n",
    "                    right = node.L.R.hight\n",
    "                else:\n",
    "                    left = 0\n",
    "            if (diff > 1) and (left > right):\n",
    "                self.MPP(node)\n",
    "            if (diff > 1) and (left < right):\n",
    "                self.BPP(node)\n",
    "            \n",
    "            if node.R:\n",
    "                if node.R.L:\n",
    "                    left = node.R.L.hight\n",
    "                else:\n",
    "                    left = 0\n",
    "                if node.R.R:\n",
    "                    right = node.R.R.hight\n",
    "                else:\n",
    "                    left = 0\n",
    "            if (diff < -1) and(left < right):\n",
    "                self.MLP(node)\n",
    "            if (diff < -1) and(left > right):\n",
    "                self.BLP(node)\n",
    "            _, node = self.search_with_parent(node.key)\n"
   ]
  },
  {
   "cell_type": "markdown",
   "metadata": {},
   "source": [
    "### тестирование ABL дерева"
   ]
  },
  {
   "cell_type": "code",
   "execution_count": 44,
   "metadata": {},
   "outputs": [],
   "source": [
    "N = 15000\n",
    "ordered_arr = [x for x in range(N)]\n",
    "shuffle_arr = [x for x in range(N)]\n",
    "shuffle(shuffle_arr)"
   ]
  },
  {
   "cell_type": "code",
   "execution_count": 45,
   "metadata": {},
   "outputs": [
    {
     "name": "stdout",
     "output_type": "stream",
     "text": [
      "122.535772\n"
     ]
    }
   ],
   "source": [
    "# добавление элементов в ABL дерево в возрастающем  порядке\n",
    "start = time.time()\n",
    "oreder_tree = ABLTree()\n",
    "for item in ordered_arr:\n",
    "    oreder_tree.insert(item, randint(0, 10))\n",
    "stop = time.time()\n",
    "print('{:f}'.format(stop - start))"
   ]
  },
  {
   "cell_type": "code",
   "execution_count": 46,
   "metadata": {},
   "outputs": [
    {
     "name": "stdout",
     "output_type": "stream",
     "text": [
      "132.599438\n"
     ]
    }
   ],
   "source": [
    "# добавление элементов в ABL дерево в случайном порядке\n",
    "start = time.time()\n",
    "shuffle_tree = ABLTree()\n",
    "for item in shuffle_arr:\n",
    "    shuffle_tree.insert(item, randint(0, 10))\n",
    "stop = time.time()\n",
    "print('{:f}'.format(stop - start))"
   ]
  },
  {
   "cell_type": "code",
   "execution_count": 47,
   "metadata": {},
   "outputs": [
    {
     "name": "stdout",
     "output_type": "stream",
     "text": [
      "0.065362\n"
     ]
    }
   ],
   "source": [
    "# поиск элементов в \"перемешанном\" ABL дереве\n",
    "start = time.time()\n",
    "for item in shuffle_arr:\n",
    "    shuffle_tree.search(item)\n",
    "stop = time.time()\n",
    "print('{:f}'.format(stop - start))\n"
   ]
  },
  {
   "cell_type": "code",
   "execution_count": 48,
   "metadata": {},
   "outputs": [
    {
     "name": "stdout",
     "output_type": "stream",
     "text": [
      "0.060585\n"
     ]
    }
   ],
   "source": [
    "# поиск элементов в \"возрастающем\" ABL дереве\n",
    "start = time.time()\n",
    "for item in ordered_arr:\n",
    "    oreder_tree.search(item)\n",
    "stop = time.time()\n",
    "print('{:f}'.format(stop - start))"
   ]
  },
  {
   "cell_type": "code",
   "execution_count": 49,
   "metadata": {},
   "outputs": [
    {
     "name": "stdout",
     "output_type": "stream",
     "text": [
      "125.479369\n"
     ]
    }
   ],
   "source": [
    "# удаление элементов в \"перемешанном\" ABL дереве\n",
    "start = time.time()\n",
    "for item in shuffle_arr:\n",
    "    shuffle_tree.remove(item)\n",
    "stop = time.time()\n",
    "print('{:f}'.format(stop - start))"
   ]
  },
  {
   "cell_type": "code",
   "execution_count": 50,
   "metadata": {},
   "outputs": [
    {
     "name": "stdout",
     "output_type": "stream",
     "text": [
      "88.903517\n"
     ]
    }
   ],
   "source": [
    "# удаление элементов в \"возрастающем\" ABL дереве\n",
    "start = time.time()\n",
    "for item in shuffle_arr:\n",
    "    oreder_tree.remove(item)\n",
    "stop = time.time()\n",
    "print('{:f}'.format(stop - start))"
   ]
  },
  {
   "cell_type": "markdown",
   "metadata": {},
   "source": [
    "### Вывод:"
   ]
  },
  {
   "cell_type": "raw",
   "metadata": {},
   "source": [
    "В АБЛ дереве - не имеет значения, как добавляются элементы, в восходящем порядке ключи или в случайном.\n",
    "Т.к. при добавлении элементов вызывается балансировка. (при добавлении случайных ключей - добаление несколько медленене - вероятно, чаще используются \"большие повороты\" при ребалансировке)\n",
    "Поиск элемента по ключу - также не отличается при разных способах добавления элементов, т.к. и в первом и во втором случае - деревья сбалансированы.\n",
    "Отмечается незначительный прирост скорости, при удалени элементов в случае с \"возрастающим добавлением элементов в дерево\", вероятно, за счет более редкого вызывания функции ребалансировки."
   ]
  },
  {
   "cell_type": "code",
   "execution_count": 51,
   "metadata": {},
   "outputs": [
    {
     "name": "stdout",
     "output_type": "stream",
     "text": [
      "125.972688\n"
     ]
    }
   ],
   "source": [
    "# создаем деревья для демонстрации 2-го варианта удаления.(порядок удаляемых ключей - тоже имеет значение)\n",
    "# добавление элементов в ABL дерево в возрастающем  порядке\n",
    "start = time.time()\n",
    "oreder_tree = ABLTree()\n",
    "for item in ordered_arr:\n",
    "    oreder_tree.insert(item, randint(0, 10))\n",
    "stop = time.time()\n",
    "print('{:f}'.format(stop - start))"
   ]
  },
  {
   "cell_type": "code",
   "execution_count": 52,
   "metadata": {},
   "outputs": [
    {
     "name": "stdout",
     "output_type": "stream",
     "text": [
      "132.847955\n"
     ]
    }
   ],
   "source": [
    "# добавление элементов в ABL дерево в случайном порядке\n",
    "start = time.time()\n",
    "shuffle_tree = ABLTree()\n",
    "for item in shuffle_arr:\n",
    "    shuffle_tree.insert(item, randint(0, 10))\n",
    "stop = time.time()\n",
    "print('{:f}'.format(stop - start))"
   ]
  },
  {
   "cell_type": "code",
   "execution_count": 53,
   "metadata": {},
   "outputs": [],
   "source": [
    "# ключи для удаления беруться из ordered_arr, упорядоченного по возрастанию."
   ]
  },
  {
   "cell_type": "code",
   "execution_count": 54,
   "metadata": {},
   "outputs": [
    {
     "name": "stdout",
     "output_type": "stream",
     "text": [
      "49.273431\n"
     ]
    }
   ],
   "source": [
    "start = time.time()\n",
    "for item in ordered_arr:\n",
    "    shuffle_tree.remove(item)\n",
    "stop = time.time()\n",
    "print('{:f}'.format(stop - start))"
   ]
  },
  {
   "cell_type": "code",
   "execution_count": 55,
   "metadata": {},
   "outputs": [
    {
     "name": "stdout",
     "output_type": "stream",
     "text": [
      "29.678093\n"
     ]
    }
   ],
   "source": [
    "# удаление элементов в \"возрастающем\" ABL дереве\n",
    "start = time.time()\n",
    "for item in ordered_arr:\n",
    "    oreder_tree.remove(item)\n",
    "stop = time.time()\n",
    "print('{:f}'.format(stop - start))"
   ]
  },
  {
   "cell_type": "raw",
   "metadata": {},
   "source": [
    "    Более существенная разница в скорости выполнения операций удаления элементов из дерева, в случае, если ключи удаляются в возрастающем порядке (49 сек. -shuffle_tree, и 29 сек. - oreder_tree(ordered tree)),  нежели, если ключи для удаления берутся в случайном порядке (125 сек. -shuffle_tree, и 89 сек. - oreder_tree(ordered tree)).\n",
    "Данный факт, вероятно, таже связан с более редким вызыванием функции ребалансировки, при \"возрастающем\" порядке ключей для удаления элементов."
   ]
  },
  {
   "cell_type": "code",
   "execution_count": null,
   "metadata": {},
   "outputs": [],
   "source": []
  }
 ],
 "metadata": {
  "kernelspec": {
   "display_name": "Python 3",
   "language": "python",
   "name": "python3"
  },
  "language_info": {
   "codemirror_mode": {
    "name": "ipython",
    "version": 3
   },
   "file_extension": ".py",
   "mimetype": "text/x-python",
   "name": "python",
   "nbconvert_exporter": "python",
   "pygments_lexer": "ipython3",
   "version": "3.7.3"
  }
 },
 "nbformat": 4,
 "nbformat_minor": 2
}
