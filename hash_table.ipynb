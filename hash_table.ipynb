{
 "cells": [
  {
   "cell_type": "code",
   "execution_count": 146,
   "metadata": {},
   "outputs": [],
   "source": [
    "import numpy as np\n",
    "from itertools import chain"
   ]
  },
  {
   "cell_type": "markdown",
   "metadata": {},
   "source": [
    "## Хеш-таблица, использующая метод цепочек"
   ]
  },
  {
   "cell_type": "code",
   "execution_count": 282,
   "metadata": {},
   "outputs": [],
   "source": [
    "class Node:\n",
    "    def __init__(self, key, value):\n",
    "        self.key = key\n",
    "        self.value = value\n",
    "        self.next = None\n",
    "\n",
    "class Link_list:\n",
    "    def __init__(self, node=None):\n",
    "        self.head_node = node\n",
    "        \n",
    "    def __iter__(self):\n",
    "        item = self.head_node\n",
    "        while item is not None:\n",
    "            yield item\n",
    "            item = item.next\n",
    "            \n",
    "    def add(self, node):\n",
    "        if self.head_node is None:\n",
    "            self.head_node = node\n",
    "            return\n",
    "        last_node = self.head_node\n",
    "        while last_node.next:\n",
    "            last_node = last_node.next\n",
    "        last_node.next = node\n",
    "    \n",
    "    \n",
    "    def search(self, key):\n",
    "        if self.head_node is None:\n",
    "            return\n",
    "        next_node = self.head_node\n",
    "        if next_node.key == key:\n",
    "            return next_node\n",
    "        while next_node.next:\n",
    "            next_node = next_node.next\n",
    "            if next_node.key == key:\n",
    "                return next_node\n",
    "            \n",
    "    def remove(self, node_key):\n",
    "        next_node = self.head_node\n",
    "        if next_node.key == node_key:\n",
    "            self.head_node = next_node.next\n",
    "            return\n",
    "        while next_node:\n",
    "            if next_node.next.key == node_key:\n",
    "                next_node.next = next_node.next.next\n",
    "                return\n",
    "            next_node = next_node.next\n",
    "\n",
    "class HashTable:\n",
    "    \n",
    "    def __init__(self, size=10, hash_fun=None):\n",
    "        self.size = size\n",
    "        self.data = [None] * self.size\n",
    "        if hash_fun:\n",
    "            self.hash = hash_fun\n",
    "        else:\n",
    "            self.hash = self.my_hash\n",
    "        \n",
    "    def my_hash(self, string):\n",
    "        summ = 0\n",
    "        string = str(string)\n",
    "        for item in range(len(string)):\n",
    "            summ = summ + ord(string[item]) * (item + 1)\n",
    "        return summ % self.size\n",
    "        \n",
    "    def put(self, key, value):\n",
    "        hash_value = self.hash(key)\n",
    "        if not self.data[hash_value]:\n",
    "            self.data[hash_value] = Link_list(Node(key, value))\n",
    "        else:\n",
    "            node = self.data[hash_value].search(key)\n",
    "            if node:\n",
    "                node.value = value\n",
    "            else:\n",
    "                self.data[hash_value].add(Node(key, value))\n",
    "    \n",
    "    def get(self, key):\n",
    "        hash_value = self.hash(key)\n",
    "        if self.data[hash_value]:\n",
    "            node = self.data[hash_value].search(key)\n",
    "            if node:\n",
    "                return((node.key, node.value))\n",
    "            \n",
    "    def remove(self, key):\n",
    "        hash_value = self.hash(key)\n",
    "        if not self.data[hash_value]:\n",
    "            return\n",
    "        else:\n",
    "            self.data[hash_value].remove(key)\n",
    "            if self.data[hash_value].head_node == None:\n",
    "                self.data[hash_value] = None\n",
    "                \n",
    "    def __repr__(self):\n",
    "        return str([[it.key for it in item] for item in self.data if item])\n",
    "    \n",
    "    \n",
    "    def __iter__(self):\n",
    "        list_gen = []\n",
    "        for item in self.data:\n",
    "            if item:\n",
    "                list_gen.append(item)\n",
    "        for item in chain(*list_gen):\n",
    "            yield (item.key, item.value)\n",
    "#         for elem in [it for item in list_gen for it in item]:\n",
    "#             yield (elem.key, elem.value)\n",
    "    "
   ]
  },
  {
   "cell_type": "code",
   "execution_count": 283,
   "metadata": {},
   "outputs": [],
   "source": [
    "len_table = 10\n",
    "ht = HashTable(len_table)"
   ]
  },
  {
   "cell_type": "code",
   "execution_count": 284,
   "metadata": {},
   "outputs": [
    {
     "data": {
      "text/plain": [
       "[None,\n",
       " <__main__.Link_list at 0x7fc8b3fbc5c0>,\n",
       " <__main__.Link_list at 0x7fc8b3fbc470>,\n",
       " None,\n",
       " <__main__.Link_list at 0x7fc8b3fbcda0>,\n",
       " <__main__.Link_list at 0x7fc8b3fbc080>,\n",
       " <__main__.Link_list at 0x7fc8b3fbc9b0>,\n",
       " <__main__.Link_list at 0x7fc8ec43fc50>,\n",
       " None,\n",
       " <__main__.Link_list at 0x7fc8b3fbcbe0>]"
      ]
     },
     "execution_count": 284,
     "metadata": {},
     "output_type": "execute_result"
    }
   ],
   "source": [
    "s ='qwertyuiopa'\n",
    "for i in range(10):\n",
    "    ht.put( s[10-i], i)\n",
    "ht.data"
   ]
  },
  {
   "cell_type": "code",
   "execution_count": 287,
   "metadata": {},
   "outputs": [
    {
     "data": {
      "text/plain": [
       "[['o', 'y', 'e'], ['p'], ['r'], ['i'], ['t'], ['a', 'u'], ['w']]"
      ]
     },
     "execution_count": 287,
     "metadata": {},
     "output_type": "execute_result"
    }
   ],
   "source": [
    "ht"
   ]
  },
  {
   "cell_type": "code",
   "execution_count": 288,
   "metadata": {},
   "outputs": [
    {
     "name": "stdout",
     "output_type": "stream",
     "text": [
      "('o', 2)\n",
      "('y', 5)\n",
      "('e', 8)\n",
      "('p', 1)\n",
      "('r', 7)\n",
      "('i', 3)\n",
      "('t', 6)\n",
      "('a', 0)\n",
      "('u', 4)\n",
      "('w', 9)\n"
     ]
    }
   ],
   "source": [
    "for i in ht:\n",
    "    print(i)"
   ]
  },
  {
   "cell_type": "code",
   "execution_count": 289,
   "metadata": {},
   "outputs": [
    {
     "data": {
      "text/plain": [
       "('y', 5)"
      ]
     },
     "execution_count": 289,
     "metadata": {},
     "output_type": "execute_result"
    }
   ],
   "source": [
    "ht.get('y')"
   ]
  },
  {
   "cell_type": "code",
   "execution_count": 290,
   "metadata": {},
   "outputs": [],
   "source": [
    "ht.remove('y')"
   ]
  },
  {
   "cell_type": "code",
   "execution_count": 291,
   "metadata": {},
   "outputs": [],
   "source": [
    "ht.get('y')"
   ]
  },
  {
   "cell_type": "markdown",
   "metadata": {},
   "source": [
    "## Хеш-таблица с открытой адресацией, \"ленивым\" удалением, двойным хешированием (вместо квадратичного пробинга)"
   ]
  },
  {
   "cell_type": "code",
   "execution_count": 204,
   "metadata": {},
   "outputs": [],
   "source": [
    "class HashOpenTable:\n",
    "    \n",
    "    def __init__(self, size=10, hash_fun=None):\n",
    "        self.size = size\n",
    "        self.data = np.array(([[None, None, False]] * self.size), dtype='object')            \n",
    "        if hash_fun:\n",
    "            self.hash = hash_fun\n",
    "        else:\n",
    "            self.hash = self.my_hash\n",
    "        \n",
    "    def my_hash(self, string, i):\n",
    "        summ = 0\n",
    "        string = str(string)\n",
    "        for item in range(len(string)):\n",
    "            summ = summ + ord(string[item]) * (item + 1)\n",
    "        hash_1 = summ % self.size   \n",
    "        hash_2 = 1 + (summ % (self.size - 1))            \n",
    "        return (hash_1 + i * hash_2) % self.size\n",
    "    \n",
    "    \n",
    "    def put(self, key, value):\n",
    "        count = 0\n",
    "        i = 0       \n",
    "        hash_value = self.hash(key, i)\n",
    "        while True:\n",
    "            if not self.data[hash_value][0]:\n",
    "                self.data[hash_value][0] = key\n",
    "                self.data[hash_value][1] = value\n",
    "                if self.data[hash_value][2]:\n",
    "                    seld.data[hash_value][2] = False\n",
    "                break\n",
    "            else:\n",
    "                if self.data[hash_value][2]:\n",
    "                    self.data[hash_value][0] = key\n",
    "                    self.data[hash_value][1] = value\n",
    "                    self.data[hash_value][2] = False\n",
    "                    break\n",
    "                else:\n",
    "                    if self.data[hash_value][0] == key:\n",
    "                        self.data[hash_value][1] = value\n",
    "                        break\n",
    "                    i += 1\n",
    "                    hash_value = self.hash(key, i)\n",
    "                    count += 1\n",
    "                    if count >= self.size:\n",
    "                        self.resize()\n",
    "                        self.put(key, value)\n",
    "                        break\n",
    "                    \n",
    "    def get(self, key):\n",
    "        count = 0\n",
    "        i = 0       \n",
    "        hash_value = self.hash(key, i)\n",
    "        while self.data[hash_value][0] or self.data[hash_value][2]:\n",
    "            if self.data[hash_value][0] == key and not self.data[hash_value][2]:\n",
    "                return self.data[hash_value][1]\n",
    "            count += 1\n",
    "            if count >= self.size:\n",
    "                return\n",
    "            i += 1\n",
    "            hash_value = self.hash(key, i)\n",
    "    \n",
    "    def remove(self, key):\n",
    "        count = 0\n",
    "        i = 0       \n",
    "        hash_value = self.hash(key, i)\n",
    "        while self.data[hash_value][0] or self.data[hash_value][2]:\n",
    "            if self.data[hash_value][0] == key:\n",
    "                self.data[hash_value][2] = True\n",
    "            count += 1\n",
    "            if count >= self.size:\n",
    "                return\n",
    "            i += 1\n",
    "            hash_value = self.hash(key, i)\n",
    "            \n",
    "    \n",
    "    def resize(self):\n",
    "        temp = []\n",
    "        for item in self.data:\n",
    "            if not item[2] and item[0]:\n",
    "                temp.append((item[0], item[1]))\n",
    "        self.size = self.size * 2\n",
    "        self.data = np.array(([[None, None, False]] * self.size), dtype='object') \n",
    "        for item in temp:\n",
    "            self.put(item[0], item[1])\n",
    "            \n",
    "            \n",
    "    def __iter__(self):\n",
    "        for i in [(item[0],item[1])for item in self.data if item[0] and not item[2]]:\n",
    "            yield i\n",
    "    \n",
    "    def __repr__(self):\n",
    "        return str([(item[0],item[1]) for item in self.data if item[0] and not item[2]])\n",
    "    \n",
    "  \n",
    "        "
   ]
  },
  {
   "cell_type": "code",
   "execution_count": 215,
   "metadata": {},
   "outputs": [],
   "source": [
    "hot = HashOpenTable()"
   ]
  },
  {
   "cell_type": "code",
   "execution_count": 217,
   "metadata": {},
   "outputs": [
    {
     "data": {
      "text/plain": [
       "array([['e', 8, False],\n",
       "       ['o', 2, False],\n",
       "       ['p', 1, False],\n",
       "       ['w', 9, False],\n",
       "       ['t', 6, False],\n",
       "       ['i', 3, False],\n",
       "       ['y', 5, False],\n",
       "       ['a', 0, False],\n",
       "       ['u', 4, False],\n",
       "       ['r', 7, False]], dtype=object)"
      ]
     },
     "execution_count": 217,
     "metadata": {},
     "output_type": "execute_result"
    }
   ],
   "source": [
    "s ='qwertyuiopa'\n",
    "for i in range(10):\n",
    "    hot.put( s[10-i], i)\n",
    "hot.data"
   ]
  },
  {
   "cell_type": "code",
   "execution_count": 218,
   "metadata": {},
   "outputs": [
    {
     "data": {
      "text/plain": [
       "4"
      ]
     },
     "execution_count": 218,
     "metadata": {},
     "output_type": "execute_result"
    }
   ],
   "source": [
    "hot.get('u')"
   ]
  },
  {
   "cell_type": "code",
   "execution_count": 219,
   "metadata": {},
   "outputs": [
    {
     "data": {
      "text/plain": [
       "array([['e', 8, False],\n",
       "       ['o', 2, False],\n",
       "       ['p', 1, False],\n",
       "       ['w', 9, False],\n",
       "       ['t', 6, False],\n",
       "       ['i', 3, False],\n",
       "       ['y', 5, False],\n",
       "       ['a', 0, False],\n",
       "       ['u', 4, True],\n",
       "       ['r', 7, False]], dtype=object)"
      ]
     },
     "execution_count": 219,
     "metadata": {},
     "output_type": "execute_result"
    }
   ],
   "source": [
    "hot.remove('u')\n",
    "hot.data"
   ]
  },
  {
   "cell_type": "code",
   "execution_count": 220,
   "metadata": {},
   "outputs": [],
   "source": [
    "hot.get('u')"
   ]
  },
  {
   "cell_type": "code",
   "execution_count": 221,
   "metadata": {},
   "outputs": [
    {
     "data": {
      "text/plain": [
       "array([['e', 8, False],\n",
       "       ['o', 2, False],\n",
       "       ['p', 1, False],\n",
       "       ['w', 9, False],\n",
       "       ['t', 6, False],\n",
       "       ['i', 3, False],\n",
       "       ['y', 5, False],\n",
       "       ['a', 0, False],\n",
       "       ['dd', 77, False],\n",
       "       ['r', 7, False]], dtype=object)"
      ]
     },
     "execution_count": 221,
     "metadata": {},
     "output_type": "execute_result"
    }
   ],
   "source": [
    "hot.put('dd', 77)\n",
    "hot.data"
   ]
  },
  {
   "cell_type": "code",
   "execution_count": 222,
   "metadata": {},
   "outputs": [
    {
     "data": {
      "text/plain": [
       "array([['dd', 77, False],\n",
       "       ['e', 8, False],\n",
       "       [None, None, False],\n",
       "       [None, None, False],\n",
       "       [None, None, False],\n",
       "       ['i', 3, False],\n",
       "       ['ff', 66, False],\n",
       "       [None, None, False],\n",
       "       [None, None, False],\n",
       "       ['y', 5, False],\n",
       "       [None, None, False],\n",
       "       ['o', 2, False],\n",
       "       ['p', 1, False],\n",
       "       [None, None, False],\n",
       "       ['r', 7, False],\n",
       "       [None, None, False],\n",
       "       ['t', 6, False],\n",
       "       ['a', 0, False],\n",
       "       [None, None, False],\n",
       "       ['w', 9, False]], dtype=object)"
      ]
     },
     "execution_count": 222,
     "metadata": {},
     "output_type": "execute_result"
    }
   ],
   "source": [
    "hot.put('ff', 66)\n",
    "hot.data"
   ]
  },
  {
   "cell_type": "code",
   "execution_count": 292,
   "metadata": {},
   "outputs": [
    {
     "name": "stdout",
     "output_type": "stream",
     "text": [
      "('dd', 77)\n",
      "('e', 8)\n",
      "('i', 3)\n",
      "('ff', 66)\n",
      "('y', 5)\n",
      "('o', 2)\n",
      "('p', 1)\n",
      "('r', 7)\n",
      "('t', 6)\n",
      "('a', 0)\n",
      "('w', 9)\n"
     ]
    }
   ],
   "source": [
    "for i in hot:\n",
    "    print(i)"
   ]
  },
  {
   "cell_type": "code",
   "execution_count": 224,
   "metadata": {},
   "outputs": [
    {
     "data": {
      "text/plain": [
       "[('dd', 77), ('e', 8), ('i', 3), ('ff', 66), ('y', 5), ('o', 2), ('p', 1), ('r', 7), ('t', 6), ('a', 0), ('w', 9)]"
      ]
     },
     "execution_count": 224,
     "metadata": {},
     "output_type": "execute_result"
    }
   ],
   "source": [
    "hot"
   ]
  },
  {
   "cell_type": "code",
   "execution_count": null,
   "metadata": {},
   "outputs": [],
   "source": []
  }
 ],
 "metadata": {
  "kernelspec": {
   "display_name": "Python 3",
   "language": "python",
   "name": "python3"
  },
  "language_info": {
   "codemirror_mode": {
    "name": "ipython",
    "version": 3
   },
   "file_extension": ".py",
   "mimetype": "text/x-python",
   "name": "python",
   "nbconvert_exporter": "python",
   "pygments_lexer": "ipython3",
   "version": "3.7.3"
  }
 },
 "nbformat": 4,
 "nbformat_minor": 2
}
