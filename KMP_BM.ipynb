{
 "cells": [
  {
   "cell_type": "code",
   "execution_count": 1,
   "metadata": {},
   "outputs": [],
   "source": [
    "import numpy as np\n",
    "import time"
   ]
  },
  {
   "cell_type": "markdown",
   "metadata": {},
   "source": [
    "## Алгоритм Бойера-Мура"
   ]
  },
  {
   "cell_type": "code",
   "execution_count": 2,
   "metadata": {},
   "outputs": [],
   "source": [
    "def create_prefix(pattern):\n",
    "    prefix = list(np.array([-1] * 65536))\n",
    "    for ind in range(len(pattern) - 1):\n",
    "        prefix[ord(pattern[ind])] = ind\n",
    "    return prefix"
   ]
  },
  {
   "cell_type": "code",
   "execution_count": 3,
   "metadata": {},
   "outputs": [],
   "source": [
    "def create_suffix(pattern):\n",
    "    suffix = list(np.array([len(pattern)] * (len(pattern) + 1)))\n",
    "    suffix[len(pattern)] = 1\n",
    "    for ind in range(len(pattern)- 1, -1, -1):\n",
    "        for at in range(ind, len(pattern)):\n",
    "            a  = pattern[at:]\n",
    "            for i in range(at-1, -1, -1):\n",
    "                b = pattern[i:len(a)]\n",
    "                if (a == b):\n",
    "                    suffix[ind] = at - 1\n",
    "                    at = len(pattern)\n",
    "                    break    \n",
    "    return suffix"
   ]
  },
  {
   "cell_type": "code",
   "execution_count": 4,
   "metadata": {},
   "outputs": [],
   "source": [
    "def boyer_moore(text, pattern):\n",
    "    prefix = create_prefix(pattern)\n",
    "    suffix = create_suffix(pattern)\n",
    "    last = len(pattern) - 1\n",
    "    t = 0\n",
    "    while (t < (len(text) - last)):\n",
    "        p = last\n",
    "        while ((p >= 0) and (text[t + p] == pattern[p])):\n",
    "            p -= 1\n",
    "        if (p == -1):\n",
    "            return t\n",
    "        t += max(p - prefix[ord(text[t + p])], suffix[p + 1])\n",
    "    return -1"
   ]
  },
  {
   "cell_type": "code",
   "execution_count": 5,
   "metadata": {},
   "outputs": [
    {
     "name": "stdout",
     "output_type": "stream",
     "text": [
      "1378324\n",
      "0.166668 секунд\n"
     ]
    }
   ],
   "source": [
    "file = 'Voyna-i-mir.txt'\n",
    "pattern = 'Было морозно и ясно.'\n",
    "\n",
    "\n",
    "with open(file, 'r') as f:\n",
    "    start = time.time()\n",
    "    print(boyer_moore(f.read(), pattern))\n",
    "    stop = time.time()\n",
    "    print('{:f} секунд'.format(stop - start))\n",
    "    \n"
   ]
  },
  {
   "cell_type": "markdown",
   "metadata": {},
   "source": [
    "##  Алгоритм Кнута - Морриса - Пратта"
   ]
  },
  {
   "cell_type": "code",
   "execution_count": 6,
   "metadata": {},
   "outputs": [],
   "source": [
    "def left(pattern, a):\n",
    "    return pattern[:a]\n",
    "\n",
    "def right(pattern, a):\n",
    "    return pattern[len(pattern) - a:]"
   ]
  },
  {
   "cell_type": "code",
   "execution_count": 7,
   "metadata": {},
   "outputs": [],
   "source": [
    "class Auto:    \n",
    "    def search(self, text, pattern):\n",
    "        line = ''.join([pattern, '#', text]) \n",
    "#         pi_1 = self.compute_pi_slow(line)   \n",
    "        pi = self.compute_pi_fast(line)\n",
    "    \n",
    "        n = len(text)\n",
    "        len_pattern  = len(pattern)\n",
    "        q = 0\n",
    "        \n",
    "        for i in range(0, n):\n",
    "            while (q > 0) and (text[i] != pattern[q]):\n",
    "                q = pi[q - 1]\n",
    "            if text[i] == pattern[q]:\n",
    "                q += 1\n",
    "            if (q == len_pattern):\n",
    "                return i - len_pattern + 1\n",
    "        return -1\n",
    "    \n",
    "    def compute_pi_slow(self, pattern):\n",
    "        n = len(pattern)\n",
    "        pi = np.zeros(n, dtype='int')\n",
    "        for i in range(n):\n",
    "            for q in range(i + 1):\n",
    "                if (left(pattern, q) == right(left(pattern, i + 1), q)):\n",
    "                    pi[i] = q\n",
    "        return pi\n",
    "    \n",
    "    def compute_pi_fast(self, pattern):\n",
    "        n = len(pattern)\n",
    "        pi = np.zeros(n, dtype='int')\n",
    "        for i in range(1, n):\n",
    "            q = pi[i - 1]\n",
    "            while (q > 0) and (pattern[i] != pattern[q]):\n",
    "                q = pi[q - 1]\n",
    "            if pattern[i] == pattern[q]:\n",
    "                q += 1\n",
    "            pi[i] = q     \n",
    "        return pi\n"
   ]
  },
  {
   "cell_type": "code",
   "execution_count": 8,
   "metadata": {},
   "outputs": [
    {
     "name": "stdout",
     "output_type": "stream",
     "text": [
      "1378324\n",
      "1.016687 секунд\n"
     ]
    }
   ],
   "source": [
    "auto = Auto()\n",
    "with open(file, 'r') as f:\n",
    "    start = time.time()\n",
    "    print(auto.search(f.read(), pattern))\n",
    "    stop = time.time()\n",
    "    print('{:f} секунд'.format(stop - start))"
   ]
  },
  {
   "cell_type": "raw",
   "metadata": {},
   "source": [
    "### На длинных текстах алгорим Бойера-Мура работает значительно быстрее."
   ]
  },
  {
   "cell_type": "code",
   "execution_count": 9,
   "metadata": {},
   "outputs": [],
   "source": [
    "text= 'aabaaabaaaabaaaabaabaab'\n",
    "pattern = 'abaab'"
   ]
  },
  {
   "cell_type": "code",
   "execution_count": 10,
   "metadata": {},
   "outputs": [
    {
     "name": "stdout",
     "output_type": "stream",
     "text": [
      "Алгоритм Бойера-Мура 0.008164 секунд\n"
     ]
    }
   ],
   "source": [
    "start = time.time()\n",
    "boyer_moore(text, pattern)\n",
    "stop = time.time()\n",
    "print('Алгоритм Бойера-Мура {:f} секунд'.format(stop - start))"
   ]
  },
  {
   "cell_type": "code",
   "execution_count": 11,
   "metadata": {},
   "outputs": [
    {
     "name": "stdout",
     "output_type": "stream",
     "text": [
      "Алгоритм Кнута-Морриса-Прата 0.000097 секунд\n"
     ]
    }
   ],
   "source": [
    "start = time.time()\n",
    "auto.search(text, pattern)\n",
    "stop = time.time()\n",
    "print('Алгоритм Кнута-Морриса-Прата {:f} секунд'.format(stop - start))"
   ]
  },
  {
   "cell_type": "raw",
   "metadata": {},
   "source": [
    "### На коротких текстах - алгоритм Кнута-Морриса-Пратта работает значительно быстрее."
   ]
  },
  {
   "cell_type": "raw",
   "metadata": {},
   "source": [
    "Подберем приблизительный размер текста, на котором алгоритм Кнута-Морриса-Пратта работает быстрее.\n",
    "А заодно - посмотрим, сколько времени уходит на создание pi - таблицы."
   ]
  },
  {
   "cell_type": "code",
   "execution_count": 23,
   "metadata": {},
   "outputs": [],
   "source": [
    "file = 'Voyna-i-mir.txt'\n",
    "pattern = 'Было морозно и ясно.'"
   ]
  },
  {
   "cell_type": "code",
   "execution_count": 13,
   "metadata": {},
   "outputs": [
    {
     "name": "stdout",
     "output_type": "stream",
     "text": [
      "Работа с 100000 символами\n",
      "Алгоритм Бойера-Мура 0.016232 секунд\n",
      "Алгоритм Кнута-Морриса-Прата 0.068017 секунд\n"
     ]
    }
   ],
   "source": [
    "step = 100000\n",
    "count = 0\n",
    "time_boyer_moor = 0\n",
    "time_KMP = 0\n",
    "with open(file, 'r') as f:\n",
    "    text = f.read()\n",
    "    for i in range(0, len(text), step):\n",
    "        start = time.time()\n",
    "        boyer_moore(text[i:i + step], pattern)\n",
    "        stop = time.time()\n",
    "        time_boyer_moor += (stop - start)\n",
    "        \n",
    "        start = time.time()\n",
    "        auto.search(text[i:i + step], pattern)\n",
    "        stop = time.time()\n",
    "        time_KMP += (stop - start)\n",
    "        \n",
    "        count += 1\n",
    "print(f'Работа с {step} символами')        \n",
    "print('Алгоритм Бойера-Мура {:f} секунд'.format(time_boyer_moor / count))\n",
    "print('Алгоритм Кнута-Морриса-Прата {:f} секунд'.format(time_KMP / count))"
   ]
  },
  {
   "cell_type": "code",
   "execution_count": 14,
   "metadata": {},
   "outputs": [
    {
     "name": "stdout",
     "output_type": "stream",
     "text": [
      "Работа с 12500 символами\n",
      "Алгоритм Бойера-Мура 0.008685 секунд\n",
      "Алгоритм Кнута-Морриса-Прата 0.008547 секунд\n"
     ]
    }
   ],
   "source": [
    "step = 12500\n",
    "count = 0\n",
    "time_boyer_moor = 0\n",
    "time_KMP = 0\n",
    "with open(file, 'r') as f:\n",
    "    text = f.read()\n",
    "    for i in range(0, len(text), step):\n",
    "        start = time.time()\n",
    "        boyer_moore(text[i:i + step], pattern)\n",
    "        stop = time.time()\n",
    "        time_boyer_moor += (stop - start)\n",
    "        \n",
    "        start = time.time()\n",
    "        auto.search(text[i:i + step], pattern)\n",
    "        stop = time.time()\n",
    "        time_KMP += (stop - start)\n",
    "        \n",
    "        count += 1\n",
    "print(f'Работа с {step} символами')        \n",
    "print('Алгоритм Бойера-Мура {:f} секунд'.format(time_boyer_moor / count))\n",
    "print('Алгоритм Кнута-Морриса-Прата {:f} секунд'.format(time_KMP / count))"
   ]
  },
  {
   "cell_type": "code",
   "execution_count": 15,
   "metadata": {},
   "outputs": [
    {
     "name": "stdout",
     "output_type": "stream",
     "text": [
      "Работа с 1000 символами\n",
      "Алгоритм Бойера-Мура 0.007644 секунд\n",
      "Алгоритм Кнута-Морриса-Прата 0.000588 секунд\n"
     ]
    }
   ],
   "source": [
    "step = 1000\n",
    "count = 0\n",
    "time_boyer_moor = 0\n",
    "time_KMP = 0\n",
    "with open(file, 'r') as f:\n",
    "    text = f.read()\n",
    "    for i in range(0, len(text), step):\n",
    "        start = time.time()\n",
    "        boyer_moore(text[i:i + step], pattern)\n",
    "        stop = time.time()\n",
    "        time_boyer_moor += (stop - start)\n",
    "        \n",
    "        start = time.time()\n",
    "        auto.search(text[i:i + step], pattern)\n",
    "        stop = time.time()\n",
    "        time_KMP += (stop - start)\n",
    "        \n",
    "        count += 1\n",
    "print(f'Работа с {step} символами')        \n",
    "print('Алгоритм Бойера-Мура {:f} секунд'.format(time_boyer_moor / count))\n",
    "print('Алгоритм Кнута-Морриса-Прата {:f} секунд'.format(time_KMP / count))"
   ]
  },
  {
   "cell_type": "markdown",
   "metadata": {},
   "source": [
    "### Посмотрим, сколько времени уходит на создание pi - таблицы."
   ]
  },
  {
   "cell_type": "code",
   "execution_count": 16,
   "metadata": {},
   "outputs": [],
   "source": [
    "class Auto:    \n",
    "    def search(self, text, pattern):\n",
    "        line = ''.join([pattern, '#', text]) \n",
    "#         pi_1 = self.compute_pi_slow(line)   \n",
    "        start = time.time()\n",
    "        pi = self.compute_pi_fast(line)\n",
    "        stop = time.time()\n",
    "        print('Создание pi таблицы - {:f} секунд'.format(stop - start))\n",
    "        \n",
    "        start = time.time()\n",
    "        n = len(text)\n",
    "        len_pattern  = len(pattern)\n",
    "        q = 0\n",
    "        \n",
    "        for i in range(0, n):\n",
    "            while (q > 0) and (text[i] != pattern[q]):\n",
    "                q = pi[q - 1]\n",
    "            if text[i] == pattern[q]:\n",
    "                q += 1\n",
    "            if (q == len_pattern):\n",
    "                stop = time.time()\n",
    "                print('Поиск подстроки KMP алгоритмом - {:f} секунд'.format(stop - start))\n",
    "                return i - len_pattern + 1\n",
    "        stop = time.time()\n",
    "        print('Поиск подстроки KMP алгоритмом- {:f} секунд'.format(stop - start))\n",
    "        return -1\n",
    "    \n",
    "    def compute_pi_slow(self, pattern):\n",
    "        n = len(pattern)\n",
    "        pi = np.zeros(n, dtype='int')\n",
    "        for i in range(n):\n",
    "            for q in range(i + 1):\n",
    "                if (left(pattern, q) == right(left(pattern, i + 1), q)):\n",
    "                    pi[i] = q\n",
    "        return pi\n",
    "    \n",
    "    def compute_pi_fast(self, pattern):\n",
    "        n = len(pattern)\n",
    "        pi = np.zeros(n, dtype='int')\n",
    "        for i in range(1, n):\n",
    "            q = pi[i - 1]\n",
    "            while (q > 0) and (pattern[i] != pattern[q]):\n",
    "                q = pi[q - 1]\n",
    "            if pattern[i] == pattern[q]:\n",
    "                q += 1\n",
    "            pi[i] = q     \n",
    "        return pi"
   ]
  },
  {
   "cell_type": "code",
   "execution_count": 17,
   "metadata": {},
   "outputs": [
    {
     "name": "stdout",
     "output_type": "stream",
     "text": [
      "Создание pi таблицы - 0.542060 секунд\n",
      "Поиск подстроки KMP алгоритмом - 0.486184 секунд\n",
      "1378324\n"
     ]
    }
   ],
   "source": [
    "auto = Auto()\n",
    "with open(file, 'r') as f:\n",
    "    print(auto.search(f.read(), pattern))\n"
   ]
  },
  {
   "cell_type": "code",
   "execution_count": 24,
   "metadata": {},
   "outputs": [
    {
     "name": "stdout",
     "output_type": "stream",
     "text": [
      "Создание таблицы префиксов и таблицы суффиксов для алгоритма Бойера-Мура 0.008250 секунд\n"
     ]
    }
   ],
   "source": [
    "start = time.time()\n",
    "create_prefix(pattern)\n",
    "create_suffix(pattern)\n",
    "stop = time.time()\n",
    "print('Создание таблицы префиксов и таблицы суффиксов для алгоритма Бойера-Мура {:f} секунд'.format(stop - start))"
   ]
  },
  {
   "cell_type": "markdown",
   "metadata": {},
   "source": [
    "### Ангийский текст"
   ]
  },
  {
   "cell_type": "code",
   "execution_count": 25,
   "metadata": {},
   "outputs": [],
   "source": [
    "file = 'Pride_and_Prejudice.txt'\n",
    "pattern = 'This Web site includes'"
   ]
  },
  {
   "cell_type": "code",
   "execution_count": 26,
   "metadata": {},
   "outputs": [
    {
     "name": "stdout",
     "output_type": "stream",
     "text": [
      "Создание pi таблицы - 0.280967 секунд\n",
      "Поиск подстроки KMP алгоритмом - 0.250247 секунд\n",
      "775483\n"
     ]
    }
   ],
   "source": [
    "auto = Auto()\n",
    "with open(file, 'r') as f:\n",
    "    print(auto.search(f.read(), pattern))\n",
    "    stop = time.time()\n"
   ]
  },
  {
   "cell_type": "code",
   "execution_count": 27,
   "metadata": {},
   "outputs": [
    {
     "name": "stdout",
     "output_type": "stream",
     "text": [
      "775483\n",
      "0.079744 секунд\n"
     ]
    }
   ],
   "source": [
    "with open(file, 'r') as f:\n",
    "    start = time.time()\n",
    "    print(boyer_moore(f.read(), pattern))\n",
    "    stop = time.time()\n",
    "    print('{:f} секунд'.format(stop - start))"
   ]
  },
  {
   "cell_type": "code",
   "execution_count": null,
   "metadata": {},
   "outputs": [],
   "source": []
  },
  {
   "cell_type": "code",
   "execution_count": null,
   "metadata": {},
   "outputs": [],
   "source": []
  }
 ],
 "metadata": {
  "kernelspec": {
   "display_name": "Python 3",
   "language": "python",
   "name": "python3"
  },
  "language_info": {
   "codemirror_mode": {
    "name": "ipython",
    "version": 3
   },
   "file_extension": ".py",
   "mimetype": "text/x-python",
   "name": "python",
   "nbconvert_exporter": "python",
   "pygments_lexer": "ipython3",
   "version": "3.7.3"
  }
 },
 "nbformat": 4,
 "nbformat_minor": 2
}
