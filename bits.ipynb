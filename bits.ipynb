{
 "cells": [
  {
   "cell_type": "code",
   "execution_count": 1,
   "metadata": {},
   "outputs": [],
   "source": [
    "import os\n",
    "import time\n",
    "import numpy as np\n",
    "np.set_printoptions(suppress=True)"
   ]
  },
  {
   "cell_type": "code",
   "execution_count": 2,
   "metadata": {},
   "outputs": [],
   "source": [
    "def test(path, function):\n",
    "    if not os.path.exists(path):\n",
    "        print(\"папка не существует\")\n",
    "        return\n",
    "    \n",
    "    list_file = os.listdir(path)\n",
    "    if list_file:\n",
    "        in_f = [file.replace('.in', '') for file in list_file if file.endswith('.in')]\n",
    "    else:\n",
    "        print(\"Папка пустая\")\n",
    "    \n",
    "    for item in in_f:        \n",
    "        with open(os.path.join(path, item + '.in')) as file_in:\n",
    "            start = time.time()\n",
    "            result = function(file_in.read().strip())\n",
    "            stop = time.time()\n",
    "            with open(os.path.join(path, item + '.out')) as file_out:\n",
    "                answer = file_out.read().strip()\n",
    "                if str(result) == answer:\n",
    "                    print(item, '--->  0', ', Время выполнения: {:f}'.format(stop - start) )\n",
    "                else:\n",
    "                    print(item, '--->  1')\n",
    "        \n",
    "    \n",
    "        "
   ]
  },
  {
   "cell_type": "code",
   "execution_count": 3,
   "metadata": {},
   "outputs": [],
   "source": [
    "# task 1"
   ]
  },
  {
   "cell_type": "code",
   "execution_count": 4,
   "metadata": {},
   "outputs": [],
   "source": [
    "def king(x):\n",
    "    k = np.uint64(1) << np.uint64(x)\n",
    "    nA = np.uint64(0xFEFEFEFEFEFEFEFE)\n",
    "    nH = np.uint64(0x7F7F7F7F7F7F7F7F)\n",
    "\n",
    "    p7 =  (k & nA) << np.uint64(7)\n",
    "    p8 = k << np.uint64(8)\n",
    "    p9 = (k & nH) << np.uint64(9)\n",
    "    p4 = (k & nA) >> np.uint64(1)\n",
    "    p6 = (k & nH) << np.uint64(1)\n",
    "    p1 = (k & nA) >> np.uint64(9)\n",
    "    p2 = k >> np.uint64(8)\n",
    "    p3 = (k & nH) >> np.uint64(7)  \n",
    "\n",
    "    mask = (p7 | p8 | p9 |\n",
    "           p4 |      p6 |\n",
    "           p1 | p2 | p3 )\n",
    "    temp = mask\n",
    "\n",
    "    count = 0\n",
    "    while(mask > 0):    \n",
    "        count += 1\n",
    "        mask &= mask - np.uint64(1)   \n",
    "    return str(count) +'\\n' + str(temp)"
   ]
  },
  {
   "cell_type": "code",
   "execution_count": 5,
   "metadata": {},
   "outputs": [
    {
     "name": "stdout",
     "output_type": "stream",
     "text": [
      "test.6 --->  0 , Время выполнения: 0.000111\n",
      "test.5 --->  0 , Время выполнения: 0.000069\n",
      "test.9 --->  0 , Время выполнения: 0.000055\n",
      "test.3 --->  0 , Время выполнения: 0.000065\n",
      "test.8 --->  0 , Время выполнения: 0.000059\n",
      "test.7 --->  0 , Время выполнения: 0.000044\n",
      "test.4 --->  0 , Время выполнения: 0.000043\n",
      "test.1 --->  0 , Время выполнения: 0.000221\n",
      "test.0 --->  0 , Время выполнения: 0.000089\n",
      "test.2 --->  0 , Время выполнения: 0.000031\n"
     ]
    }
   ],
   "source": [
    "path = './0.BITS/1.Bitboard - Король'\n",
    "test(path, king)"
   ]
  },
  {
   "cell_type": "code",
   "execution_count": 6,
   "metadata": {},
   "outputs": [],
   "source": [
    "# task 2"
   ]
  },
  {
   "cell_type": "code",
   "execution_count": 7,
   "metadata": {},
   "outputs": [],
   "source": [
    "def knight(x):\n",
    "#     x = 63\n",
    "    k = np.uint64(1) << np.uint64(x)\n",
    "    nA = np.uint64(0xFEFEFEFEFEFEFEFE)\n",
    "    nAA = np.uint64(0xFCFCFCFCFCFCFCFC)\n",
    "    \n",
    "    nH = np.uint64(0x7F7F7F7F7F7F7F7F)\n",
    "    nHH = np.uint64(0x3F3F3F3F3F3F3F3F)\n",
    "\n",
    "    p7 = (k & nH) << np.uint64(17)\n",
    "    p8 = (k & nA) << np.uint64(15)\n",
    "    p9 = (k & nHH) << np.uint64(10)\n",
    "    p4 = (k & nAA) << np.uint64(6)\n",
    "    p6 = (k & nHH) >> np.uint64(6)\n",
    "    p1 = (k & nAA) >> np.uint64(10)\n",
    "    p2 = (k & nH) >> np.uint64(15)\n",
    "    p3 = (k & nA) >> np.uint64(17)  \n",
    "\n",
    "    mask = (p4 | p8 | p7 | p9 |   \n",
    "            p1 | p3 | p2 | p6 )\n",
    "    temp = mask\n",
    "\n",
    "    count = 0\n",
    "    while(mask > 0):    \n",
    "        count += 1\n",
    "        mask &= mask - np.uint64(1)   \n",
    "    return str(count) +'\\n' + str(temp)"
   ]
  },
  {
   "cell_type": "code",
   "execution_count": 9,
   "metadata": {},
   "outputs": [
    {
     "name": "stdout",
     "output_type": "stream",
     "text": [
      "test.6 --->  0 , Время выполнения: 0.000069\n",
      "test.5 --->  0 , Время выполнения: 0.000060\n",
      "test.9 --->  0 , Время выполнения: 0.000040\n",
      "test.3 --->  0 , Время выполнения: 0.000086\n",
      "test.8 --->  0 , Время выполнения: 0.000043\n",
      "test.7 --->  0 , Время выполнения: 0.000036\n",
      "test.4 --->  0 , Время выполнения: 0.000036\n",
      "test.1 --->  0 , Время выполнения: 0.000032\n",
      "test.0 --->  0 , Время выполнения: 0.000118\n",
      "test.2 --->  0 , Время выполнения: 0.000034\n"
     ]
    }
   ],
   "source": [
    "path = './0.BITS/2.Bitboard - Конь'\n",
    "test(path, knight)"
   ]
  },
  {
   "cell_type": "code",
   "execution_count": 10,
   "metadata": {},
   "outputs": [],
   "source": [
    "# task 3"
   ]
  },
  {
   "cell_type": "code",
   "execution_count": 11,
   "metadata": {},
   "outputs": [],
   "source": [
    "def parse_FEN(string):\n",
    "    piece = { 'P': np.uint64(0), \n",
    "      'N': np.uint64(0),\n",
    "      'B': np.uint64(0), \n",
    "      'R': np.uint64(0), \n",
    "      'Q': np.uint64(0), \n",
    "      'K': np.uint64(0), \n",
    "      'p': np.uint64(0), \n",
    "      'n': np.uint64(0), \n",
    "      'b': np.uint64(0), \n",
    "      'r': np.uint64(0), \n",
    "      'q': np.uint64(0), \n",
    "      'k': np.uint64(0) }\n",
    "    \n",
    "    temp = ''.join(reversed(string.strip().split('/')))\n",
    "    \n",
    "    ind = np.uint64(0)\n",
    "    for item in temp:\n",
    "        if item.isdigit():\n",
    "            ind += np.uint64(item)\n",
    "            continue\n",
    "        piece[item] |= np.uint64(1) << np.uint64(ind)\n",
    "        ind += np.uint64(1)\n",
    "    answer = ''\n",
    "    for item in piece.values():\n",
    "        if answer:\n",
    "            answer += '\\n'\n",
    "        answer= ''.join( [answer, str(item)])\n",
    "    return answer\n",
    "    \n",
    "    "
   ]
  },
  {
   "cell_type": "code",
   "execution_count": 13,
   "metadata": {},
   "outputs": [
    {
     "name": "stdout",
     "output_type": "stream",
     "text": [
      "test.6 --->  0 , Время выполнения: 0.000154\n",
      "test.5 --->  0 , Время выполнения: 0.000118\n",
      "test.9 --->  0 , Время выполнения: 0.000144\n",
      "test.3 --->  0 , Время выполнения: 0.000093\n",
      "test.8 --->  0 , Время выполнения: 0.000054\n",
      "test.7 --->  0 , Время выполнения: 0.000043\n",
      "test.4 --->  0 , Время выполнения: 0.000096\n",
      "test.1 --->  0 , Время выполнения: 0.000054\n",
      "test.0 --->  0 , Время выполнения: 0.000037\n",
      "test.2 --->  0 , Время выполнения: 0.000051\n"
     ]
    }
   ],
   "source": [
    "path = './0.BITS/3.Bitboard - FEN'\n",
    "test(path, parse_FEN)"
   ]
  },
  {
   "cell_type": "code",
   "execution_count": 14,
   "metadata": {},
   "outputs": [],
   "source": [
    "# task 4"
   ]
  },
  {
   "cell_type": "code",
   "execution_count": 15,
   "metadata": {},
   "outputs": [],
   "source": [
    "def parse_piece(string):\n",
    "    piece = { 'P': np.uint64(0), \n",
    "      'N': np.uint64(0),\n",
    "      'B': np.uint64(0), \n",
    "      'R': np.uint64(0), \n",
    "      'Q': np.uint64(0), \n",
    "      'K': np.uint64(0), \n",
    "      'p': np.uint64(0), \n",
    "      'n': np.uint64(0), \n",
    "      'b': np.uint64(0), \n",
    "      'r': np.uint64(0), \n",
    "      'q': np.uint64(0), \n",
    "      'k': np.uint64(0) }\n",
    "    \n",
    "    temp = ''.join(reversed(string.strip().split('/')))    \n",
    "    ind = np.uint64(0)\n",
    "    for item in temp:\n",
    "        if item.isdigit():\n",
    "            ind += np.uint64(item)\n",
    "            continue\n",
    "        piece[item] |= np.uint64(1) << np.uint64(ind)\n",
    "        ind += np.uint64(1)\n",
    "\n",
    "    return piece"
   ]
  },
  {
   "cell_type": "code",
   "execution_count": 16,
   "metadata": {},
   "outputs": [],
   "source": [
    "def left_top(k, white_mask, black_mask):\n",
    "    nA = np.uint64(0xFEFEFEFEFEFEFEFE)\n",
    "    left_top = np.uint64(0)\n",
    "    temp = k\n",
    "    while True:\n",
    "        temp = (temp & nA) << np.uint64(7)\n",
    "        if not temp:\n",
    "            break\n",
    "        if white_mask & temp:\n",
    "            break\n",
    "        if black_mask & temp:\n",
    "            left_top |= temp\n",
    "            break        \n",
    "        left_top |= temp\n",
    "    return left_top\n"
   ]
  },
  {
   "cell_type": "code",
   "execution_count": 17,
   "metadata": {},
   "outputs": [],
   "source": [
    "def left_bottom(k, white_mask, black_mask):\n",
    "    nA = np.uint64(0xFEFEFEFEFEFEFEFE)\n",
    "    left_bottom = np.uint64(0)\n",
    "    temp = k\n",
    "    while True:\n",
    "        temp = (temp & nA) >> np.uint64(9)\n",
    "        if not temp:\n",
    "            break\n",
    "        if white_mask & temp:\n",
    "            break\n",
    "        if black_mask & temp:\n",
    "            left_bottom |= temp\n",
    "            break        \n",
    "        left_bottom |= temp\n",
    "    return left_bottom \n"
   ]
  },
  {
   "cell_type": "code",
   "execution_count": 18,
   "metadata": {},
   "outputs": [],
   "source": [
    "def right_top(k, white_mask, black_mask):\n",
    "    nH = np.uint64(0x7F7F7F7F7F7F7F7F)\n",
    "    right_top = np.uint64(0)\n",
    "    temp = k\n",
    "    while True:\n",
    "        temp = (temp & nH) << np.uint64(9)\n",
    "        if not temp:\n",
    "            break\n",
    "        if white_mask & temp:\n",
    "            break\n",
    "        if black_mask & temp:\n",
    "            right_top |= temp\n",
    "            break        \n",
    "        right_top |= temp\n",
    "    return right_top \n"
   ]
  },
  {
   "cell_type": "code",
   "execution_count": 19,
   "metadata": {},
   "outputs": [],
   "source": [
    "def right_bottom(k, white_mask, black_mask):\n",
    "    nH = np.uint64(0x7F7F7F7F7F7F7F7F)\n",
    "    right_bottom = np.uint64(0)\n",
    "    temp = k\n",
    "    while True:\n",
    "        temp = (temp & nH) >> np.uint64(7)\n",
    "        if not temp:\n",
    "            break\n",
    "        if white_mask & temp:\n",
    "            break\n",
    "        if black_mask & temp:\n",
    "            right_bottom |= temp\n",
    "            break   \n",
    "        right_bottom |= temp\n",
    "    return right_bottom\n"
   ]
  },
  {
   "cell_type": "code",
   "execution_count": 20,
   "metadata": {},
   "outputs": [],
   "source": [
    "def bishop(k, white_mask, black_mask):\n",
    "    lt = left_top(k, white_mask, black_mask)\n",
    "    rt = right_top(k, white_mask, black_mask)\n",
    "    lb = left_bottom(k, white_mask, black_mask)\n",
    "    rb = right_bottom(k, white_mask, black_mask)\n",
    "    return lt | lb | rt | rb\n"
   ]
  },
  {
   "cell_type": "code",
   "execution_count": 21,
   "metadata": {},
   "outputs": [],
   "source": [
    "def left_line(k, white_mask, black_mask):\n",
    "    nA = np.uint64(0xFEFEFEFEFEFEFEFE)\n",
    "    left_line = np.uint64(0)\n",
    "    temp = k\n",
    "    while True:\n",
    "        temp = (temp & nA) >> np.uint64(1)\n",
    "        if not temp:\n",
    "            break\n",
    "        if white_mask & temp:\n",
    "            break\n",
    "        if black_mask & temp:\n",
    "            left_line |= temp\n",
    "            break        \n",
    "        left_line |= temp\n",
    "    return left_line\n"
   ]
  },
  {
   "cell_type": "code",
   "execution_count": 22,
   "metadata": {},
   "outputs": [],
   "source": [
    "def right_line(k, white_mask, black_mask):\n",
    "    nH = np.uint64(0x7F7F7F7F7F7F7F7F)\n",
    "    right_line = np.uint64(0)\n",
    "    temp = k\n",
    "    while True:\n",
    "        temp = (temp & nH) << np.uint64(1)\n",
    "        if not temp:\n",
    "            break\n",
    "        if white_mask & temp:\n",
    "            break\n",
    "        if black_mask & temp:\n",
    "            right_line |= temp\n",
    "            break        \n",
    "        right_line |= temp\n",
    "    return right_line\n"
   ]
  },
  {
   "cell_type": "code",
   "execution_count": 23,
   "metadata": {},
   "outputs": [],
   "source": [
    "def top_line(k, white_mask, black_mask):\n",
    "    top_line = np.uint64(0)\n",
    "    temp = k\n",
    "    while True:\n",
    "        temp = temp << np.uint64(8)\n",
    "        if not temp:\n",
    "            break\n",
    "        if white_mask & temp:\n",
    "            break\n",
    "        if black_mask & temp:\n",
    "            top_line |= temp\n",
    "            break        \n",
    "        top_line |= temp\n",
    "    return top_line\n"
   ]
  },
  {
   "cell_type": "code",
   "execution_count": 24,
   "metadata": {},
   "outputs": [],
   "source": [
    "def bottom_line(k, white_mask, black_mask):\n",
    "    bottom_line = np.uint64(0)\n",
    "    temp = k\n",
    "    while True:\n",
    "        temp = temp >> np.uint64(8)\n",
    "        if not temp:\n",
    "            break\n",
    "        if white_mask & temp:\n",
    "            break\n",
    "        if black_mask & temp:\n",
    "            bottom_line |= temp\n",
    "            break        \n",
    "        bottom_line |= temp\n",
    "    return bottom_line\n"
   ]
  },
  {
   "cell_type": "code",
   "execution_count": 25,
   "metadata": {},
   "outputs": [],
   "source": [
    "def rook(k, white_mask, black_mask):\n",
    "    ll = left_line(k, white_mask, black_mask)\n",
    "    rl = right_line(k, white_mask, black_mask)\n",
    "    tl = top_line(k, white_mask, black_mask)\n",
    "    bl = bottom_line(k, white_mask, black_mask)\n",
    "    return ll | rl | tl | bl\n"
   ]
  },
  {
   "cell_type": "code",
   "execution_count": 26,
   "metadata": {},
   "outputs": [],
   "source": [
    "def queen(k, white_mask, black_mask):\n",
    "    ll = left_line(k, white_mask, black_mask)\n",
    "    rl = right_line(k, white_mask, black_mask)\n",
    "    tl = top_line(k, white_mask, black_mask)\n",
    "    bl = bottom_line(k, white_mask, black_mask)\n",
    "    lt = left_top(k, white_mask, black_mask)\n",
    "    rt = right_top(k, white_mask, black_mask)\n",
    "    lb = left_bottom(k, white_mask, black_mask)\n",
    "    rb = right_bottom(k, white_mask, black_mask)\n",
    "    return ll | rl | tl | bl | lt | lb | rt | rb\n"
   ]
  },
  {
   "cell_type": "code",
   "execution_count": 27,
   "metadata": {},
   "outputs": [],
   "source": [
    "def white_q_r_b(string):\n",
    "    piece = parse_piece(string)\n",
    "    \n",
    "    white_mask = np.uint64(0)\n",
    "    black_mask = np.uint64(0)\n",
    "    for key, value in piece.items():\n",
    "        if key.istitle():\n",
    "            white_mask |= value\n",
    "        else:\n",
    "            black_mask |= value\n",
    "            \n",
    "    bishop_mask = bishop(piece['B'], white_mask, black_mask)\n",
    "    rook_mask = rook(piece['R'], white_mask, black_mask)\n",
    "    queen_mask = queen(piece['Q'], white_mask, black_mask)\n",
    "    \n",
    "    return str(rook_mask) + '\\n' + str(bishop_mask) + '\\n' + str(queen_mask)      \n",
    "    "
   ]
  },
  {
   "cell_type": "code",
   "execution_count": 28,
   "metadata": {},
   "outputs": [
    {
     "name": "stdout",
     "output_type": "stream",
     "text": [
      "test.6 --->  0 , Время выполнения: 0.000118\n",
      "test.5 --->  0 , Время выполнения: 0.000085\n",
      "test.9 --->  0 , Время выполнения: 0.000094\n",
      "test.3 --->  0 , Время выполнения: 0.000088\n",
      "test.8 --->  0 , Время выполнения: 0.000087\n",
      "test.7 --->  0 , Время выполнения: 0.000089\n",
      "test.4 --->  0 , Время выполнения: 0.000092\n",
      "test.1 --->  0 , Время выполнения: 0.000096\n",
      "test.0 --->  0 , Время выполнения: 0.000094\n",
      "test.2 --->  0 , Время выполнения: 0.000085\n"
     ]
    }
   ],
   "source": [
    "path = './0.BITS/4.Bitboard - Дальнобойщики'\n",
    "test(path, white_q_r_b)"
   ]
  },
  {
   "cell_type": "code",
   "execution_count": null,
   "metadata": {},
   "outputs": [],
   "source": []
  }
 ],
 "metadata": {
  "kernelspec": {
   "display_name": "Python 3",
   "language": "python",
   "name": "python3"
  },
  "language_info": {
   "codemirror_mode": {
    "name": "ipython",
    "version": 3
   },
   "file_extension": ".py",
   "mimetype": "text/x-python",
   "name": "python",
   "nbconvert_exporter": "python",
   "pygments_lexer": "ipython3",
   "version": "3.7.3"
  }
 },
 "nbformat": 4,
 "nbformat_minor": 2
}
