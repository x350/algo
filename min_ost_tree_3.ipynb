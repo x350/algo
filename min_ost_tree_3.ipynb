{
 "cells": [
  {
   "cell_type": "code",
   "execution_count": 18,
   "metadata": {},
   "outputs": [],
   "source": [
    "import numpy as np\n",
    "from random import randint"
   ]
  },
  {
   "cell_type": "code",
   "execution_count": 2,
   "metadata": {},
   "outputs": [],
   "source": [
    "# граф"
   ]
  },
  {
   "cell_type": "code",
   "execution_count": 3,
   "metadata": {},
   "outputs": [],
   "source": [
    "class Node:\n",
    "    def __init__(self, key):\n",
    "        self.key = key\n",
    "        self.edges = None\n",
    "        self.next = None\n",
    "        self.color = 'white' \n",
    "        \n",
    "    def __repr__(self):\n",
    "        return f'Node \"{self.key}\"'\n",
    "    \n",
    "    def __iter__(self):\n",
    "        item = self.edges\n",
    "        while item is not None:\n",
    "            yield item\n",
    "            item = item.next\n",
    "            \n",
    "    def get_edges(self):\n",
    "        return [item for item in self]\n",
    "    \n",
    "        \n",
    "class Edge:\n",
    "    def __init__(self, node_in, weight=None, key=None):\n",
    "        self.next = None\n",
    "        self.node_in = node_in\n",
    "        self.weight = weight\n",
    "        self.key = key\n",
    "        \n",
    "    def __repr__(self):\n",
    "        return f'Edge \"key-{self.key}, weight-{self.weight}, to-{self.node_in}\"'\n",
    "        \n",
    "class Graph:\n",
    "    def __init__(self, node=None, adges=Node):\n",
    "        self.head_node = node\n",
    "        \n",
    "    def __iter__(self):\n",
    "        item = self.head_node\n",
    "        while item is not None:\n",
    "            yield item\n",
    "            item = item.next\n",
    "            \n",
    "    def add_node(self, node):\n",
    "        if self.head_node is None:\n",
    "            self.head_node = node\n",
    "            return\n",
    "        last_node = self.head_node\n",
    "        while last_node.next:\n",
    "            last_node = last_node.next\n",
    "        last_node.next = node\n",
    "    \n",
    "    \n",
    "    def search_node(self, key):\n",
    "        if self.head_node is None:\n",
    "            return\n",
    "        next_node = self.head_node\n",
    "        if next_node.key == key:\n",
    "            return next_node\n",
    "        while next_node.next:\n",
    "            next_node = next_node.next\n",
    "            if next_node.key == key:\n",
    "                return next_node\n",
    "    \n",
    "    \n",
    "    def add_edge(self, node_key_out, node_key_in,  weight=None, key=None):\n",
    "        node_out = self.search_node(node_key_out)\n",
    "        node_in = self.search_node(node_key_in)\n",
    "        edge = Edge(node_in, weight, key)\n",
    "        if not node_out or not node_in:\n",
    "            print('Не найдена вершина')\n",
    "            return\n",
    "        if node_out.edges is None:\n",
    "            node_out.edges = edge\n",
    "            return\n",
    "        next_edge = node_out.edges\n",
    "        while next_edge.next:\n",
    "            next_edge = next_edge.next\n",
    "        next_edge.next = edge\n",
    "        \n",
    "    def remove_edge_out(self, node_key_out, node_key_in):\n",
    "        node_out = self.search_node(node_key_out)\n",
    "#         node_in = self.search_node(node_key_in)\n",
    "        if not node_out.edges:\n",
    "            return\n",
    "        next_edge = node_out.edges\n",
    "        if next_edge.node_in.key == node_key_in:\n",
    "            node_out.edges = next_edge.next\n",
    "            return\n",
    "        while next_edge.next:\n",
    "            if next_edge.next.node_in.key == node_key_in:\n",
    "                next_edge.next = next_edge.next.next\n",
    "                return\n",
    "            next_edge = next_edge.next\n",
    "            \n",
    "    def remove_node(self, node_key):\n",
    "        self.remove_edges_in(node_key)\n",
    "        \n",
    "        next_node = self.head_node\n",
    "        if next_node.key == node_key:\n",
    "            self.head_node = next_node.next\n",
    "            return\n",
    "        while next_node:\n",
    "            if next_node.next.key == node_key:\n",
    "                next_node.next = next_node.next.next\n",
    "            next_node = next_node.next\n",
    "        \n",
    "        \n",
    "    def del_edges(self, node, node_key_in):\n",
    "        if not node.edges:\n",
    "            return\n",
    "        edge = node.edges\n",
    "        if edge.node_in.key == node_key_in:\n",
    "            node.edges = edge.next\n",
    "        while edge.next:\n",
    "            if edge.next.node_in.key == node_key_in:\n",
    "                edge.next = edge.next.next\n",
    "                continue\n",
    "            edge = edge.next\n",
    "    \n",
    "    def remove_edges_in(self, node_key_in):\n",
    "        if not self.head_node:\n",
    "            return       \n",
    "        node = self.head_node\n",
    "        while node:\n",
    "            self.del_edges(node, node_key_in)            \n",
    "            node = node.next\n",
    "            \n",
    "    def get_adjacent_nodes(self, node):\n",
    "        return [item.node_in for item in node]\n",
    "    \n",
    "    def refresh_color(self):\n",
    "        for item in self:\n",
    "            item.color = 'white'\n",
    "            \n",
    "    def nodes_key_list(self):\n",
    "        return [item.key for item in self]\n",
    "    \n",
    "    def nodes_list(self):\n",
    "        return [item for item in self]\n",
    "    \n"
   ]
  },
  {
   "cell_type": "code",
   "execution_count": 4,
   "metadata": {},
   "outputs": [],
   "source": [
    "# очередь"
   ]
  },
  {
   "cell_type": "code",
   "execution_count": 5,
   "metadata": {},
   "outputs": [],
   "source": [
    "class Nod:\n",
    "    \n",
    "    def __init__(self, item, nextt=None):\n",
    "        self._item = item\n",
    "        self._nextt = nextt\n",
    "        \n",
    "    def get_item(self):\n",
    "        return self._item\n",
    "    \n",
    "    def get_next(self):\n",
    "        return self._nextt\n",
    "    \n",
    "    def set_next(self, nextt):\n",
    "        self._nextt = nextt\n",
    "        \n",
    "\n",
    "class Stack:\n",
    "    \n",
    "    def __init__(self, head=None):\n",
    "        self._head = head\n",
    "        \n",
    "    \n",
    "    def push(self, item):\n",
    "        self._head = Nod(item, self._head)\n",
    "        \n",
    "    def pop(self):\n",
    "        if (self.is_empty()):\n",
    "            return None\n",
    "        item = self._head.get_item()\n",
    "        self._head = self._head.get_next()\n",
    "        return item\n",
    "        \n",
    "    def is_empty(self):\n",
    "        return self._head == None\n",
    "    \n",
    "\n",
    "class Queue:\n",
    "    def __init__(self, head=None, tail=None):\n",
    "        self._head = head\n",
    "        self._tail = tail\n",
    "        \n",
    "    def is_empty(self):\n",
    "        return self._head  == None\n",
    "    \n",
    "    def get_head(self):\n",
    "        return self._head\n",
    "    \n",
    "    def enqueue(self, item):\n",
    "        node = Nod(item)\n",
    "        if self.is_empty():\n",
    "            self._head = self._tail = node\n",
    "        else:\n",
    "            self._tail.set_next(node)\n",
    "            self._tail = node\n",
    "            \n",
    "    def dequeue(self):\n",
    "        if self.is_empty():\n",
    "            return None\n",
    "        item = self._head.get_item()\n",
    "        self._head = self._head.get_next()\n",
    "        return item\n",
    "    \n",
    "    def contain(self, item):\n",
    "        node = self.get_head()\n",
    "        while node:\n",
    "            if node.get_item() == item:\n",
    "                return True\n",
    "            node = node.get_next()\n",
    "        return False"
   ]
  },
  {
   "cell_type": "code",
   "execution_count": 6,
   "metadata": {},
   "outputs": [],
   "source": [
    "def BFS(graph, node_key, goal):\n",
    "    queue = Queue()\n",
    "    visited = []\n",
    "    node = graph.search_node(node_key)\n",
    "    queue.enqueue(node)\n",
    "    while not queue.is_empty():\n",
    "        node = queue.dequeue()\n",
    "        # проверка и return True\n",
    "        if node.key == goal:\n",
    "            return True\n",
    "        visited.append(node)\n",
    "        adjacent_nodes = graph.get_adjacent_nodes(node)\n",
    "        for item in adjacent_nodes:\n",
    "            if (item not in visited) and (not queue.contain(item)):\n",
    "                queue.enqueue(item)\n",
    "    return False "
   ]
  },
  {
   "cell_type": "code",
   "execution_count": 7,
   "metadata": {},
   "outputs": [],
   "source": [
    "# граф из урока\n",
    "\n",
    "g = Graph()\n",
    "\n",
    "g.add_node(Node('A'))\n",
    "g.add_node(Node('B'))\n",
    "g.add_node(Node('C'))\n",
    "g.add_node(Node('D'))\n",
    "g.add_node(Node('E'))\n",
    "g.add_node(Node('F'))\n",
    "g.add_node(Node('G'))\n",
    "\n",
    "\n",
    "g.add_edge('A','B', 7)\n",
    "g.add_edge('A','D', 5)\n",
    "\n",
    "g.add_edge('B','A', 7)\n",
    "g.add_edge('B','C', 8)\n",
    "g.add_edge('B','D', 9)\n",
    "g.add_edge('B','E', 7)\n",
    "\n",
    "g.add_edge('C','E', 5)\n",
    "g.add_edge('C','B', 8)\n",
    "\n",
    "g.add_edge('D','B', 9)\n",
    "g.add_edge('D','A', 5)\n",
    "g.add_edge('D','E', 15)\n",
    "g.add_edge('D','F', 6)\n",
    "\n",
    "g.add_edge('E','B', 7)\n",
    "g.add_edge('E','C', 5)\n",
    "g.add_edge('E','D', 15)\n",
    "g.add_edge('E','F', 8)\n",
    "g.add_edge('E','G', 9)\n",
    "\n",
    "g.add_edge('F','D', 6)\n",
    "g.add_edge('F','G', 11)\n",
    "g.add_edge('F','E', 8)\n",
    "\n",
    "g.add_edge('G','E', 9)\n",
    "g.add_edge('G','F', 11)"
   ]
  },
  {
   "cell_type": "code",
   "execution_count": 8,
   "metadata": {},
   "outputs": [],
   "source": [
    "# sort\n",
    "def merge(A, left, center, right):\n",
    "    np.asarray(A)\n",
    "    S = np.array([0] * (right - left + 1), dtype='object')  \n",
    "    a = left\n",
    "    b = center + 1 \n",
    "    s = 0 \n",
    "    while(a <= center and b <= right):\n",
    "        if A[a][2] > A[b][2]:\n",
    "            S[s] = A[a]\n",
    "            a += 1\n",
    "            s += 1\n",
    "        else:\n",
    "            S[s] = A[b]\n",
    "            b += 1\n",
    "            s += 1\n",
    "    while(a <= center):\n",
    "        S[s] = A[a] \n",
    "        s += 1\n",
    "        a += 1\n",
    "    while(b <= right):\n",
    "        S[s] = A[b]\n",
    "        s += 1\n",
    "        b += 1\n",
    "    for item in range(left, right +1):\n",
    "        A[item] = S[item - left]\n",
    "        \n",
    "        \n",
    "def merge_sort(arr, left, right):\n",
    "    if(left >= right):\n",
    "        return\n",
    "    center = left + (right - left) // 2\n",
    "    \n",
    "    merge_sort(arr, left, center)\n",
    "    merge_sort(arr, center + 1, right)\n",
    "    merge(arr, left, center, right)"
   ]
  },
  {
   "cell_type": "markdown",
   "metadata": {},
   "source": [
    "## Алгоритм Краскала"
   ]
  },
  {
   "cell_type": "code",
   "execution_count": 9,
   "metadata": {},
   "outputs": [],
   "source": [
    "# можно обойтись и без удаления ребер, идущих в обратную сторону (AB, BA)\n",
    "# имеет смысл, если много ребер в графе\n",
    "# def clean_dupl_edges(edges):\n",
    "#     for item in edges:\n",
    "#         for j in edges:\n",
    "#             if (item[0] == j[1]) and (item[1] == j[0]):\n",
    "#                 edges.remove(j)\n",
    "#                 break"
   ]
  },
  {
   "cell_type": "code",
   "execution_count": 10,
   "metadata": {},
   "outputs": [],
   "source": [
    "def kruskal(graph):\n",
    "    nodes_list = graph.nodes_list()\n",
    "    nodes_key_list = graph.nodes_key_list()\n",
    "    edges = []\n",
    "    for node in nodes_list:\n",
    "        edges.extend([[node.key, edge.node_in.key, edge.weight] for edge in node])\n",
    "#     clean_dupl_edges(edges)  \n",
    "    merge_sort(edges, 0, len(edges) - 1)\n",
    "    \n",
    "    min_ost_g = Graph()\n",
    "    for key in nodes_key_list:\n",
    "        min_ost_g.add_node(Node(key))\n",
    "        \n",
    "    while nodes_key_list and edges:\n",
    "        edge = edges.pop()\n",
    "        if not BFS(min_ost_g, edge[0], edge[1]):\n",
    "            if edge[0] in nodes_key_list:\n",
    "                nodes_key_list.remove(edge[0])\n",
    "    #         if edge[1] in nodes_key_list:\n",
    "    #             nodes_key_list.remove(edge[1])        \n",
    "            min_ost_g.add_edge(*edge)\n",
    "    #         min_ost_g.add_edge(edge[1], edge[0], edge[2])\n",
    "    return min_ost_g\n",
    "    "
   ]
  },
  {
   "cell_type": "code",
   "execution_count": 11,
   "metadata": {},
   "outputs": [],
   "source": [
    "result = kruskal(g)"
   ]
  },
  {
   "cell_type": "code",
   "execution_count": 12,
   "metadata": {},
   "outputs": [],
   "source": [
    "def get_edges(graph):\n",
    "    nodes_list = graph.nodes_list()\n",
    "    edges = []\n",
    "    for node in nodes_list:\n",
    "        edges.extend([[node.key, edge.node_in.key, edge.weight] for edge in node])\n",
    "    return edges"
   ]
  },
  {
   "cell_type": "code",
   "execution_count": 13,
   "metadata": {},
   "outputs": [
    {
     "data": {
      "text/plain": [
       "[['A', 'D', 5],\n",
       " ['A', 'B', 7],\n",
       " ['B', 'A', 7],\n",
       " ['B', 'E', 7],\n",
       " ['C', 'E', 5],\n",
       " ['D', 'A', 5],\n",
       " ['D', 'F', 6],\n",
       " ['E', 'C', 5],\n",
       " ['E', 'B', 7],\n",
       " ['E', 'G', 9],\n",
       " ['F', 'D', 6],\n",
       " ['G', 'E', 9]]"
      ]
     },
     "execution_count": 13,
     "metadata": {},
     "output_type": "execute_result"
    }
   ],
   "source": [
    "edges = get_edges(result); edges"
   ]
  },
  {
   "cell_type": "code",
   "execution_count": 14,
   "metadata": {},
   "outputs": [],
   "source": [
    "def get_sum_cost(edges):\n",
    "    summ = 0\n",
    "    for item in edges:\n",
    "        summ += item[2]\n",
    "    return summ/2"
   ]
  },
  {
   "cell_type": "code",
   "execution_count": 15,
   "metadata": {},
   "outputs": [
    {
     "data": {
      "text/plain": [
       "39.0"
      ]
     },
     "execution_count": 15,
     "metadata": {},
     "output_type": "execute_result"
    }
   ],
   "source": [
    "get_sum_cost(edges)"
   ]
  },
  {
   "cell_type": "markdown",
   "metadata": {},
   "source": [
    "## Алгоритм Прима"
   ]
  },
  {
   "cell_type": "code",
   "execution_count": 19,
   "metadata": {},
   "outputs": [],
   "source": [
    "def prim(graph):\n",
    "    new_graph = Graph()   \n",
    "    nodes_list = graph.nodes_list()\n",
    "    nodes_key_list = graph.nodes_key_list()\n",
    "    visitid = []\n",
    "    node = nodes_list[randint(0, len(nodes_list) - 1)]\n",
    "\n",
    "    new_graph.add_node(Node(node.key))\n",
    "    visitid.append(node)\n",
    "    nodes_key_list.remove(node.key)\n",
    "    while nodes_key_list:\n",
    "        edges = []\n",
    "        for item in visitid:\n",
    "            edges.extend([[item.key, edge.node_in.key, edge.weight] for edge in item])\n",
    "            merge_sort(edges, 0, len(edges)-1)\n",
    "        while edges:\n",
    "            edge = edges.pop()\n",
    "            if edge[1] in nodes_key_list:\n",
    "                new_graph.add_node(Node(edge[1]))\n",
    "                nodes_key_list.remove(edge[1])\n",
    "                new_graph.add_edge(*edge)\n",
    "                new_graph.add_edge(edge[1], edge[0], edge[2])\n",
    "                visitid.append(graph.search_node(edge[1]))\n",
    "                break\n",
    "    return new_graph   "
   ]
  },
  {
   "cell_type": "code",
   "execution_count": 20,
   "metadata": {},
   "outputs": [
    {
     "data": {
      "text/plain": [
       "[['A', 'D', 5],\n",
       " ['A', 'B', 7],\n",
       " ['D', 'A', 5],\n",
       " ['D', 'F', 6],\n",
       " ['F', 'D', 6],\n",
       " ['B', 'A', 7],\n",
       " ['B', 'E', 7],\n",
       " ['E', 'B', 7],\n",
       " ['E', 'C', 5],\n",
       " ['E', 'G', 9],\n",
       " ['C', 'E', 5],\n",
       " ['G', 'E', 9]]"
      ]
     },
     "execution_count": 20,
     "metadata": {},
     "output_type": "execute_result"
    }
   ],
   "source": [
    "result = prim(g)\n",
    "edges = get_edges(result); edges"
   ]
  },
  {
   "cell_type": "code",
   "execution_count": 21,
   "metadata": {},
   "outputs": [
    {
     "data": {
      "text/plain": [
       "39.0"
      ]
     },
     "execution_count": 21,
     "metadata": {},
     "output_type": "execute_result"
    }
   ],
   "source": [
    "get_sum_cost(edges)"
   ]
  },
  {
   "cell_type": "code",
   "execution_count": null,
   "metadata": {},
   "outputs": [],
   "source": []
  }
 ],
 "metadata": {
  "kernelspec": {
   "display_name": "Python 3",
   "language": "python",
   "name": "python3"
  },
  "language_info": {
   "codemirror_mode": {
    "name": "ipython",
    "version": 3
   },
   "file_extension": ".py",
   "mimetype": "text/x-python",
   "name": "python",
   "nbconvert_exporter": "python",
   "pygments_lexer": "ipython3",
   "version": "3.7.3"
  }
 },
 "nbformat": 4,
 "nbformat_minor": 2
}
