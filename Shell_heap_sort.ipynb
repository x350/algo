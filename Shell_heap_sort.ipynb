{
 "cells": [
  {
   "cell_type": "markdown",
   "metadata": {},
   "source": [
    "# Сортировка Шелла"
   ]
  },
  {
   "cell_type": "code",
   "execution_count": 1,
   "metadata": {},
   "outputs": [],
   "source": [
    "def shell_sort(arr):\n",
    "    gap = len(arr)//2\n",
    "    while(gap > 0):\n",
    "        i = 0\n",
    "        while((i + gap) < len(arr)):\n",
    "            \n",
    "            j = i + gap\n",
    "            temp = arr[j]\n",
    "            while((j - gap >= 0) and (arr[j -gap] > temp)):\n",
    "                arr[j] = arr[j - gap]\n",
    "                j -= gap\n",
    "            arr[j] = temp  \n",
    "            \n",
    "            i += 1  \n",
    "        gap //= 2"
   ]
  },
  {
   "cell_type": "code",
   "execution_count": 2,
   "metadata": {},
   "outputs": [
    {
     "data": {
      "text/plain": [
       "[0, 1, 2, 3, 3, 3, 4, 5, 5, 6, 6, 8, 9, 9, 9, 10, 12, 14, 17]"
      ]
     },
     "execution_count": 2,
     "metadata": {},
     "output_type": "execute_result"
    }
   ],
   "source": [
    "a = [2, 5,1, 3, 10, 8, 5, 9, 0, 3, 6, 9, 17, 12, 14,  9, 6, 4, 3]\n",
    "shell_sort(a); a"
   ]
  },
  {
   "cell_type": "markdown",
   "metadata": {},
   "source": [
    "### Разные варианты шагов"
   ]
  },
  {
   "cell_type": "code",
   "execution_count": 3,
   "metadata": {},
   "outputs": [],
   "source": [
    "# shell\n",
    "def f_1(N):\n",
    "    mass = []\n",
    "    item = 1\n",
    "    element = 0\n",
    "    while True:        \n",
    "        element = N // 2 ** item\n",
    "        item += 1\n",
    "        if element >= 1:\n",
    "            mass.append(element)\n",
    "        else:\n",
    "            return (mass)"
   ]
  },
  {
   "cell_type": "code",
   "execution_count": 4,
   "metadata": {},
   "outputs": [
    {
     "data": {
      "text/plain": [
       "[50, 25, 12, 6, 3, 1]"
      ]
     },
     "execution_count": 4,
     "metadata": {},
     "output_type": "execute_result"
    }
   ],
   "source": [
    "# шаги\n",
    "f_1(100)"
   ]
  },
  {
   "cell_type": "code",
   "execution_count": 5,
   "metadata": {},
   "outputs": [],
   "source": [
    "#frank_lazarus\n",
    "def f_2(N):\n",
    "    mass = []\n",
    "    item = 1\n",
    "    element = 0\n",
    "    while True:        \n",
    "        element = 2 * (N // 2 ** (item + 1)) + 1\n",
    "        item += 1\n",
    "        if element > 1:\n",
    "            mass.append(element)\n",
    "        else:\n",
    "            mass.append(1)\n",
    "            return (mass)"
   ]
  },
  {
   "cell_type": "code",
   "execution_count": 6,
   "metadata": {},
   "outputs": [
    {
     "data": {
      "text/plain": [
       "[51, 25, 13, 7, 3, 1]"
      ]
     },
     "execution_count": 6,
     "metadata": {},
     "output_type": "execute_result"
    }
   ],
   "source": [
    "# шаги\n",
    "f_2(100)"
   ]
  },
  {
   "cell_type": "code",
   "execution_count": 7,
   "metadata": {},
   "outputs": [],
   "source": [
    "#hibbard\n",
    "def f_3(N):\n",
    "    mass = []\n",
    "    item = 1\n",
    "    element = 0\n",
    "    while True:        \n",
    "        element = 2 ** item - 1\n",
    "        item += 1\n",
    "        if element < N:\n",
    "            mass.append(element)\n",
    "        else:\n",
    "            return list(reversed(mass))"
   ]
  },
  {
   "cell_type": "code",
   "execution_count": 8,
   "metadata": {},
   "outputs": [
    {
     "data": {
      "text/plain": [
       "[63, 31, 15, 7, 3, 1]"
      ]
     },
     "execution_count": 8,
     "metadata": {},
     "output_type": "execute_result"
    }
   ],
   "source": [
    "# шаги\n",
    "f_3(100)"
   ]
  },
  {
   "cell_type": "code",
   "execution_count": 9,
   "metadata": {},
   "outputs": [],
   "source": [
    "#papernov_stasevich\n",
    "def f_4(N):\n",
    "    mass = [1]\n",
    "    item = 1\n",
    "    element = 0\n",
    "    while True:        \n",
    "        element = 2 ** item + 1\n",
    "        item += 1\n",
    "        if element < N:\n",
    "            mass.append(element)\n",
    "        else:\n",
    "            return list(reversed(mass))"
   ]
  },
  {
   "cell_type": "code",
   "execution_count": 10,
   "metadata": {},
   "outputs": [
    {
     "data": {
      "text/plain": [
       "[65, 33, 17, 9, 5, 3, 1]"
      ]
     },
     "execution_count": 10,
     "metadata": {},
     "output_type": "execute_result"
    }
   ],
   "source": [
    "# шаги\n",
    "f_4(100)"
   ]
  },
  {
   "cell_type": "code",
   "execution_count": 11,
   "metadata": {},
   "outputs": [],
   "source": [
    "# sedgewick_82\n",
    "def f_5(N):\n",
    "    mass = [1]\n",
    "    k = 1\n",
    "    element = 0\n",
    "    while True:        \n",
    "        element = 4 ** k + 3 * 2**(k -1) + 1\n",
    "        k += 1\n",
    "        if element < N:\n",
    "            mass.append(element)\n",
    "        else:\n",
    "            return list(reversed(mass))"
   ]
  },
  {
   "cell_type": "code",
   "execution_count": 12,
   "metadata": {},
   "outputs": [
    {
     "data": {
      "text/plain": [
       "[77, 23, 8, 1]"
      ]
     },
     "execution_count": 12,
     "metadata": {},
     "output_type": "execute_result"
    }
   ],
   "source": [
    "# шаги\n",
    "f_5(100)"
   ]
  },
  {
   "cell_type": "code",
   "execution_count": 13,
   "metadata": {},
   "outputs": [],
   "source": [
    "# sedgewick_86\n",
    "def f_6(N):\n",
    "    mass = []\n",
    "    k = 0\n",
    "    element = 0\n",
    "    while True:        \n",
    "        if k % 2:\n",
    "            element = 8 * 2 ** k - 6 * 2 ** ((k + 1)/2) + 1\n",
    "        else:\n",
    "            element = 9 * ( 2 ** k  - 2 ** (k / 2)) + 1\n",
    "        k += 1\n",
    "        if element < N:\n",
    "            mass.append(int(element))\n",
    "        else:\n",
    "            return list(reversed(mass))"
   ]
  },
  {
   "cell_type": "code",
   "execution_count": 14,
   "metadata": {},
   "outputs": [
    {
     "data": {
      "text/plain": [
       "[41, 19, 5, 1]"
      ]
     },
     "execution_count": 14,
     "metadata": {},
     "output_type": "execute_result"
    }
   ],
   "source": [
    "# шаги\n",
    "f_6(100)"
   ]
  },
  {
   "cell_type": "code",
   "execution_count": 15,
   "metadata": {},
   "outputs": [],
   "source": [
    "# tokuda_92\n",
    "import math\n",
    "def f_7(N):\n",
    "    mass = []\n",
    "    k = 0\n",
    "    element = 0\n",
    "    while True:  \n",
    "        element = math.ceil(1 / 5 *(9 *((9/4) ** (k - 1) )- 4))\n",
    "        k += 1\n",
    "        if element < N:\n",
    "            mass.append(element)\n",
    "        else:\n",
    "            return list(reversed(mass))"
   ]
  },
  {
   "cell_type": "code",
   "execution_count": 16,
   "metadata": {},
   "outputs": [
    {
     "data": {
      "text/plain": [
       "[46, 20, 9, 4, 1, 0]"
      ]
     },
     "execution_count": 16,
     "metadata": {},
     "output_type": "execute_result"
    }
   ],
   "source": [
    "# шаги\n",
    "f_7(100)"
   ]
  },
  {
   "cell_type": "markdown",
   "metadata": {},
   "source": [
    "### shell_sort 2,  для разных вариантов шагов "
   ]
  },
  {
   "cell_type": "code",
   "execution_count": 17,
   "metadata": {},
   "outputs": [],
   "source": [
    "def shell_sort_2(arr, f):\n",
    "    k = 0\n",
    "    gaps = f(len(arr))\n",
    "    for gap in gaps:   \n",
    "        i = 0\n",
    "        while((i + gap) < len(arr)):\n",
    "            j = i + gap\n",
    "            temp = arr[j]\n",
    "            while((j - gap >= 0) and (arr[j -gap] > temp)):\n",
    "                arr[j] = arr[j - gap]\n",
    "                j -= gap\n",
    "            arr[j] = temp          \n",
    "            i += 1  \n",
    "        k += 1\n",
    "        if gap == 1:\n",
    "            return"
   ]
  },
  {
   "cell_type": "code",
   "execution_count": 18,
   "metadata": {},
   "outputs": [],
   "source": [
    "import random\n",
    "import time\n",
    "\n",
    "methods = {'shell': f_1, 'frank_lazarus': f_2, 'hibbard': f_3, 'papernov_stasevich': f_4, 'sedgewick_82': f_5, 'sedgewick_86': f_6, 'tokuda_92': f_7}\n",
    "\n",
    "def timing_sort(fun, method_gap, count):\n",
    "    a = [random.randint(1, count) for _ in range(count)]\n",
    "    start = time.time()\n",
    "    fun(a, method_gap)        \n",
    "    stop = time.time()\n",
    "    return stop - start"
   ]
  },
  {
   "cell_type": "code",
   "execution_count": 19,
   "metadata": {},
   "outputs": [
    {
     "name": "stdout",
     "output_type": "stream",
     "text": [
      "shell - 0.05235433578491211\n",
      "frank_lazarus - 0.05019426345825195\n",
      "hibbard - 0.04788994789123535\n",
      "papernov_stasevich - 0.047428131103515625\n",
      "sedgewick_82 - 0.04062223434448242\n",
      "sedgewick_86 - 0.0377810001373291\n",
      "tokuda_92 - 0.03994464874267578\n"
     ]
    }
   ],
   "source": [
    "count = 10000\n",
    "for name, item in methods.items():\n",
    "    print('{} - {}'.format(name, timing_sort(shell_sort_2, item, count)))"
   ]
  },
  {
   "cell_type": "markdown",
   "metadata": {},
   "source": [
    "# Heap sort"
   ]
  },
  {
   "cell_type": "code",
   "execution_count": 20,
   "metadata": {},
   "outputs": [],
   "source": [
    "def heap_sort(arr):\n",
    "    \n",
    "    def down_max(size, root):  \n",
    "        #size - до какого значения массива искать, root - корневой элемент, куда помещать max\n",
    "        # 1. найти индексы дочерних узлов\n",
    "        left = root * 2 + 1\n",
    "        right = left + 1\n",
    "        # 2. найти максимум из 3-ч элементов\n",
    "        # сравнением - неправильно, правильно так:\n",
    "        x = root;\n",
    "        if (left < size and arr[left] > arr[x]): \n",
    "            x = left\n",
    "        if (right < size and arr[right] > arr[x]):\n",
    "            x = right\n",
    "        # 2. условие выхода из рекурсии\n",
    "        if (x == root):\n",
    "            return\n",
    "        swap(root, x)\n",
    "        # 3. хвостовая рекурсия\n",
    "        down_max(size, x)    \n",
    "            \n",
    "    def swap(a, b):\n",
    "        x = arr[a]\n",
    "        arr[a] = arr[b]\n",
    "        arr[b] = x\n",
    "    \n",
    "    # строится пирамида\n",
    "    for j in range(len(arr)// 2 -1, -1, -1):\n",
    "        down_max(len(arr), j)\n",
    "\n",
    "#     сортировка\n",
    "    for j in range(len(arr) - 1, -1, -1):\n",
    "        swap(0, j)\n",
    "        down_max(j, 0)\n"
   ]
  },
  {
   "cell_type": "code",
   "execution_count": 21,
   "metadata": {},
   "outputs": [
    {
     "data": {
      "text/plain": [
       "[0, 1, 2, 3, 4, 5, 6, 7, 8, 9]"
      ]
     },
     "execution_count": 21,
     "metadata": {},
     "output_type": "execute_result"
    }
   ],
   "source": [
    "arr = [5, 7, 2, 4, 3, 9, 1, 0, 6, 8]\n",
    "heap_sort(arr); arr"
   ]
  },
  {
   "cell_type": "code",
   "execution_count": 22,
   "metadata": {},
   "outputs": [
    {
     "name": "stdout",
     "output_type": "stream",
     "text": [
      "heap sort - 0.0479435920715332\n"
     ]
    }
   ],
   "source": [
    "count = 10000\n",
    "a = [random.randint(1, count) for _ in range(count)]\n",
    "def timing_heap_sort(arr, count):    \n",
    "    start = time.time()\n",
    "    heap_sort(arr)        \n",
    "    stop = time.time()\n",
    "    return stop - start\n",
    "\n",
    "print(f'heap sort - {timing_heap_sort(a, count)}')"
   ]
  },
  {
   "cell_type": "markdown",
   "metadata": {},
   "source": [
    "# Сравнение"
   ]
  },
  {
   "cell_type": "markdown",
   "metadata": {},
   "source": [
    "## неупорядоченный массив"
   ]
  },
  {
   "cell_type": "code",
   "execution_count": 23,
   "metadata": {},
   "outputs": [
    {
     "name": "stdout",
     "output_type": "stream",
     "text": [
      "shell - 48.23121953010559\n",
      "frank_lazarus - 45.62229681015015\n",
      "hibbard - 47.09343504905701\n",
      "papernov_stasevich - 48.36067080497742\n",
      "sedgewick_82 - 27.36347246170044\n",
      "sedgewick_86 - 26.393757104873657\n",
      "tokuda_92 - 25.789480686187744\n"
     ]
    }
   ],
   "source": [
    "count = 3000000\n",
    "for name, item in methods.items():\n",
    "    print('{} - {}'.format(name, timing_sort(shell_sort_2, item, count)))"
   ]
  },
  {
   "cell_type": "code",
   "execution_count": 24,
   "metadata": {},
   "outputs": [
    {
     "name": "stdout",
     "output_type": "stream",
     "text": [
      "heap sort - 26.67309546470642\n"
     ]
    }
   ],
   "source": [
    "count = 3000000\n",
    "a = [random.randint(1, count) for _ in range(count)]\n",
    "print(f'heap sort - {timing_heap_sort(a, count)}')"
   ]
  },
  {
   "cell_type": "markdown",
   "metadata": {},
   "source": [
    "# почти упорядоченный массив (5% перемешанно)"
   ]
  },
  {
   "cell_type": "markdown",
   "metadata": {},
   "source": [
    "### shall sort почти отсортированного массива"
   ]
  },
  {
   "cell_type": "code",
   "execution_count": 25,
   "metadata": {},
   "outputs": [],
   "source": [
    "def make_almost_ordered_array(count, part):\n",
    "    array = list(range(count))\n",
    "    for item in range(int(count * part/2)):\n",
    "        one = random.randint(0, count-1)\n",
    "        two = random.randint(0, count-1)\n",
    "        array[one], array[two] = array[two], array[one]\n",
    "    return array"
   ]
  },
  {
   "cell_type": "code",
   "execution_count": 26,
   "metadata": {},
   "outputs": [
    {
     "data": {
      "text/plain": [
       "[0, 1, 2, 4, 3, 5, 6, 8, 7, 9]"
      ]
     },
     "execution_count": 26,
     "metadata": {},
     "output_type": "execute_result"
    }
   ],
   "source": [
    "a = make_almost_ordered_array(10, 0.5); a"
   ]
  },
  {
   "cell_type": "code",
   "execution_count": 27,
   "metadata": {},
   "outputs": [],
   "source": [
    "def timing_sort_udordered(fun, method_gap, count, part_unorder):\n",
    "    a = make_almost_ordered_array(count, part_unorder)\n",
    "    start = time.time()\n",
    "    fun(a, method_gap)        \n",
    "    stop = time.time()\n",
    "    return stop - start"
   ]
  },
  {
   "cell_type": "code",
   "execution_count": 28,
   "metadata": {},
   "outputs": [
    {
     "name": "stdout",
     "output_type": "stream",
     "text": [
      "shell - 31.24312925338745\n",
      "frank_lazarus - 29.026153564453125\n",
      "hibbard - 30.06852078437805\n",
      "papernov_stasevich - 28.352607488632202\n",
      "sedgewick_82 - 20.052695989608765\n",
      "sedgewick_86 - 20.17909860610962\n",
      "tokuda_92 - 19.44294548034668\n"
     ]
    }
   ],
   "source": [
    "count = 3000000\n",
    "part_unorder = 0.05\n",
    "for name, item in methods.items():\n",
    "    print('{} - {}'.format(name, timing_sort_udordered(shell_sort_2, item, count, part_unorder)))"
   ]
  },
  {
   "cell_type": "markdown",
   "metadata": {},
   "source": [
    "### heap sort почти отсортированного массива"
   ]
  },
  {
   "cell_type": "code",
   "execution_count": 29,
   "metadata": {},
   "outputs": [
    {
     "name": "stdout",
     "output_type": "stream",
     "text": [
      "heap sort - 23.513394832611084\n"
     ]
    }
   ],
   "source": [
    "count = 3000000\n",
    "part_unorder = 0.05\n",
    "a = make_almost_ordered_array(count, part_unorder)\n",
    "print(f'heap sort - {timing_heap_sort(a, count)}')"
   ]
  },
  {
   "cell_type": "markdown",
   "metadata": {},
   "source": [
    "# Выводы"
   ]
  },
  {
   "cell_type": "raw",
   "metadata": {},
   "source": [
    "Лучший вариант сортировки - сортировка Шелла, с разбиеним шагов по Tokuda 1992г.\n",
    "Пирамидальная сортировка  - незначительно отстает от сортировки Шелла, с разбиением шагов по Tokudo, и сопоставима с сортировкой Шелла, с разбиением шагов по Sedgewick.\n",
    "C почти отсортированным массивом, работают быстрее и сортировка Шелла и пирамидальная сортировка, но сортировка Шелла с разбиением шагов по Tokudo и Sedgewick - быстрее.\n",
    "Прирост скорости сортировки при почти отсортированном  массиве - больше при сортировке Шелла."
   ]
  },
  {
   "cell_type": "code",
   "execution_count": null,
   "metadata": {},
   "outputs": [],
   "source": []
  }
 ],
 "metadata": {
  "kernelspec": {
   "display_name": "Python 3",
   "language": "python",
   "name": "python3"
  },
  "language_info": {
   "codemirror_mode": {
    "name": "ipython",
    "version": 3
   },
   "file_extension": ".py",
   "mimetype": "text/x-python",
   "name": "python",
   "nbconvert_exporter": "python",
   "pygments_lexer": "ipython3",
   "version": "3.7.3"
  }
 },
 "nbformat": 4,
 "nbformat_minor": 2
}
